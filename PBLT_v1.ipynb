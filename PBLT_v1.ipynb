{
 "cells": [
  {
   "cell_type": "code",
   "execution_count": 1,
   "metadata": {},
   "outputs": [
    {
     "name": "stderr",
     "output_type": "stream",
     "text": [
      "/Users/jwbaskerv/Envs/pblt/lib/python3.6/site-packages/h5py/__init__.py:36: FutureWarning: Conversion of the second argument of issubdtype from `float` to `np.floating` is deprecated. In future, it will be treated as `np.float64 == np.dtype(float).type`.\n",
      "  from ._conv import register_converters as _register_converters\n"
     ]
    }
   ],
   "source": [
    "import numpy as np\n",
    "from qutip import *\n",
    "from scipy.optimize import minimize\n",
    "import h5py\n",
    "import matplotlib.pyplot as plt\n",
    "import sys\n",
    "import pickle\n",
    "import time"
   ]
  },
  {
   "cell_type": "markdown",
   "metadata": {},
   "source": [
    "#### Parameters\n",
    "\n",
    "For n qubits, we need n(n-1) + 2n arbitary rotation gates, with 3 parameters each.\n",
    "\n",
    "https://arxiv.org/abs/1612.02806"
   ]
  },
  {
   "cell_type": "code",
   "execution_count": 2,
   "metadata": {},
   "outputs": [],
   "source": [
    "# functions for pickling (saving) arbitrary objects\n",
    "# necessary because HDFsav5 cannot easily save objects such as dictionaries\n",
    "def save_obj(obj, name):\n",
    "    with open('pickle/'+ name + '.pkl', 'wb') as f:\n",
    "        pickle.dump(obj, f, pickle.HIGHEST_PROTOCOL)\n",
    "\n",
    "def load_obj(name):\n",
    "    with open('pickle/' + name + '.pkl', 'rb') as f:\n",
    "        return pickle.load(f)"
   ]
  },
  {
   "cell_type": "markdown",
   "metadata": {},
   "source": [
    "### QuTip Implementation"
   ]
  },
  {
   "cell_type": "markdown",
   "metadata": {},
   "source": [
    "#### QuTip Helper Functions"
   ]
  },
  {
   "cell_type": "code",
   "execution_count": 3,
   "metadata": {},
   "outputs": [],
   "source": [
    "# apply given single-qubit gate to any qubit in system of n qubits\n",
    "def tgtgate(n, gate, tgt):\n",
    "    lst = [qeye(2) for _ in range(n)]\n",
    "    lst[tgt] = gate\n",
    "    return tensor(lst)\n",
    "\n",
    "# create tensored identity in hilbert space of n qubits\n",
    "def tenseye(n):\n",
    "    return tensor([qeye(2) for _ in range(n)])\n",
    "\n",
    "# create operator from product of all gates in a circuit\n",
    "def gate_prod(n, gates):\n",
    "    prod = tenseye(n)\n",
    "    for gate in gates:\n",
    "        prod = prod * gate\n",
    "    return prod"
   ]
  },
  {
   "cell_type": "markdown",
   "metadata": {},
   "source": [
    "#### Arbitrary Rotation Gates (single-qubit and controlled)"
   ]
  },
  {
   "cell_type": "code",
   "execution_count": 4,
   "metadata": {},
   "outputs": [],
   "source": [
    "# https://arxiv.org/abs/quant-ph/9503016\n",
    "\n",
    "# ROT = Rz(alpha) * Ry(theta) * Rz(beta)\n",
    "def rot(n, params, tgt):\n",
    "    alpha, theta, beta = params\n",
    "    return rz(alpha, n, tgt)*ry(theta, n, tgt)*rz(beta, n, tgt)\n",
    "\n",
    "# CROT = A * CNOT * B * CNOT * C\n",
    "# A = Rz(alpha)*Ry(theta / 2)\n",
    "# B = Ry(-theta / 2) * Rz(-(alpha + beta) / 2)\n",
    "# C = Rz((beta - alpha) / 2)\n",
    "def ctrl_rot(n, params, ctrl, tgt):\n",
    "    alpha, theta, beta = params\n",
    "    A = rz(alpha, n, tgt) * ry(theta / 2.0, n, tgt)\n",
    "    B = ry(-theta / 2.0, n, tgt) * rz(-(alpha + beta) / 2.0, n, tgt)\n",
    "    C = rz((beta - alpha) / 2.0, n, tgt)\n",
    "    \n",
    "    # these should ALWAYS be true, no matter the values of parameters\n",
    "#     if not (A*B*C == tenseye(n)):\n",
    "#         tb = sys.exc_info()[2]\n",
    "#         raise RuntimeError(\"ABC not equal to identity\").with_traceback(tb)\n",
    "#     elif not (A*tgtgate(n, sigmax(), tgt)*B*tgtgate(n, sigmax(), tgt)*C == rot(n, params, tgt)):\n",
    "#         tb = sys.exc_info()[2]\n",
    "#         raise RuntimeError(\"AXBXC not equal to correct rotation gate\").with_traceback(tb)\n",
    "    \n",
    "    return A * cnot(n, ctrl, tgt) * B * cnot(n, ctrl, tgt) * C"
   ]
  },
  {
   "cell_type": "markdown",
   "metadata": {},
   "source": [
    "#### Parameter Manipulation"
   ]
  },
  {
   "cell_type": "code",
   "execution_count": 5,
   "metadata": {},
   "outputs": [],
   "source": [
    "def init_consts(n_qubits):\n",
    "    n_gates = n_qubits * (n_qubits - 1) + 2 * n_qubits\n",
    "    n_params = n_gates * 3\n",
    "    return n_gates, n_params\n",
    "\n",
    "def init_params(n_params, method=np.zeros):\n",
    "    return method(n_params)\n",
    "\n",
    "def split_params(n_qs, params):\n",
    "    return (params[:3*n_qs].reshape(n_qs, 3),\n",
    "            params[3*n_qs:-3*n_qs].reshape(n_qs, n_qs-1, 3),\n",
    "            params[-3*n_qs:].reshape(n_qs, 3))\n",
    "\n",
    "def recombine_params(first, mid, last):\n",
    "    return np.concatenate((first.flatten(), mid.flatten(), last.flatten()))"
   ]
  },
  {
   "cell_type": "markdown",
   "metadata": {},
   "source": [
    "#### Circuit\n",
    "The circuit outlined in red below is the unitary gate for encoding (in this case, for 4 qubit inputs).\n",
    "![arbitrary_rotation_gate_circuit](https://image.ibb.co/ji9XBc/unit_cell_arb_rot.png)"
   ]
  },
  {
   "cell_type": "code",
   "execution_count": 6,
   "metadata": {},
   "outputs": [],
   "source": [
    "# # create circuit from parameters\n",
    "# def get_circuit_gates(num_gates, params):\n",
    "#     gates = np.array([tenseye(4) for _ in range(num_gates)])\n",
    "\n",
    "#     # R1 - R4\n",
    "#     for gate_num in range(0, 4):\n",
    "#         alpha, theta, beta = params[gate_num]\n",
    "#         gates[gate_num] = arb_rot(n, alpha, theta, beta, gate_num - 0)\n",
    "\n",
    "#     # R5 - R7 controlled by qubit 0\n",
    "#     for gate_num in range(4, 7):\n",
    "#         control = 0\n",
    "#         targets = [1, 2, 3]\n",
    "#         alpha, theta, beta = params[gate_num]\n",
    "#         gates[gate_num] = ctrl_rot(n, alpha, theta, beta, control, targets[gate_num - 4])\n",
    "\n",
    "#     # R8 - R10 controlled by qubit 1\n",
    "#     for gate_num in range(7, 10):\n",
    "#         control = 1\n",
    "#         targets = [0, 2, 3]\n",
    "#         alpha, theta, beta = params[gate_num]\n",
    "#         gates[gate_num] = ctrl_rot(n, alpha, theta, beta, control, targets[gate_num - 7])\n",
    "\n",
    "#     # R11 - R13 controlled by qubit 2\n",
    "#     for gate_num in range(10, 13):\n",
    "#         control = 2\n",
    "#         targets = [0, 1, 3]\n",
    "#         alpha, theta, beta = params[gate_num]\n",
    "#         gates[gate_num] = ctrl_rot(n, alpha, theta, beta, control, targets[gate_num - 10])\n",
    "\n",
    "#     # R14 - R16 controlled by qubit 3\n",
    "#     for gate_num in range(13, 16):\n",
    "#         control = 3\n",
    "#         targets = [0, 1, 2]\n",
    "#         alpha, theta, beta = params[gate_num]\n",
    "#         gates[gate_num] = ctrl_rot(n, alpha, theta, beta, control, targets[gate_num - 13])\n",
    "\n",
    "#     # R17 - R20\n",
    "#     for gate_num in range(16, 20):\n",
    "#         alpha, theta, beta = params[gate_num]\n",
    "#         gates[gate_num] = arb_rot(n, alpha, theta, beta, gate_num - 16)\n",
    "\n",
    "#     return gates"
   ]
  },
  {
   "cell_type": "code",
   "execution_count": 7,
   "metadata": {},
   "outputs": [],
   "source": [
    "# gate_product = gate_prod(n, gates)\n",
    "# gate_product"
   ]
  },
  {
   "cell_type": "markdown",
   "metadata": {},
   "source": [
    "#### Circuit Implementation"
   ]
  },
  {
   "cell_type": "code",
   "execution_count": 8,
   "metadata": {},
   "outputs": [],
   "source": [
    "# The n rotation gates (one on each qubit) that happen at the start and end.\n",
    "def wrapper_gate(n, param_sets):\n",
    "    if len(param_sets) != n:\n",
    "        raise ValueError('number of sets of params should correspond to number of gates')\n",
    "    gates = []\n",
    "    for tgt, rot_params in enumerate(param_sets):\n",
    "        gates.append(rot(n, rot_params, tgt))\n",
    "    return gate_prod(n, gates)\n",
    "\n",
    "# The n-1 gates in each \"blue box\" (set of controlled rotation gates)\n",
    "def blue_box_gate(n, params, ctrl):\n",
    "    p_index = 0\n",
    "    gates = []\n",
    "    for tgt in range(n):\n",
    "        #print (tgt, ctrl)\n",
    "        if tgt == ctrl:\n",
    "            continue\n",
    "        rot_params = params[p_index]\n",
    "        p_index += 1\n",
    "        gates.append(ctrl_rot(n, rot_params, ctrl, tgt))\n",
    "    return gate_prod(n, gates)\n",
    "\n",
    "# The circuit as a whole -- front wrapper, blue boxes, back wrapper\n",
    "def create_circuit_gate(n, all_params):\n",
    "    params = np.array(all_params)\n",
    "    gates = []\n",
    "    \n",
    "    # split parameters\n",
    "    f, m, b = split_params(n, params)\n",
    "    \n",
    "    # front wrapper\n",
    "    gates.append(wrapper_gate(n, f))\n",
    "    \n",
    "    # blue boxes\n",
    "    for i in range(n):\n",
    "        gates.append(blue_box_gate(n, m[i], i))\n",
    "    \n",
    "    # back wrapper\n",
    "    gates.append(wrapper_gate(n, b))\n",
    "    \n",
    "    return gate_prod(n, gates)"
   ]
  },
  {
   "cell_type": "code",
   "execution_count": 9,
   "metadata": {},
   "outputs": [],
   "source": [
    "# # given input state and output state, returns estimated fidelity\n",
    "# #     we can cast to integer because this is the norm squared\n",
    "# #     there's no longer any complex component\n",
    "# def overlap(inp, oup):\n",
    "#     ol = inp.overlap(oup)\n",
    "#     return int(ol * ol.conj())\n",
    "# v_overlap = np.vectorize(overlap)\n",
    "\n",
    "# # return objective to minimize for scipy optimizers\n",
    "# #     given N data points\n",
    "# #     params: parameters to tune\n",
    "# #     args: [n, ...bunch_of_instates_to_train_on...]\n",
    "# def obj_func(params, *args):\n",
    "#     n = args[0]\n",
    "#     in_states = args[1:]\n",
    "    \n",
    "#     # create encoding operator from parameters of the rotation gates\n",
    "#     encoding_op = create_circuit_gate(n, params)\n",
    "    \n",
    "#     # apply encoding circuit to all training data\n",
    "#     # (should probably split this up into epochs)\n",
    "#     out_states = encoding_op * in_states\n",
    "    \n",
    "#     overlaps = 1 - v_overlap(in_states, out_states)\n",
    "#     return sum(overlaps)"
   ]
  },
  {
   "cell_type": "code",
   "execution_count": 10,
   "metadata": {},
   "outputs": [],
   "source": [
    "# # create qubit from a rand float\n",
    "# def qubit(a, b):    \n",
    "#     # random phase shifts\n",
    "#     if np.random.rand() <= 0.5:\n",
    "#         a = a * 1.0j\n",
    "#     if np.random.rand() <= 0.5:\n",
    "#         b = b * 1.0j\n",
    "#     return Qobj([[a],[b]]).unit()\n",
    "# v_qubit = np.vectorize(qubit)\n",
    "\n",
    "# def gen_data(n_orig, n_enc, data_count=100):\n",
    "#     if n_orig < n_enc:\n",
    "#         raise ValueError, \"\"\n",
    "#     assert(n_orig >= n_enc)\n",
    "#     data = []\n",
    "    \n",
    "#     # choose which qubits to exclude\n",
    "#     excluded = np.random.choice(range(n_orig), size=(n_orig - n_enc), replace=False)\n",
    "    \n",
    "#     # set shape matrix\n",
    "#     shape = [2]*n_orig\n",
    "    \n",
    "#     # generate data\n",
    "#     for _ in range(data_count):\n",
    "#         qubits = v_qubit(2 * np.random.random(n_orig) - 1, 2 * np.random.random(n_orig) - 1)\n",
    "#         qubits[excluded] = basis(2,0)\n",
    "#         data.append((tensor(qubits)).unit())\n",
    "        \n",
    "#     return np.array(data)"
   ]
  },
  {
   "cell_type": "code",
   "execution_count": 11,
   "metadata": {},
   "outputs": [],
   "source": [
    "# data = gen_data(2,1,data_count=1000)\n",
    "# initial_params = init_params(num_params)\n",
    "# data[:5]\n",
    "# # minimize(obj_func, initial_params, method='Nelder-Mead')"
   ]
  },
  {
   "cell_type": "code",
   "execution_count": 12,
   "metadata": {},
   "outputs": [],
   "source": [
    "# U = sigmax()\n",
    "# instates = np.array([Qobj([[0],[1]]), Qobj([[1],[0]])])\n",
    "# outstates = U*instates\n",
    "# sum(1-v_overlap(instates, outstates))"
   ]
  },
  {
   "cell_type": "markdown",
   "metadata": {},
   "source": [
    "## Density Matrix Overview:\n",
    "\n",
    "In order to understand how the cost function is computed for the autoencoder, we will need to describe our system in terms of density matricies. Density matrices are useful because they describe ensemble behavior of quantum experiments - which are often the result of imperfect quantum manipulations.\n",
    "\n",
    "To this point in ES170 we have dealt only with pure states - where the quantum state of the system inputs and outputs can be described by a single state vector.\n",
    "\n",
    "In practice we can have states which are a probablilistic ensemble of pure states. Note that this is fundamentally different from a superposition. We will explore describe this distinction explicitly below. Density matrices are a useful tool for describing this more general class of ensemble states.\n",
    "\n",
    "The following examples will illustrate the mechanics of density matrices.\n",
    "\n",
    "For a pure state, $|\\psi>$ the density matrix (sometimes called the density operator) is given by the following:\n",
    "\n",
    "$\\rho = |\\psi><\\psi|$\n",
    "\n",
    "For a single bit system, expressed in the $\\{|0>,|1>\\}$ basis, the density matrix elements are thus:\n",
    "\n",
    "$\\rho_{11} = <0|\\rho|0>$\n",
    "\n",
    "$\\rho_{12} = <0|\\rho|1>$\n",
    "\n",
    "$\\rho_{21} = <1|\\rho|0>$\n",
    "\n",
    "$\\rho_{12} = <1|\\rho|1>$\n",
    "\n",
    "With some simple dirac manipulation, we can see that the entries of the density matrix are probabilities. For example, $\\rho_{11}$ is the probability of measuring $|\\psi>$ in state zero.\n",
    "\n",
    "As an example, we construct the density matrix for basis states:"
   ]
  },
  {
   "cell_type": "code",
   "execution_count": 13,
   "metadata": {},
   "outputs": [
    {
     "data": {
      "text/latex": [
       "Quantum object: dims = [[2], [2]], shape = (2, 2), type = oper, isherm = True\\begin{equation*}\\left(\\begin{array}{*{11}c}1.0 & 0.0\\\\0.0 & 0.0\\\\\\end{array}\\right)\\end{equation*}"
      ],
      "text/plain": [
       "Quantum object: dims = [[2], [2]], shape = (2, 2), type = oper, isherm = True\n",
       "Qobj data =\n",
       "[[1. 0.]\n",
       " [0. 0.]]"
      ]
     },
     "execution_count": 13,
     "metadata": {},
     "output_type": "execute_result"
    }
   ],
   "source": [
    "# Basis state 0 \n",
    "q0 = basis(2,0)\n",
    "\n",
    "rho = q0*q0.dag()\n",
    "\n",
    "rho"
   ]
  },
  {
   "cell_type": "code",
   "execution_count": 14,
   "metadata": {},
   "outputs": [
    {
     "data": {
      "text/latex": [
       "Quantum object: dims = [[2], [2]], shape = (2, 2), type = oper, isherm = True\\begin{equation*}\\left(\\begin{array}{*{11}c}1.0 & 0.0\\\\0.0 & 0.0\\\\\\end{array}\\right)\\end{equation*}"
      ],
      "text/plain": [
       "Quantum object: dims = [[2], [2]], shape = (2, 2), type = oper, isherm = True\n",
       "Qobj data =\n",
       "[[1. 0.]\n",
       " [0. 0.]]"
      ]
     },
     "execution_count": 14,
     "metadata": {},
     "output_type": "execute_result"
    }
   ],
   "source": [
    "# note the following function also works\n",
    "ket2dm(q0)"
   ]
  },
  {
   "cell_type": "code",
   "execution_count": 15,
   "metadata": {},
   "outputs": [
    {
     "data": {
      "text/latex": [
       "Quantum object: dims = [[2], [2]], shape = (2, 2), type = oper, isherm = True\\begin{equation*}\\left(\\begin{array}{*{11}c}0.0 & 0.0\\\\0.0 & 1.0\\\\\\end{array}\\right)\\end{equation*}"
      ],
      "text/plain": [
       "Quantum object: dims = [[2], [2]], shape = (2, 2), type = oper, isherm = True\n",
       "Qobj data =\n",
       "[[0. 0.]\n",
       " [0. 1.]]"
      ]
     },
     "execution_count": 15,
     "metadata": {},
     "output_type": "execute_result"
    }
   ],
   "source": [
    "# For basis state 1\n",
    "q1 = basis(2,1)\n",
    "\n",
    "ket2dm(q1)"
   ]
  },
  {
   "cell_type": "markdown",
   "metadata": {},
   "source": [
    "These pure, orthogonal basis states are equivalent to fock (photon number) states, and qutip has a built in function:"
   ]
  },
  {
   "cell_type": "code",
   "execution_count": 16,
   "metadata": {},
   "outputs": [
    {
     "data": {
      "text/latex": [
       "Quantum object: dims = [[2], [2]], shape = (2, 2), type = oper, isherm = True\\begin{equation*}\\left(\\begin{array}{*{11}c}0.0 & 0.0\\\\0.0 & 1.0\\\\\\end{array}\\right)\\end{equation*}"
      ],
      "text/plain": [
       "Quantum object: dims = [[2], [2]], shape = (2, 2), type = oper, isherm = True\n",
       "Qobj data =\n",
       "[[0. 0.]\n",
       " [0. 1.]]"
      ]
     },
     "execution_count": 16,
     "metadata": {},
     "output_type": "execute_result"
    }
   ],
   "source": [
    "fock_dm(2,1)"
   ]
  },
  {
   "cell_type": "markdown",
   "metadata": {},
   "source": [
    "Nice! We can simply read the probability of the system being in state zero or one by looking at the diagonal entries. What happens for a superpostion?"
   ]
  },
  {
   "cell_type": "code",
   "execution_count": 17,
   "metadata": {},
   "outputs": [
    {
     "data": {
      "text/latex": [
       "Quantum object: dims = [[2], [2]], shape = (2, 2), type = oper, isherm = True\\begin{equation*}\\left(\\begin{array}{*{11}c}0.500 & 0.500\\\\0.500 & 0.500\\\\\\end{array}\\right)\\end{equation*}"
      ],
      "text/plain": [
       "Quantum object: dims = [[2], [2]], shape = (2, 2), type = oper, isherm = True\n",
       "Qobj data =\n",
       "[[0.5 0.5]\n",
       " [0.5 0.5]]"
      ]
     },
     "execution_count": 17,
     "metadata": {},
     "output_type": "execute_result"
    }
   ],
   "source": [
    "# equal superposition state\n",
    "q = 1/np.sqrt(2)*(basis(2,0)+basis(2,1))\n",
    "\n",
    "ket2dm(q)"
   ]
  },
  {
   "cell_type": "markdown",
   "metadata": {},
   "source": [
    "For a superposition we have off diagonal terms! These off-diagonal terms have important physical meaning (in some cases can be interpreted as coherence). For now we'll ignore that.\n",
    "\n",
    "The most important property is that for a pure state, the trace (sum of diagonals) of the density matrix is 1. This is related exactly to the normalized nature of a pure state."
   ]
  },
  {
   "cell_type": "code",
   "execution_count": 18,
   "metadata": {},
   "outputs": [
    {
     "data": {
      "text/plain": [
       "0.9999999999999998"
      ]
     },
     "execution_count": 18,
     "metadata": {},
     "output_type": "execute_result"
    }
   ],
   "source": [
    "ket2dm(q).tr()"
   ]
  },
  {
   "cell_type": "markdown",
   "metadata": {},
   "source": [
    "Now let's consider a statistical ensemble of pure states. For example, imagine we prepare a _set_ of qubits, half in state zero and half in state one. We could measure these qubits in sequence and build up a statistical interpretation of the initial state. \n",
    "\n",
    "This statistical outcome can be expressed as an ensemble state:\n",
    "\n",
    "$|\\Psi> = \\frac{1}{2}|0> + \\frac{1}{2}|1>$\n",
    "\n",
    "For which the density matrix is defined:\n",
    "\n",
    "$\\rho = \\sum\\limits_{i}{p_i|\\psi_i><\\psi_i|}$"
   ]
  },
  {
   "cell_type": "code",
   "execution_count": 19,
   "metadata": {},
   "outputs": [
    {
     "data": {
      "text/latex": [
       "Quantum object: dims = [[2], [2]], shape = (2, 2), type = oper, isherm = True\\begin{equation*}\\left(\\begin{array}{*{11}c}0.250 & 0.250\\\\0.250 & 0.250\\\\\\end{array}\\right)\\end{equation*}"
      ],
      "text/plain": [
       "Quantum object: dims = [[2], [2]], shape = (2, 2), type = oper, isherm = True\n",
       "Qobj data =\n",
       "[[0.25 0.25]\n",
       " [0.25 0.25]]"
      ]
     },
     "execution_count": 19,
     "metadata": {},
     "output_type": "execute_result"
    }
   ],
   "source": [
    "q = 1/2*basis(2,0) + 1/2*basis(2,1)\n",
    "\n",
    "ket2dm(q)"
   ]
  },
  {
   "cell_type": "markdown",
   "metadata": {},
   "source": [
    "### Probabilities of Pure and Mixed States:\n",
    "How can we tell this is not a pure state? By looking at the trace of the density matrix. \n",
    "\n",
    "$\\text{Tr}[\\rho] < 1 \\implies \\text{Mixed State}$\n",
    "\n",
    "\n",
    "The trace in this case is less than 1, indicating a statistical mixture. Actually, in this case we have what is a maximally mixed state:\n",
    "\n",
    "$\\text{Tr}[\\rho_{max}] = 1/D$ where $D$ is the dimensionality of the system. In the case of qubits D = 2."
   ]
  },
  {
   "cell_type": "code",
   "execution_count": 20,
   "metadata": {},
   "outputs": [
    {
     "data": {
      "text/plain": [
       "0.5"
      ]
     },
     "execution_count": 20,
     "metadata": {},
     "output_type": "execute_result"
    }
   ],
   "source": [
    "ket2dm(q).tr()"
   ]
  },
  {
   "cell_type": "markdown",
   "metadata": {},
   "source": [
    "### Transformation of Density Matrices:\n",
    "\n",
    "Note that density matrices undergo unitary transformation as follows:\n",
    "\n",
    "$\\rho = |\\psi><\\psi|$\n",
    "\n",
    "$\\rho' = |\\psi'><\\psi'|$\n",
    "\n",
    "$|\\psi'> = U|\\psi>$ and $ <\\psi'| =  <\\psi|U^{\\dagger}$\n",
    "\n",
    "$ \\implies \\rho' = U|\\psi><\\psi|U^{\\dagger}$\n",
    "\n",
    "$ \\implies \\rho' = U\\rho U^{\\dagger}$"
   ]
  },
  {
   "cell_type": "markdown",
   "metadata": {},
   "source": [
    "## The Cost Fuction:\n",
    "\n",
    "Consider an input ensemble state $\\{p_i,|\\psi_i\\rangle\\}$, where $p_i$ are ensemble probabilities of each pure state, $|\\psi_i\\rangle$. Note that ${|\\psi_i\\rangle}$ are  not necessarily orthonormal. The density matrix is given by the following:\n",
    "\n",
    "$\\rho = \\sum\\limits_{i}{p_i|\\psi_i\\rangle\\langle\\psi_i|}$\n",
    "\n",
    "e.g. if our state turns out to be pure for a pure state (e.g. $|\\psi_0\\rangle$), the ensemble set reduces to $\\{1,|\\psi_0\\rangle\\}$.\n",
    "\n",
    "The autoencoder cost function is given by:\n",
    "\n",
    "$C_2(q) = \\sum\\limits_{i}{p_i \\times F(Tr_{A}[U^{q}|\\psi_i\\rangle\\langle\\psi_i|_{AB}(U^{q})^{\\dagger}],|a\\rangle_{B})}$\n",
    "\n",
    "$C_2(q) = {F(Tr_{A}[U^{q}\\rho_{AB}(U^{q})^{\\dagger}],\\rho_{out,B})}$\n",
    "\n",
    "where $q$ is the set of parameters used to form the arbitrary transformation matrix $U^q$, and $\\rho_{out,B}$ our trash state. Performing the partial trace over A, reduces the n+k dimensional density matrix to a k dimensional density matrix corresponding only to the trash state subspace.\n",
    "\n",
    "Here is a translation of the math into code: \n",
    "* Input state can be, in general, an ensemble state decomposed as $\\{p_i,|\\psi_i\\rangle\\}$\n",
    "* Represent this set of states as a density matrix\n",
    "* Apply the autoencoder transform U to the state, with parameters q\n",
    "* Take a partial trace over the trash subset of the transformed density matrix to recover the trash state density matrix\n",
    "* Using a fidelity function, compare the trash state density matrix to the ancillary state density matrix (in our case zeros)\n",
    "\n",
    "We can take the output of the cost function and feedback into the minimizer to find the encoding transformation."
   ]
  },
  {
   "cell_type": "markdown",
   "metadata": {},
   "source": [
    "Qutip Partial Trace: http://qutip.org/docs/3.1.0/guide/guide-tensor.html\n",
    "* example of partial trace function\n",
    "* ket to density matrix function\n",
    "\n",
    "Qutip Fidelity Function: http://qutip.org/docs/3.1.0/apidoc/functions.html\n",
    "* Search fidelity - computes the fidelity of two density matrices"
   ]
  },
  {
   "cell_type": "code",
   "execution_count": 21,
   "metadata": {},
   "outputs": [
    {
     "name": "stdout",
     "output_type": "stream",
     "text": [
      "0.9999999999999996\n",
      "[0.25, 0.25]\n",
      "Quantum object: dims = [[2], [2]], shape = (2, 2), type = oper, isherm = True\n",
      "Qobj data =\n",
      "[[0.5 0. ]\n",
      " [0.  0.5]]\n",
      "Quantum object: dims = [[2], [2]], shape = (2, 2), type = oper, isherm = True\n",
      "Qobj data =\n",
      "[[0.25 0.25]\n",
      " [0.25 0.25]]\n"
     ]
    }
   ],
   "source": [
    "# Cost Function Testing:\n",
    "p = [0.5,0.5]\n",
    "pure = [1,1]\n",
    "psi = [basis(2,0),basis(2,1)]\n",
    "psi_pure = 1/np.sqrt(2)*(basis(2,0)+basis(2,1))\n",
    "psi_mixed = 1/2*(basis(2,0)+basis(2,1))\n",
    "\n",
    "C1 = np.sum(fidelity(ket2dm(psi_pure),ket2dm(psi_pure)))\n",
    "print(C1)\n",
    "\n",
    "C1 = [p[i]*fidelity(ket2dm(psi[i]),ket2dm(psi_mixed)) for i in range(len(psi))]\n",
    "print(C1)\n",
    "\n",
    "print(1/2*ket2dm(psi[0])+1/2*ket2dm(psi[1]))\n",
    "\n",
    "print(ket2dm(1/2*psi[0]+1/2*psi[1]))"
   ]
  },
  {
   "cell_type": "code",
   "execution_count": 22,
   "metadata": {},
   "outputs": [],
   "source": [
    "# Cost function implementation from the paper:\n",
    "n = 5\n",
    "k = 2\n",
    "\n",
    "trashdm = ket2dm(tensor([basis(2,0) for _ in range(k)]))\n",
    "\n",
    "# This version is broken down in terms of basis vectors and ensemble probabilities:\n",
    "#C2 = np.sum([p_set[i] * fidelity((U*ket2dm(psi_set[i])*U.dag()).ptrace(np.arange(n,n+k)),trashdm) for i in range(len(psi_set))])\n",
    "\n",
    "# # This version composes the input density matrix from the ensemble set of input states, then performs the transform:\n",
    "# inputdm = np.sum([p_set[i] * ket2dm(psi_set[i]) for i in range(len(psi_set))])\n",
    "# C2 = fidelity((U*inputdm*U.dag()).ptrace(np.arange(n,n+k)),trashdm)"
   ]
  },
  {
   "cell_type": "markdown",
   "metadata": {},
   "source": [
    "## Hydrogen Wavefunction Training Set:\n",
    "\n",
    "In the infamous article, the authors test the autoencoder with a set of ground state wavefunctions of molecular hydrogen. The autoencoder is trained with a subset of 6 ground state wavefunctions at different radial H-H distances, and then the encoder is tested on states at other radii. The Hamiltonian for molecular hydrogen can be solved numerically (classically), which would give us a benchmark for the performance of the autoencoder. We are considering to also implement this set of test states - though it is proving to be challenging!\n",
    "\n",
    "The Hamiltonian for molecular hydrogen, under the Born-Oppenheimer non-relativistic approximation is given by:\n",
    "\n",
    "$H = h_{nuc} +\\sum\\limits_{pq}h_{pq}a_p^{\\dagger}a_q^{\\dagger} + \\frac{1}{2}\\sum\\limits_{pqrs}h_{pqrs}a_p^{\\dagger}a_q^{\\dagger}a_r a_s$\n",
    "\n",
    "There are a few terms here: a nuclear term $h_{nuc}$, a single electron term, and a two electron term, with corresponding electron integrals $h_{pq}$ and $h_{pqrs}$. These terms express the probabilities of electrons occupying different molecular orbitals (e.g. $a_p^{\\dagger}$ creates an electron in spin-orbital $p$).\n",
    "\n",
    "As in the case of qubits, we are free to choose the basis of this Hamiltonian to be whatever we like. In quantum chemistry, we choose a basis which corresponds to a specific set of orthogonal electron orbitals. Often, this basis is selected with the convenience of calculation in mind. For example, the STO-6G hydrogen minimal basis set is one such basis set which is optimized for numerical approximation (the details of which we will perhaps need to explore later).\n",
    "\n",
    "Furthermore, in order to map this Hamiltonian to a quantum computer, we need to decompose it as a set of pauli rotation operations on single qubits. This is done by either the Bravi-Kitaev (BK) or Jordan-Wigner (JW) transformations. The result of the JW transformed Hamiltonian in the STO-6G basis is as follows:\n",
    "\n",
    "$H = c_0 I\n",
    "+ c_1 (Z_0 + Z_1) \n",
    "+ c_2 (Z_2 + Z_3)\n",
    "+ c_3 (Z_0 Z_1)\n",
    "+ c_4 (Z_0 Z_2 + Z_1 Z_3)\n",
    "+ c_5 (Z_1 Z_2 + Z_0 Z_3)\n",
    "+ c_6 (Z_2 Z_3)\n",
    "+ c_7 (Y_0 X_1 X_2 Y_3 - X_0 X_1 Y_2 Y_3 - Y_0 Y_1 X_2 X_3 + X_0 Y_1 Y_2 X_3)$\n",
    "\n",
    "Where $X_n, Y_n, Z_n$ are a pauli matrices acting on the $n$th qubit, and $c_n$ are coefficients which depend on the radial H-H distance.\n",
    "\n",
    "The Hamiltonian is implemented in qutip below: "
   ]
  },
  {
   "cell_type": "code",
   "execution_count": 23,
   "metadata": {},
   "outputs": [],
   "source": [
    "# # Reproducing the test set based on the STO-6G minimum basis set of hydrogen\n",
    "# # From paper:\n",
    "\n",
    "# def makepaulin(N,P):\n",
    "#     PN = []\n",
    "#     for n in range(N):\n",
    "#         tmp = [qeye(2) for _ in range(N)]\n",
    "#         tmp[n] = P\n",
    "#         Pn = tensor(tmp)\n",
    "#         PN.append(Pn)\n",
    "#     return PN\n",
    "\n",
    "# N=4\n",
    "# X = makepaulin(N,sigmax())\n",
    "# Y = makepaulin(N,sigmay())\n",
    "# Z = makepaulin(N,sigmaz())\n",
    "# IN = tensor([qeye(2) for _ in range(N)])\n",
    "\n",
    "# # setting all coefficients to 1\n",
    "# [c0,c1,c2,c3,c4,c5,c6,c7] = [1,1,1,1,1,1,1,1]\n",
    "    \n",
    "# H = (c0*IN + \n",
    "# c1*(Z[0]+Z[1]) + \n",
    "# c2*(Z[2]+Z[3]) + \n",
    "# c3*Z[0]*Z[1] + \n",
    "# c4*(Z[0]*Z[2] + Z[1]*Z[3]) + \n",
    "# c5*(Z[1]*Z[2]+Z[0]*Z[3]) + \n",
    "# c6*(Z[2]*Z[3]) + \n",
    "# c7*(Y[0]*X[1]*X[2]*Y[3] - X[0]*X[1]*Y[2]*Y[3] - Y[0]*Y[1]*X[2]*X[3] + X[0]*Y[1]*Y[2]*X[3]))\n",
    "\n",
    "# print(H)"
   ]
  },
  {
   "cell_type": "markdown",
   "metadata": {},
   "source": [
    "In order to advance from here, we need to compute the coefficients of this Hamiltonian (which depend on radial distance between H atoms), and solve the Schroedinger equation to find ground state energies (in Hartrees) at different distances to form the set of training states. \n",
    "\n",
    "I think this requires an optimized solver of Schroedinger's equation, which is beyond probably beyond the scope of this project to implement. We could also use a variational quantum eigensolver, but that requires it's own detailed investigation as well.\n",
    "\n",
    "One potential workaround could be to use PyQuante - a python library which is built to perform these kinds of caluculations (STO-6G hydrogen minimal basis set approximation). It's a dated python module, and thus far I've had version control issues getting it to integrate here.\n",
    "\n",
    "I have requested a chemsitry textbook from the library which might lay out the calculation in more detail for us.\n",
    "\n",
    "Until then we might need to think of a simpler test set or reach out to Zapata."
   ]
  },
  {
   "cell_type": "markdown",
   "metadata": {},
   "source": [
    "### Using Data from OpenFermion!!\n",
    "the bond lengths are stored in `bond_lengths.hdf5`\n",
    "\n",
    "each bond-length has a hamiltonian stored at `hamiltonians/sto-3g.<bond-length>.hdf5`"
   ]
  },
  {
   "cell_type": "code",
   "execution_count": 24,
   "metadata": {},
   "outputs": [],
   "source": [
    "# get the list of bond lengths for which we precomputed hamiltonians\n",
    "with h5py.File(\"bond_lengths.hdf5\", \"r\") as f:\n",
    "    try:\n",
    "        dset = f['bond_lengths']\n",
    "        bond_lengths = np.zeros(dset.shape)\n",
    "        dset.read_direct(bond_lengths)\n",
    "    except KeyError:\n",
    "        print(\"subgroup `bond_lengths` not in `bond_lengths.hdf5` data\")\n",
    "        \n",
    "if type(bond_lengths) == type(None):\n",
    "    print(\"failure to read bond lengths\")\n",
    "else:\n",
    "    bond_lengths = np.round(bond_lengths, 2)"
   ]
  },
  {
   "cell_type": "code",
   "execution_count": 25,
   "metadata": {},
   "outputs": [],
   "source": [
    "# list of hamiltonians\n",
    "hamiltonians = []\n",
    "\n",
    "for bond_length in bond_lengths:\n",
    "    hamiltonian = None\n",
    "    \n",
    "    # read hamiltonian from appropriate file\n",
    "    with h5py.File(\"hamiltonians/sto-3g.{}.hdf5\".format(round(bond_length, 2)), 'r') as f:\n",
    "        try:\n",
    "            dset = f['hamiltonian']\n",
    "            hamiltonian = dset[()]\n",
    "        except KeyError:\n",
    "            print(\"subgroup `hamiltonian` not in `hamiltonians/{}` data\".format(round(bond_length, 2)))\n",
    "    \n",
    "    if type(hamiltonian) == type(None):\n",
    "        print(\"failure to read hamiltonian for bond length {}\".format(round(bond_length, 2)))\n",
    "        continue\n",
    "    \n",
    "    # add hamiltonian to dictionary of hamiltonians\n",
    "    hamiltonians.append(Qobj(hamiltonian, dims=[[2,2,2,2],[2,2,2,2]]))\n",
    "    \n",
    "hamiltonians = np.array(hamiltonians)"
   ]
  },
  {
   "cell_type": "code",
   "execution_count": 26,
   "metadata": {},
   "outputs": [],
   "source": [
    "def get_groundstate(hamiltonian):\n",
    "    return hamiltonian.groundstate()\n",
    "groundstatize = np.vectorize(get_groundstate)"
   ]
  },
  {
   "cell_type": "code",
   "execution_count": 27,
   "metadata": {},
   "outputs": [],
   "source": [
    "# compute groundstates of molecular hamiltonians to use as training and testing data\n",
    "groundenergies, groundstates = groundstatize(hamiltonians)"
   ]
  },
  {
   "cell_type": "code",
   "execution_count": 28,
   "metadata": {},
   "outputs": [
    {
     "data": {
      "text/plain": [
       "(0, 2.5)"
      ]
     },
     "execution_count": 28,
     "metadata": {},
     "output_type": "execute_result"
    },
    {
     "data": {
      "image/png": "[encoded data removed]",
      "text/plain": [
       "<matplotlib.figure.Figure at 0x11362d940>"
      ]
     },
     "metadata": {},
     "output_type": "display_data"
    }
   ],
   "source": [
    "# plot hydrogen atom bond-length vs. ground-state energies\n",
    "# red points are those states selected for training, everything else is for testing\n",
    "plt.plot(bond_lengths, groundenergies, 'ob-')\n",
    "#plt.plot(bond_lengths[training_indices], groundenergies[training_indices], 'or')\n",
    "plt.ylim([-1.2, -0.8])\n",
    "plt.xlim([0, 2.5])"
   ]
  },
  {
   "cell_type": "markdown",
   "metadata": {},
   "source": [
    "### Train the Autoencoder!"
   ]
  },
  {
   "cell_type": "code",
   "execution_count": 29,
   "metadata": {},
   "outputs": [],
   "source": [
    "# this probably exists in sklearn\n",
    "\n",
    "def train_test_split(data, train_proportion, train_is=None):\n",
    "    \"\"\"\n",
    "    Divide data into training and test sets, using specific indices if given\n",
    "    \"\"\"\n",
    "    train_sz = int(np.round(len(data) * train_proportion))\n",
    "    training_indices, testing_indicies = [], []\n",
    "    \n",
    "    # use provided training indices, then fill in the rest\n",
    "    if train_is is not None:\n",
    "        training_indices = np.concatenate(\n",
    "            (train_is, np.random.choice([i for i in np.arange(len(data)) if i not in train_is], \n",
    "                                        train_sz - len(train_is), replace=False)))\n",
    "    else:\n",
    "        training_indices = np.random.choice(np.arange(len(data)), train_sz, replace=False)\n",
    "    \n",
    "    testing_indicies = np.array([i for i in range(len(data)) if i not in training_indices])\n",
    "    return data[training_indices], data[testing_indicies]"
   ]
  },
  {
   "cell_type": "code",
   "execution_count": 30,
   "metadata": {},
   "outputs": [],
   "source": [
    "def gen_dmify():\n",
    "    return np.vectorize(ket2dm)\n",
    "\n",
    "def gen_encodify(U):\n",
    "    return np.vectorize(lambda dm: U*dm*U.dag())\n",
    "\n",
    "def gen_ptracify(sel):\n",
    "    return np.vectorize(lambda dm: dm.ptrace(sel))\n",
    "\n",
    "def gen_fidelify(tr_dm):\n",
    "    return np.vectorize(lambda dm: fidelity(dm, tr_dm))\n",
    "\n",
    "# Cost function implementation from the paper:\n",
    "def cost(params, psi_set, n, k, sel, debug=False):\n",
    "    n_states = len(psi_set)\n",
    "    trashdm = ket2dm(tensor([basis(2,0) for _ in range(k)]))\n",
    "\n",
    "    U = create_circuit_gate(n + k, params)\n",
    "\n",
    "    dmify = gen_dmify()\n",
    "    encodify = gen_encodify(U)\n",
    "    ptracify = gen_ptracify(sel)\n",
    "    fidelify = gen_fidelify(trashdm)\n",
    "\n",
    "    # turn each state in the training set into a density matrix\n",
    "    dms = dmify(psi_set)\n",
    "    \n",
    "    # encode dms\n",
    "    encoded_dms = encodify(dms)\n",
    "\n",
    "    # Apply the encode/decode transformation and get the partial trace\n",
    "    ptrace_dms = ptracify(encoded_dms)  \n",
    "\n",
    "    # get fidelities\n",
    "    fidelities = fidelify(ptrace_dms)\n",
    "    \n",
    "    if debug:\n",
    "        print(\"parameters:\", params)\n",
    "        print(\"compression dimension ; trash dimension:\", n, \";\", k)\n",
    "        print(\"partial trace (trash) qubits:\", sel)\n",
    "        print(\"number of input states:\", n_states)\n",
    "        matrix_histogram(ptrace_dms[n_states - 1])\n",
    "        plt.show()\n",
    "        print(\"fidelities:\", fidelities)\n",
    "        print (\"cost\", 1 - np.sum(fidelities) / n_states)\n",
    "    \n",
    "    # compute cost, with probability weights equal\n",
    "    # print (\"cost\", 1 - np.sum(fidelities) / n_states)\n",
    "    return 1 - (np.sum(fidelities) / n_states)"
   ]
  },
  {
   "cell_type": "code",
   "execution_count": 31,
   "metadata": {},
   "outputs": [],
   "source": [
    "class CostInfo():\n",
    "    \"\"\"\n",
    "    Makes use of the 'cost' function as a method of a class that keeps track of\n",
    "    the cost at each iteration\n",
    "    \"\"\"\n",
    "    def __init__(self):\n",
    "        self.costs = []\n",
    "        \n",
    "    def class_cost(self, params, psi_set, n, k, sel, debug=False):\n",
    "        cost_res = cost(params, psi_set, n, k, sel, debug)\n",
    "        self.costs.append(cost_res)\n",
    "        return cost_res"
   ]
  },
  {
   "cell_type": "code",
   "execution_count": 32,
   "metadata": {},
   "outputs": [],
   "source": [
    "# calculate average fidelity over set of input states\n",
    "def avg_cost(c, num_states):\n",
    "    return c / num_states"
   ]
  },
  {
   "cell_type": "code",
   "execution_count": 33,
   "metadata": {
    "scrolled": true
   },
   "outputs": [],
   "source": [
    "n_gates, n_params = init_consts(4)\n",
    "\n",
    "# same training states as those in the paper\n",
    "lens = [7, 11, 16, 24, 33, 41]\n",
    "train_set = np.array(groundstates)[lens]\n",
    "test_set = np.array(groundstates)[[i for i in range(len(groundstates)) if i not in lens]]"
   ]
  },
  {
   "cell_type": "code",
   "execution_count": 35,
   "metadata": {
    "scrolled": true
   },
   "outputs": [
    {
     "name": "stdout",
     "output_type": "stream",
     "text": [
      "Iteration: 1\n",
      "Round 1 took 183 iterations\n",
      "Round 2 took 305 iterations\n",
      "Round 3 took 2379 iterations\n",
      "Iteration: 2\n",
      "Round 1 took 183 iterations\n",
      "Round 2 took 244 iterations\n",
      "Round 3 took 3416 iterations\n",
      "Iteration: 3\n",
      "Round 1 took 122 iterations\n",
      "Round 2 took 488 iterations\n",
      "Round 3 took 1891 iterations\n",
      "Iteration: 4\n",
      "Round 1 took 183 iterations\n",
      "Round 2 took 366 iterations\n",
      "Round 3 took 2013 iterations\n",
      "Iteration: 5\n",
      "Round 1 took 122 iterations\n",
      "Round 2 took 488 iterations\n",
      "Round 3 took 2257 iterations\n",
      "Iteration: 6\n",
      "Round 1 took 183 iterations\n",
      "Round 2 took 427 iterations\n",
      "Round 3 took 2257 iterations\n",
      "Iteration: 7\n",
      "Round 1 took 122 iterations\n",
      "Round 2 took 488 iterations\n",
      "Round 3 took 2867 iterations\n",
      "Iteration: 8\n",
      "Round 1 took 305 iterations\n",
      "Round 2 took 366 iterations\n",
      "Round 3 took 1708 iterations\n",
      "Iteration: 9\n",
      "Round 1 took 183 iterations\n",
      "Round 2 took 305 iterations\n",
      "Round 3 took 2623 iterations\n",
      "Iteration: 10\n",
      "Round 1 took 305 iterations\n",
      "Round 2 took 244 iterations\n",
      "Round 3 took 2440 iterations\n",
      "Iteration: 11\n",
      "Round 1 took 244 iterations\n",
      "Round 2 took 183 iterations\n",
      "Round 3 took 1525 iterations\n",
      "Iteration: 12\n",
      "Round 1 took 305 iterations\n",
      "Round 2 took 366 iterations\n",
      "Round 3 took 2867 iterations\n",
      "Iteration: 13\n",
      "Round 1 took 305 iterations\n",
      "Round 2 took 366 iterations\n",
      "Round 3 took 2257 iterations\n",
      "Iteration: 14\n",
      "Round 1 took 244 iterations\n",
      "Round 2 took 427 iterations\n",
      "Round 3 took 2501 iterations\n",
      "Iteration: 15\n",
      "Round 1 took 183 iterations\n",
      "Round 2 took 305 iterations\n",
      "Round 3 took 3721 iterations\n",
      "Iteration: 16\n",
      "Round 1 took 183 iterations\n",
      "Round 2 took 610 iterations\n",
      "Round 3 took 2501 iterations\n",
      "Iteration: 17\n",
      "Round 1 took 305 iterations\n",
      "Round 2 took 122 iterations\n",
      "Round 3 took 3904 iterations\n",
      "Iteration: 18\n",
      "Round 1 took 183 iterations\n",
      "Round 2 took 366 iterations\n",
      "Round 3 took 1281 iterations\n",
      "Iteration: 19\n",
      "Round 1 took 122 iterations\n",
      "Round 2 took 427 iterations\n",
      "Round 3 took 2013 iterations\n",
      "Iteration: 20\n",
      "Round 1 took 122 iterations\n",
      "Round 2 took 549 iterations\n",
      "Round 3 took 1708 iterations\n",
      "Iteration: 21\n",
      "Round 1 took 122 iterations\n",
      "Round 2 took 488 iterations\n",
      "Round 3 took 3477 iterations\n",
      "Iteration: 22\n",
      "Round 1 took 122 iterations\n",
      "Round 2 took 610 iterations\n",
      "Round 3 took 1952 iterations\n",
      "Iteration: 23\n",
      "Round 1 took 183 iterations\n",
      "Round 2 took 366 iterations\n",
      "Round 3 took 2013 iterations\n",
      "Iteration: 24\n"
     ]
    },
    {
     "ename": "SystemExit",
     "evalue": "",
     "output_type": "error",
     "traceback": [
      "An exception has occurred, use %tb to see the full traceback.\n",
      "\u001b[0;31mSystemExit\u001b[0m\n"
     ]
    },
    {
     "name": "stderr",
     "output_type": "stream",
     "text": [
      "/Users/jwbaskerv/Envs/pblt/lib/python3.6/site-packages/IPython/core/interactiveshell.py:2971: UserWarning: To exit: use 'exit', 'quit', or Ctrl-D.\n",
      "  warn(\"To exit: use 'exit', 'quit', or Ctrl-D.\", stacklevel=1)\n"
     ]
    }
   ],
   "source": [
    "method = 'L-BFGS-B'\n",
    "iters = 1\n",
    "sel = [0,2]\n",
    "\n",
    "while True:\n",
    "#for _ in range(1):\n",
    "    try:\n",
    "        # always initialize new class in the beginning to initialize empty cost array attribute\n",
    "        ci = CostInfo()\n",
    "        # initialize new random parameters for variability\n",
    "        initial_params = init_params(n_params, lambda x: np.random.rand(x)*2*np.pi)\n",
    "        \n",
    "        print (\"Iteration: {}\".format(iters))\n",
    "\n",
    "        # use the class method cost function so that costs are logged internally in the class\n",
    "        res = minimize(ci.class_cost, initial_params, args=(train_set, 2, 2, sel, False), method=method, bounds=[[0, 4*np.pi]] * n_params, options={'eps': 1e-03, 'ftol': 0.1})\n",
    "        params = res['x']\n",
    "\n",
    "        checkpoint1 = ci.costs.copy()\n",
    "        print(\"Round 1 took {} iterations\".format(len(checkpoint1)))\n",
    "\n",
    "        res2 = minimize(ci.class_cost, params, args=(train_set, 2, 2, sel, False), method=method, bounds=[[0, 4*np.pi]] * n_params, options={'eps': 1e-05, 'ftol': 0.01})\n",
    "        params2 = res2['x']\n",
    "\n",
    "        checkpoint2 = ci.costs.copy()\n",
    "        print(\"Round 2 took {} iterations\".format(len(checkpoint2) - len(checkpoint1)))\n",
    "        \n",
    "        # res3 = minimize(ci.class_cost, params, args=(train_set, 2, 2, sel, False), method=method, bounds=[[0, 4*np.pi]] * n_params, options={'eps': 1e-07, 'ftol': 0.0001})\n",
    "        res3 = minimize(ci.class_cost, params, args=(train_set, 2, 2, sel, False), method=method, bounds=[[0, 4*np.pi]] * n_params, options={'eps': 1e-03, 'ftol': 0.000001})\n",
    "        params3 = res3['x']\n",
    "        \n",
    "        checkpoint3 = ci.costs.copy()\n",
    "        print(\"Round 3 took {} iterations\".format(len(checkpoint3) - len(checkpoint2)))\n",
    "                \n",
    "        # res4 = minimize(ci.class_cost, params, args=(train_set, 2, 2, sel, False), method=method, bounds=[[0, 4*np.pi]] * n_params, options={'eps': 1e-08, 'ftol': 0.000001})\n",
    "        # params4 = res4['x']\n",
    "        \n",
    "        # final_result = res4\n",
    "        final_result = res3\n",
    "        # save costs and selection as part of the result\n",
    "        final_result[\"costs\"] = ci.costs\n",
    "        final_result[\"sel\"] = sel\n",
    "        \n",
    "        # save results for later analysis\n",
    "        save_obj(final_result, 'run2.{}-{}.{}'.format(2, 2, str(int(time.time()))[2:]))\n",
    "        \n",
    "        iters += 1\n",
    "    except KeyboardInterrupt:\n",
    "        sys.exit()"
   ]
  },
  {
   "cell_type": "code",
   "execution_count": 36,
   "metadata": {},
   "outputs": [],
   "source": [
    "costs = final_result['costs']"
   ]
  },
  {
   "cell_type": "code",
   "execution_count": 37,
   "metadata": {},
   "outputs": [
    {
     "data": {
      "text/plain": [
       "2.917697415893983e-07"
      ]
     },
     "execution_count": 37,
     "metadata": {},
     "output_type": "execute_result"
    }
   ],
   "source": [
    "costs[-1]"
   ]
  },
  {
   "cell_type": "code",
   "execution_count": 38,
   "metadata": {},
   "outputs": [
    {
     "data": {
      "image/png": "[encoded data removed]",
      "text/plain": [
       "<matplotlib.figure.Figure at 0x1137a0198>"
      ]
     },
     "metadata": {},
     "output_type": "display_data"
    }
   ],
   "source": [
    "# graph of cost over each iteration\n",
    "plt.plot(final_result[\"costs\"])\n",
    "plt.semilogy()\n",
    "plt.show()"
   ]
  },
  {
   "cell_type": "code",
   "execution_count": 39,
   "metadata": {},
   "outputs": [
    {
     "name": "stdout",
     "output_type": "stream",
     "text": [
      "parameters: [3.37695435e-01 6.28186787e+00 1.26822662e+00 4.04907848e+00\n",
      " 9.37934986e-01 4.27566718e+00 1.29504703e+00 3.14122588e+00\n",
      " 4.62331527e+00 4.83577242e+00 3.82815271e+00 4.70130081e+00\n",
      " 3.68617446e+00 6.72281923e+00 1.16583229e+00 1.89636959e+00\n",
      " 2.73377600e+00 6.61439931e+00 2.68590317e+00 5.59312956e+00\n",
      " 7.06539221e+00 7.45835728e-01 6.28143535e+00 2.39171560e+00\n",
      " 4.23305466e-01 7.42915656e-04 3.41511105e+00 4.71307551e+00\n",
      " 4.80627809e+00 4.30666912e+00 5.17680957e+00 2.63189874e+00\n",
      " 4.23257985e+00 4.12605098e+00 7.75718911e+00 1.88188265e+00\n",
      " 5.94090885e+00 5.87060396e+00 5.13431053e+00 5.06816575e+00\n",
      " 3.13906288e+00 9.64333527e-01 8.90475618e-01 1.15967875e+00\n",
      " 5.95828202e+00 3.37819252e+00 3.13998245e+00 2.49806522e+00\n",
      " 2.04989939e+00 6.79197634e+00 9.43865592e-03 7.30285365e+00\n",
      " 4.82659916e+00 2.62097413e+00 3.00397821e+00 3.14091792e+00\n",
      " 4.24510123e+00 2.37009328e+00 0.00000000e+00 6.58065340e+00]\n",
      "compression dimension ; trash dimension: 2 ; 2\n",
      "partial trace (trash) qubits: [0, 2]\n",
      "number of input states: 44\n"
     ]
    },
    {
     "data": {
      "image/png": "[encoded data removed]",
      "text/plain": [
       "<matplotlib.figure.Figure at 0x11377c7f0>"
      ]
     },
     "metadata": {},
     "output_type": "display_data"
    },
    {
     "name": "stdout",
     "output_type": "stream",
     "text": [
      "fidelities: [0.99999969 0.99999969 0.99999969 0.99999969 0.9999997  0.9999997\n",
      " 0.9999997  0.9999997  0.99999971 0.99999971 0.99999972 0.99999972\n",
      " 0.99999972 0.99999973 0.99999973 0.99999974 0.99999974 0.99999974\n",
      " 0.99999974 0.99999974 0.99999974 0.99999974 0.99999974 0.99999973\n",
      " 0.99999973 0.99999973 0.99999972 0.99999971 0.99999971 0.9999997\n",
      " 0.99999969 0.99999969 0.99999968 0.99999968 0.99999967 0.99999967\n",
      " 0.99999966 0.99999965 0.99999965 0.99999965 0.99999964 0.99999964\n",
      " 0.99999964 0.99999964]\n",
      "cost 3.0040564213962284e-07\n",
      "average cost over test set: 6.827400957718701e-09\n"
     ]
    }
   ],
   "source": [
    "# results on test set of data\n",
    "final_params = final_result['x']\n",
    "final_sel = final_result['sel']\n",
    "print(\"average cost over test set:\", avg_cost(cost(final_params, test_set, 2, 2, final_sel, debug=True), len(test_set)))"
   ]
  },
  {
   "cell_type": "code",
   "execution_count": 40,
   "metadata": {},
   "outputs": [
    {
     "data": {
      "image/png": "[encoded data removed]",
      "text/plain": [
       "<matplotlib.figure.Figure at 0x11375a828>"
      ]
     },
     "metadata": {},
     "output_type": "display_data"
    },
    {
     "data": {
      "image/png": "[encoded data removed]",
      "text/plain": [
       "<matplotlib.figure.Figure at 0x11427dcf8>"
      ]
     },
     "metadata": {},
     "output_type": "display_data"
    },
    {
     "data": {
      "image/png": "[encoded data removed]",
      "text/plain": [
       "<matplotlib.figure.Figure at 0x114403208>"
      ]
     },
     "metadata": {},
     "output_type": "display_data"
    },
    {
     "data": {
      "image/png": "[encoded data removed]",
      "text/plain": [
       "<matplotlib.figure.Figure at 0x1144a7c88>"
      ]
     },
     "metadata": {},
     "output_type": "display_data"
    }
   ],
   "source": [
    "U = create_circuit_gate(n=4, all_params=final_params)\n",
    "for i in range(4):\n",
    "    dm = U*ket2dm(train_set[i])*U.dag()\n",
    "    hinton(dm.ptrace([j for j in range(4) if j not in final_sel]))"
   ]
  },
  {
   "cell_type": "code",
   "execution_count": null,
   "metadata": {},
   "outputs": [],
   "source": []
  }
 ],
 "metadata": {
  "kernelspec": {
   "display_name": "pblt",
   "language": "python",
   "name": "pblt"
  },
  "language_info": {
   "codemirror_mode": {
    "name": "ipython",
    "version": 3
   },
   "file_extension": ".py",
   "mimetype": "text/x-python",
   "name": "python",
   "nbconvert_exporter": "python",
   "pygments_lexer": "ipython3",
   "version": "3.6.3"
  }
 },
 "nbformat": 4,
 "nbformat_minor": 2
}

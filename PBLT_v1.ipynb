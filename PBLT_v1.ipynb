{
 "cells": [
  {
   "cell_type": "code",
   "execution_count": 57,
   "metadata": {},
   "outputs": [],
   "source": [
    "import numpy as np\n",
    "from qutip import *\n",
    "from scipy.optimize import minimize\n",
    "import h5py\n",
    "import matplotlib.pyplot as plt"
   ]
  },
  {
   "cell_type": "markdown",
   "metadata": {},
   "source": [
    "#### Parameters\n",
    "\n",
    "For n qubits, we need n(n-1) + 2n arbitary rotation gates, with 3 parameters each.\n",
    "\n",
    "https://arxiv.org/abs/1612.02806"
   ]
  },
  {
   "cell_type": "markdown",
   "metadata": {},
   "source": [
    "### QuTip Implementation"
   ]
  },
  {
   "cell_type": "markdown",
   "metadata": {},
   "source": [
    "#### QuTip Helper Functions"
   ]
  },
  {
   "cell_type": "code",
   "execution_count": 2,
   "metadata": {},
   "outputs": [],
   "source": [
    "# apply given single-qubit gate to any qubit in system of n qubits\n",
    "def tgtgate(n, gate, tgt):\n",
    "    lst = [qeye(2) for _ in range(n)]\n",
    "    lst[tgt] = gate\n",
    "    return tensor(lst)\n",
    "\n",
    "# create tensored identity in hilbert space of n qubits\n",
    "def tenseye(n):\n",
    "    return tensor([qeye(2) for _ in range(n)])\n",
    "\n",
    "# create operator from product of all gates in a circuit\n",
    "def gate_prod(n, gates):\n",
    "    prod = tenseye(n)\n",
    "    for gate in gates:\n",
    "        prod = prod * gate\n",
    "    return prod"
   ]
  },
  {
   "cell_type": "markdown",
   "metadata": {},
   "source": [
    "#### Arbitrary Rotation Gates (single-qubit and controlled)"
   ]
  },
  {
   "cell_type": "code",
   "execution_count": 3,
   "metadata": {},
   "outputs": [],
   "source": [
    "# https://arxiv.org/abs/quant-ph/9503016\n",
    "\n",
    "# ROT = Rz(alpha) * Ry(theta) * Rz(beta)\n",
    "def rot(n, params, tgt):\n",
    "    alpha, theta, beta = params\n",
    "    return rz(alpha, n, tgt)*ry(theta, n, tgt)*rz(beta, n, tgt)\n",
    "\n",
    "# CROT = A * CNOT * B * CNOT * C\n",
    "# A = Rz(alpha)*Ry(theta / 2)\n",
    "# B = Ry(-theta / 2) * Rz(-(alpha + beta) / 2)\n",
    "# C = Rz((beta - alpha) / 2)\n",
    "def ctrl_rot(n, params, ctrl, tgt):\n",
    "    alpha, theta, beta = params\n",
    "    A = rz(alpha, n, tgt) * ry(theta / 2.0, n, tgt)\n",
    "    B = ry(-theta / 2.0, n, tgt) * rz(-(alpha + beta) / 2.0, n, tgt)\n",
    "    C = rz((beta - alpha) / 2.0, n, tgt)\n",
    "    assert (A*B*C == tenseye(n))\n",
    "    assert (A*tgtgate(n, sigmax(), tgt)*B*tgtgate(n, sigmax(), tgt)*C == rot(n, params, tgt))\n",
    "    return A * cnot(n, ctrl, tgt) * B * cnot(n, ctrl, tgt) * C"
   ]
  },
  {
   "cell_type": "markdown",
   "metadata": {},
   "source": [
    "#### Parameter Manipulation"
   ]
  },
  {
   "cell_type": "code",
   "execution_count": 4,
   "metadata": {},
   "outputs": [],
   "source": [
    "def init_params(n_params, method=np.ones):\n",
    "    return method(n_params)\n",
    "\n",
    "def split_params(n, params):\n",
    "    return (params[:3*n].reshape(n, 3),\n",
    "            params[3*n:-3*n].reshape(n, n-1, 3),\n",
    "            params[-3*n:].reshape(n, 3))\n",
    "\n",
    "def recombine_params(first, mid, last):\n",
    "    return np.concatenate((first.flatten(), mid.flatten(), last.flatten()))"
   ]
  },
  {
   "cell_type": "markdown",
   "metadata": {},
   "source": [
    "#### Circuit\n",
    "The circuit outlined in red below is the unitary gate for encoding (in this case, for 4 qubit inputs).\n",
    "![arbitrary_rotation_gate_circuit](https://image.ibb.co/ji9XBc/unit_cell_arb_rot.png)"
   ]
  },
  {
   "cell_type": "code",
   "execution_count": 5,
   "metadata": {},
   "outputs": [],
   "source": [
    "# # create circuit from parameters\n",
    "# def get_circuit_gates(num_gates, params):\n",
    "#     gates = np.array([tenseye(4) for _ in range(num_gates)])\n",
    "\n",
    "#     # R1 - R4\n",
    "#     for gate_num in range(0, 4):\n",
    "#         alpha, theta, beta = params[gate_num]\n",
    "#         gates[gate_num] = arb_rot(n, alpha, theta, beta, gate_num - 0)\n",
    "\n",
    "#     # R5 - R7 controlled by qubit 0\n",
    "#     for gate_num in range(4, 7):\n",
    "#         control = 0\n",
    "#         targets = [1, 2, 3]\n",
    "#         alpha, theta, beta = params[gate_num]\n",
    "#         gates[gate_num] = ctrl_rot(n, alpha, theta, beta, control, targets[gate_num - 4])\n",
    "\n",
    "#     # R8 - R10 controlled by qubit 1\n",
    "#     for gate_num in range(7, 10):\n",
    "#         control = 1\n",
    "#         targets = [0, 2, 3]\n",
    "#         alpha, theta, beta = params[gate_num]\n",
    "#         gates[gate_num] = ctrl_rot(n, alpha, theta, beta, control, targets[gate_num - 7])\n",
    "\n",
    "#     # R11 - R13 controlled by qubit 2\n",
    "#     for gate_num in range(10, 13):\n",
    "#         control = 2\n",
    "#         targets = [0, 1, 3]\n",
    "#         alpha, theta, beta = params[gate_num]\n",
    "#         gates[gate_num] = ctrl_rot(n, alpha, theta, beta, control, targets[gate_num - 10])\n",
    "\n",
    "#     # R14 - R16 controlled by qubit 3\n",
    "#     for gate_num in range(13, 16):\n",
    "#         control = 3\n",
    "#         targets = [0, 1, 2]\n",
    "#         alpha, theta, beta = params[gate_num]\n",
    "#         gates[gate_num] = ctrl_rot(n, alpha, theta, beta, control, targets[gate_num - 13])\n",
    "\n",
    "#     # R17 - R20\n",
    "#     for gate_num in range(16, 20):\n",
    "#         alpha, theta, beta = params[gate_num]\n",
    "#         gates[gate_num] = arb_rot(n, alpha, theta, beta, gate_num - 16)\n",
    "\n",
    "#     return gates"
   ]
  },
  {
   "cell_type": "code",
   "execution_count": 6,
   "metadata": {},
   "outputs": [],
   "source": [
    "# gate_product = gate_prod(n, gates)\n",
    "# gate_product"
   ]
  },
  {
   "cell_type": "markdown",
   "metadata": {},
   "source": [
    "#### Circuit Implementation"
   ]
  },
  {
   "cell_type": "code",
   "execution_count": 7,
   "metadata": {},
   "outputs": [],
   "source": [
    "# The n rotation gates (one on each qubit) that happen at the start and end.\n",
    "def wrapper(n, params):\n",
    "    assert (len(params) == n)\n",
    "    gates = []\n",
    "    for tgt, rot_params in enumerate(params):\n",
    "        gates.append(rot(n, rot_params, tgt))\n",
    "    return gate_prod(n, gates)\n",
    "\n",
    "# The n-1 gates in each \"blue box\" (set of controlled rotation gates)\n",
    "def blue_box(n, params, ctrl):\n",
    "    p_index = 0\n",
    "    gates = []\n",
    "    for tgt in range(n):\n",
    "        #print (tgt, ctrl)\n",
    "        if tgt == ctrl:\n",
    "            continue\n",
    "        rot_params = params[p_index]\n",
    "        p_index += 1\n",
    "        gates.append(ctrl_rot(n, rot_params, ctrl, tgt))\n",
    "    return gate_prod(n, gates)\n",
    "\n",
    "# The circuit as a whole -- front wrapper, blue boxes, back wrapper\n",
    "def create_circuit(n, all_params):\n",
    "    gates = []\n",
    "    \n",
    "    # split parameters\n",
    "    f, m, b = split_params(n, all_params)\n",
    "    \n",
    "    # front wrapper\n",
    "    gates.append(wrapper(n, f))\n",
    "    \n",
    "    # blue boxes\n",
    "    for i in range(n):\n",
    "        gates.append(blue_box(n, m[i], i))\n",
    "    \n",
    "    # back wrapper\n",
    "    gates.append(wrapper(n, b))\n",
    "    \n",
    "    return gate_prod(n, gates)"
   ]
  },
  {
   "cell_type": "code",
   "execution_count": 8,
   "metadata": {},
   "outputs": [],
   "source": [
    "# returns n, number of gates needed, number of params needed\n",
    "def init_consts(n):\n",
    "    n_gates = n * (n - 1) + 2 * n\n",
    "    n_params = 3 * n_gates\n",
    "    return n, n_gates, n_params\n",
    "\n",
    "# given input state and output state, returns estimated fidelity\n",
    "#     we can cast to integer because this is the norm squared\n",
    "#     there's no longer any complex component\n",
    "def overlap(inp, oup):\n",
    "    ol = inp.overlap(oup)\n",
    "    return int(ol * ol.conj())\n",
    "v_overlap = np.vectorize(overlap)\n",
    "\n",
    "# return objective to minimize for scipy optimizers\n",
    "#     given N data points\n",
    "#     params: parameters to tune\n",
    "#     args: [n, ...bunch_of_instates_to_train_on...]\n",
    "def obj_func(params, *args):\n",
    "    n = args[0]\n",
    "    in_states = args[1:]\n",
    "    \n",
    "    # create encoding operator from parameters of the rotation gates\n",
    "    encoding_op = create_circuit(n, params)\n",
    "    \n",
    "    # apply encoding circuit to all training data\n",
    "    # (should probably split this up into epochs)\n",
    "    out_states = encoding_op * in_states\n",
    "    \n",
    "    overlaps = 1 - v_overlap(in_states, out_states)\n",
    "    return sum(overlaps)"
   ]
  },
  {
   "cell_type": "code",
   "execution_count": 9,
   "metadata": {},
   "outputs": [],
   "source": [
    "# create qubit from a rand float\n",
    "def qubit(a, b):    \n",
    "    # random phase shifts\n",
    "    if np.random.rand() <= 0.5:\n",
    "        a = a * 1.0j\n",
    "    if np.random.rand() <= 0.5:\n",
    "        b = b * 1.0j\n",
    "    return Qobj([[a],[b]]).unit()\n",
    "v_qubit = np.vectorize(qubit)\n",
    "\n",
    "def gen_data(n_orig, n_enc, data_count=100):\n",
    "    assert(n_orig >= n_enc)\n",
    "    data = []\n",
    "    \n",
    "    # choose which qubits to exclude\n",
    "    excluded = np.random.choice(range(n_orig), size=(n_orig - n_enc), replace=False)\n",
    "    \n",
    "    # set shape matrix\n",
    "    shape = [2]*n_orig\n",
    "    \n",
    "    # generate data\n",
    "    for _ in range(data_count):\n",
    "        qubits = v_qubit(2 * np.random.random(n_orig) - 1, 2 * np.random.random(n_orig) - 1)\n",
    "        qubits[excluded] = basis(2,0)\n",
    "        data.append((tensor(qubits)).unit())\n",
    "        \n",
    "    return np.array(data)"
   ]
  },
  {
   "cell_type": "code",
   "execution_count": 10,
   "metadata": {},
   "outputs": [],
   "source": [
    "# data = gen_data(2,1,data_count=1000)\n",
    "# initial_params = init_params(num_params)\n",
    "# data[:5]\n",
    "# # minimize(obj_func, initial_params, method='Nelder-Mead')"
   ]
  },
  {
   "cell_type": "code",
   "execution_count": 11,
   "metadata": {},
   "outputs": [],
   "source": [
    "# U = sigmax()\n",
    "# instates = np.array([Qobj([[0],[1]]), Qobj([[1],[0]])])\n",
    "# outstates = U*instates\n",
    "# sum(1-v_overlap(instates, outstates))"
   ]
  },
  {
   "cell_type": "markdown",
   "metadata": {},
   "source": [
    "## Density Matrix Overview:\n",
    "\n",
    "In order to understand how the cost function is computed for the autoencoder, we will need to describe our system in terms of density matricies. Density matrices are useful because they describe ensemble behavior of quantum experiments - which are often the result of imperfect quantum manipulations.\n",
    "\n",
    "To this point in ES170 we have dealt only with pure states - where the quantum state of the system inputs and outputs can be described by a single state vector.\n",
    "\n",
    "In practice we can have states which are a probablilistic ensemble of pure states. Note that this is fundamentally different from a superposition. We will explore describe this distinction explicitly below. Density matrices are a useful tool for describing this more general class of ensemble states.\n",
    "\n",
    "The following examples will illustrate the mechanics of density matrices.\n",
    "\n",
    "For a pure state, $|\\psi>$ the density matrix (sometimes called the density operator) is given by the following:\n",
    "\n",
    "$\\rho = |\\psi><\\psi|$\n",
    "\n",
    "For a single bit system, expressed in the $\\{|0>,|1>\\}$ basis, the density matrix elements are thus:\n",
    "\n",
    "$\\rho_{11} = <0|\\rho|0>$\n",
    "\n",
    "$\\rho_{12} = <0|\\rho|1>$\n",
    "\n",
    "$\\rho_{21} = <1|\\rho|0>$\n",
    "\n",
    "$\\rho_{12} = <1|\\rho|1>$\n",
    "\n",
    "With some simple dirac manipulation, we can see that the entries of the density matrix are probabilities. For example, $\\rho_{11}$ is the probability of measuring $|\\psi>$ in state zero.\n",
    "\n",
    "As an example, we construct the density matrix for basis states:"
   ]
  },
  {
   "cell_type": "code",
   "execution_count": 12,
   "metadata": {},
   "outputs": [
    {
     "data": {
      "text/latex": [
       "Quantum object: dims = [[2], [2]], shape = (2, 2), type = oper, isherm = True\\begin{equation*}\\left(\\begin{array}{*{11}c}1.0 & 0.0\\\\0.0 & 0.0\\\\\\end{array}\\right)\\end{equation*}"
      ],
      "text/plain": [
       "Quantum object: dims = [[2], [2]], shape = (2, 2), type = oper, isherm = True\n",
       "Qobj data =\n",
       "[[1. 0.]\n",
       " [0. 0.]]"
      ]
     },
     "execution_count": 12,
     "metadata": {},
     "output_type": "execute_result"
    }
   ],
   "source": [
    "# Basis state 0 \n",
    "q0 = basis(2,0)\n",
    "\n",
    "rho = q0*q0.dag()\n",
    "\n",
    "rho"
   ]
  },
  {
   "cell_type": "code",
   "execution_count": 13,
   "metadata": {},
   "outputs": [
    {
     "data": {
      "text/latex": [
       "Quantum object: dims = [[2], [2]], shape = (2, 2), type = oper, isherm = True\\begin{equation*}\\left(\\begin{array}{*{11}c}1.0 & 0.0\\\\0.0 & 0.0\\\\\\end{array}\\right)\\end{equation*}"
      ],
      "text/plain": [
       "Quantum object: dims = [[2], [2]], shape = (2, 2), type = oper, isherm = True\n",
       "Qobj data =\n",
       "[[1. 0.]\n",
       " [0. 0.]]"
      ]
     },
     "execution_count": 13,
     "metadata": {},
     "output_type": "execute_result"
    }
   ],
   "source": [
    "# note the following function also works\n",
    "ket2dm(q0)"
   ]
  },
  {
   "cell_type": "code",
   "execution_count": 14,
   "metadata": {},
   "outputs": [
    {
     "data": {
      "text/latex": [
       "Quantum object: dims = [[2], [2]], shape = (2, 2), type = oper, isherm = True\\begin{equation*}\\left(\\begin{array}{*{11}c}0.0 & 0.0\\\\0.0 & 1.0\\\\\\end{array}\\right)\\end{equation*}"
      ],
      "text/plain": [
       "Quantum object: dims = [[2], [2]], shape = (2, 2), type = oper, isherm = True\n",
       "Qobj data =\n",
       "[[0. 0.]\n",
       " [0. 1.]]"
      ]
     },
     "execution_count": 14,
     "metadata": {},
     "output_type": "execute_result"
    }
   ],
   "source": [
    "# For basis state 1\n",
    "q1 = basis(2,1)\n",
    "\n",
    "ket2dm(q1)"
   ]
  },
  {
   "cell_type": "markdown",
   "metadata": {},
   "source": [
    "These pure, orthogonal basis states are equivalent to fock (photon number) states, and qutip has a built in function:"
   ]
  },
  {
   "cell_type": "code",
   "execution_count": 15,
   "metadata": {},
   "outputs": [
    {
     "data": {
      "text/latex": [
       "Quantum object: dims = [[2], [2]], shape = (2, 2), type = oper, isherm = True\\begin{equation*}\\left(\\begin{array}{*{11}c}0.0 & 0.0\\\\0.0 & 1.0\\\\\\end{array}\\right)\\end{equation*}"
      ],
      "text/plain": [
       "Quantum object: dims = [[2], [2]], shape = (2, 2), type = oper, isherm = True\n",
       "Qobj data =\n",
       "[[0. 0.]\n",
       " [0. 1.]]"
      ]
     },
     "execution_count": 15,
     "metadata": {},
     "output_type": "execute_result"
    }
   ],
   "source": [
    "fock_dm(2,1)"
   ]
  },
  {
   "cell_type": "markdown",
   "metadata": {},
   "source": [
    "Nice! We can simply read the probability of the system being in state zero or one by looking at the diagonal entries. What happens for a superpostion?"
   ]
  },
  {
   "cell_type": "code",
   "execution_count": 16,
   "metadata": {},
   "outputs": [
    {
     "data": {
      "text/latex": [
       "Quantum object: dims = [[2], [2]], shape = (2, 2), type = oper, isherm = True\\begin{equation*}\\left(\\begin{array}{*{11}c}0.500 & 0.500\\\\0.500 & 0.500\\\\\\end{array}\\right)\\end{equation*}"
      ],
      "text/plain": [
       "Quantum object: dims = [[2], [2]], shape = (2, 2), type = oper, isherm = True\n",
       "Qobj data =\n",
       "[[0.5 0.5]\n",
       " [0.5 0.5]]"
      ]
     },
     "execution_count": 16,
     "metadata": {},
     "output_type": "execute_result"
    }
   ],
   "source": [
    "# equal superposition state\n",
    "q = 1/np.sqrt(2)*(basis(2,0)+basis(2,1))\n",
    "\n",
    "ket2dm(q)"
   ]
  },
  {
   "cell_type": "markdown",
   "metadata": {},
   "source": [
    "For a superposition we have off diagonal terms! These off-diagonal terms have important physical meaning (in some cases can be interpreted as coherence). For now we'll ignore that.\n",
    "\n",
    "The most important property is that for a pure state, the trace (sum of diagonals) of the density matrix is 1. This is related exactly to the normalized nature of a pure state."
   ]
  },
  {
   "cell_type": "code",
   "execution_count": 17,
   "metadata": {},
   "outputs": [
    {
     "data": {
      "text/plain": [
       "0.9999999999999998"
      ]
     },
     "execution_count": 17,
     "metadata": {},
     "output_type": "execute_result"
    }
   ],
   "source": [
    "ket2dm(q).tr()"
   ]
  },
  {
   "cell_type": "markdown",
   "metadata": {},
   "source": [
    "Now let's consider a statistical ensemble of pure states. For example, imagine we prepare a _set_ of qubits, half in state zero and half in state one. We could measure these qubits in sequence and build up a statistical interpretation of the initial state. \n",
    "\n",
    "This statistical outcome can be expressed as an ensemble state:\n",
    "\n",
    "$|\\Psi> = \\frac{1}{2}|0> + \\frac{1}{2}|1>$\n",
    "\n",
    "For which the density matrix is defined:\n",
    "\n",
    "$\\rho = \\sum\\limits_{i}{p_i|\\psi_i><\\psi_i|}$"
   ]
  },
  {
   "cell_type": "code",
   "execution_count": 18,
   "metadata": {},
   "outputs": [
    {
     "data": {
      "text/latex": [
       "Quantum object: dims = [[2], [2]], shape = (2, 2), type = oper, isherm = True\\begin{equation*}\\left(\\begin{array}{*{11}c}0.250 & 0.250\\\\0.250 & 0.250\\\\\\end{array}\\right)\\end{equation*}"
      ],
      "text/plain": [
       "Quantum object: dims = [[2], [2]], shape = (2, 2), type = oper, isherm = True\n",
       "Qobj data =\n",
       "[[0.25 0.25]\n",
       " [0.25 0.25]]"
      ]
     },
     "execution_count": 18,
     "metadata": {},
     "output_type": "execute_result"
    }
   ],
   "source": [
    "q = 1/2*basis(2,0) + 1/2*basis(2,1)\n",
    "\n",
    "ket2dm(q)"
   ]
  },
  {
   "cell_type": "markdown",
   "metadata": {},
   "source": [
    "### Probabilities of Pure and Mixed States:\n",
    "How can we tell this is not a pure state? By looking at the trace of the density matrix. \n",
    "\n",
    "$\\text{Tr}[\\rho] < 1 \\implies \\text{Mixed State}$\n",
    "\n",
    "\n",
    "The trace in this case is less than 1, indicating a statistical mixture. Actually, in this case we have what is a maximally mixed state:\n",
    "\n",
    "$\\text{Tr}[\\rho_{max}] = 1/D$ where $D$ is the dimensionality of the system. In the case of qubits D = 2."
   ]
  },
  {
   "cell_type": "code",
   "execution_count": 19,
   "metadata": {},
   "outputs": [
    {
     "data": {
      "text/plain": [
       "0.5"
      ]
     },
     "execution_count": 19,
     "metadata": {},
     "output_type": "execute_result"
    }
   ],
   "source": [
    "ket2dm(q).tr()"
   ]
  },
  {
   "cell_type": "markdown",
   "metadata": {},
   "source": [
    "### Transformation of Density Matrices:\n",
    "\n",
    "Note that density matrices undergo unitary transformation as follows:\n",
    "\n",
    "$\\rho = |\\psi><\\psi|$\n",
    "\n",
    "$\\rho' = |\\psi'><\\psi'|$\n",
    "\n",
    "$|\\psi'> = U|\\psi>$ and $ <\\psi'| =  <\\psi|U^{\\dagger}$\n",
    "\n",
    "$ \\implies \\rho' = U|\\psi><\\psi|U^{\\dagger}$\n",
    "\n",
    "$ \\implies \\rho' = U\\rho U^{\\dagger}$"
   ]
  },
  {
   "cell_type": "markdown",
   "metadata": {},
   "source": [
    "## The Cost Fuction:\n",
    "\n",
    "Consider an input ensemble state $\\{p_i,|\\psi_i\\rangle\\}$, where $p_i$ are ensemble probabilities of each pure state, $|\\psi_i\\rangle$. Note that ${|\\psi_i\\rangle}$ are  not necessarily orthonormal. The density matrix is given by the following:\n",
    "\n",
    "$\\rho = \\sum\\limits_{i}{p_i|\\psi_i\\rangle\\langle\\psi_i|}$\n",
    "\n",
    "e.g. if our state turns out to be pure for a pure state (e.g. $|\\psi_0\\rangle$), the ensemble set reduces to $\\{1,|\\psi_0\\rangle\\}$.\n",
    "\n",
    "The autoencoder cost function is given by:\n",
    "\n",
    "$C_2(q) = \\sum\\limits_{i}{p_i \\times F(Tr_{A}[U^{q}|\\psi_i\\rangle\\langle\\psi_i|_{AB}(U^{q})^{\\dagger}],|a\\rangle_{B})}$\n",
    "\n",
    "$C_2(q) = {F(Tr_{A}[U^{q}\\rho_{AB}(U^{q})^{\\dagger}],\\rho_{out,B})}$\n",
    "\n",
    "where $q$ is the set of parameters used to form the arbitrary transformation matrix $U^q$, and $\\rho_{out,B}$ our trash state. Performing the partial trace over A, reduces the n+k dimensional density matrix to a k dimensional density matrix corresponding only to the trash state subspace.\n",
    "\n",
    "Here is a translation of the math into code: \n",
    "* Input state can be, in general, an ensemble state decomposed as $\\{p_i,|\\psi_i\\rangle\\}$\n",
    "* Represent this set of states as a density matrix\n",
    "* Apply the autoencoder transform U to the state, with parameters q\n",
    "* Take a partial trace over the trash subset of the transformed density matrix to recover the trash state density matrix\n",
    "* Using a fidelity function, compare the trash state density matrix to the ancillary state density matrix (in our case zeros)\n",
    "\n",
    "We can take the output of the cost function and feedback into the minimizer to find the encoding transformation."
   ]
  },
  {
   "cell_type": "markdown",
   "metadata": {},
   "source": [
    "Qutip Partial Trace: http://qutip.org/docs/3.1.0/guide/guide-tensor.html\n",
    "* example of partial trace function\n",
    "* ket to density matrix function\n",
    "\n",
    "Qutip Fidelity Function: http://qutip.org/docs/3.1.0/apidoc/functions.html\n",
    "* Search fidelity - computes the fidelity of two density matrices"
   ]
  },
  {
   "cell_type": "code",
   "execution_count": 20,
   "metadata": {},
   "outputs": [
    {
     "name": "stdout",
     "output_type": "stream",
     "text": [
      "0.9999999999999996\n",
      "[0.25, 0.25]\n",
      "Quantum object: dims = [[2], [2]], shape = (2, 2), type = oper, isherm = True\n",
      "Qobj data =\n",
      "[[0.5 0. ]\n",
      " [0.  0.5]]\n",
      "Quantum object: dims = [[2], [2]], shape = (2, 2), type = oper, isherm = True\n",
      "Qobj data =\n",
      "[[0.25 0.25]\n",
      " [0.25 0.25]]\n"
     ]
    }
   ],
   "source": [
    "# Cost Function Testing:\n",
    "p = [0.5,0.5]\n",
    "pure = [1,1]\n",
    "psi = [basis(2,0),basis(2,1)]\n",
    "psi_pure = 1/np.sqrt(2)*(basis(2,0)+basis(2,1))\n",
    "psi_mixed = 1/2*(basis(2,0)+basis(2,1))\n",
    "\n",
    "C1 = np.sum(fidelity(ket2dm(psi_pure),ket2dm(psi_pure)))\n",
    "print(C1)\n",
    "\n",
    "C1 = [p[i]*fidelity(ket2dm(psi[i]),ket2dm(psi_mixed)) for i in range(len(psi))]\n",
    "print(C1)\n",
    "\n",
    "print(1/2*ket2dm(psi[0])+1/2*ket2dm(psi[1]))\n",
    "\n",
    "print(ket2dm(1/2*psi[0]+1/2*psi[1]))"
   ]
  },
  {
   "cell_type": "code",
   "execution_count": 25,
   "metadata": {},
   "outputs": [],
   "source": [
    "# Cost function implementation from the paper:\n",
    "n = 5\n",
    "k = 2\n",
    "\n",
    "trashdm = ket2dm(tensor([basis(2,0) for _ in range(k)]))\n",
    "\n",
    "# This version is broken down in terms of basis vectors and ensemble probabilities:\n",
    "#C2 = np.sum([p_set[i] * fidelity((U*ket2dm(psi_set[i])*U.dag()).ptrace(np.arange(n,n+k)),trashdm) for i in range(len(psi_set))])\n",
    "\n",
    "# # This version composes the input density matrix from the ensemble set of input states, then performs the transform:\n",
    "# inputdm = np.sum([p_set[i] * ket2dm(psi_set[i]) for i in range(len(psi_set))])\n",
    "# C2 = fidelity((U*inputdm*U.dag()).ptrace(np.arange(n,n+k)),trashdm)"
   ]
  },
  {
   "cell_type": "markdown",
   "metadata": {},
   "source": [
    "## Hydrogen Wavefunction Training Set:\n",
    "\n",
    "In the infamous article, the authors test the autoencoder with a set of ground state wavefunctions of molecular hydrogen. The autoencoder is trained with a subset of 6 ground state wavefunctions at different radial H-H distances, and then the encoder is tested on states at other radii. The Hamiltonian for molecular hydrogen can be solved numerically (classically), which would give us a benchmark for the performance of the autoencoder. We are considering to also implement this set of test states - though it is proving to be challenging!\n",
    "\n",
    "The Hamiltonian for molecular hydrogen, under the Born-Oppenheimer non-relativistic approximation is given by:\n",
    "\n",
    "$H = h_{nuc} +\\sum\\limits_{pq}h_{pq}a_p^{\\dagger}a_q^{\\dagger} + \\frac{1}{2}\\sum\\limits_{pqrs}h_{pqrs}a_p^{\\dagger}a_q^{\\dagger}a_r a_s$\n",
    "\n",
    "There are a few terms here: a nuclear term $h_{nuc}$, a single electron term, and a two electron term, with corresponding electron integrals $h_{pq}$ and $h_{pqrs}$. These terms express the probabilities of electrons occupying different molecular orbitals (e.g. $a_p^{\\dagger}$ creates an electron in spin-orbital $p$).\n",
    "\n",
    "As in the case of qubits, we are free to choose the basis of this Hamiltonian to be whatever we like. In quantum chemistry, we choose a basis which corresponds to a specific set of orthogonal electron orbitals. Often, this basis is selected with the convenience of calculation in mind. For example, the STO-6G hydrogen minimal basis set is one such basis set which is optimized for numerical approximation (the details of which we will perhaps need to explore later).\n",
    "\n",
    "Furthermore, in order to map this Hamiltonian to a quantum computer, we need to decompose it as a set of pauli rotation operations on single qubits. This is done by either the Bravi-Kitaev (BK) or Jordan-Wigner (JW) transformations. The result of the JW transformed Hamiltonian in the STO-6G basis is as follows:\n",
    "\n",
    "$H = c_0 I\n",
    "+ c_1 (Z_0 + Z_1) \n",
    "+ c_2 (Z_2 + Z_3)\n",
    "+ c_3 (Z_0 Z_1)\n",
    "+ c_4 (Z_0 Z_2 + Z_1 Z_3)\n",
    "+ c_5 (Z_1 Z_2 + Z_0 Z_3)\n",
    "+ c_6 (Z_2 Z_3)\n",
    "+ c_7 (Y_0 X_1 X_2 Y_3 - X_0 X_1 Y_2 Y_3 - Y_0 Y_1 X_2 X_3 + X_0 Y_1 Y_2 X_3)$\n",
    "\n",
    "Where $X_n, Y_n, Z_n$ are a pauli matrices acting on the $n$th qubit, and $c_n$ are coefficients which depend on the radial H-H distance.\n",
    "\n",
    "The Hamiltonian is implemented in qutip below: "
   ]
  },
  {
   "cell_type": "code",
   "execution_count": 26,
   "metadata": {},
   "outputs": [],
   "source": [
    "# # Reproducing the test set based on the STO-6G minimum basis set of hydrogen\n",
    "# # From paper:\n",
    "\n",
    "# def makepaulin(N,P):\n",
    "#     PN = []\n",
    "#     for n in range(N):\n",
    "#         tmp = [qeye(2) for _ in range(N)]\n",
    "#         tmp[n] = P\n",
    "#         Pn = tensor(tmp)\n",
    "#         PN.append(Pn)\n",
    "#     return PN\n",
    "\n",
    "# N=4\n",
    "# X = makepaulin(N,sigmax())\n",
    "# Y = makepaulin(N,sigmay())\n",
    "# Z = makepaulin(N,sigmaz())\n",
    "# IN = tensor([qeye(2) for _ in range(N)])\n",
    "\n",
    "# # setting all coefficients to 1\n",
    "# [c0,c1,c2,c3,c4,c5,c6,c7] = [1,1,1,1,1,1,1,1]\n",
    "    \n",
    "# H = (c0*IN + \n",
    "# c1*(Z[0]+Z[1]) + \n",
    "# c2*(Z[2]+Z[3]) + \n",
    "# c3*Z[0]*Z[1] + \n",
    "# c4*(Z[0]*Z[2] + Z[1]*Z[3]) + \n",
    "# c5*(Z[1]*Z[2]+Z[0]*Z[3]) + \n",
    "# c6*(Z[2]*Z[3]) + \n",
    "# c7*(Y[0]*X[1]*X[2]*Y[3] - X[0]*X[1]*Y[2]*Y[3] - Y[0]*Y[1]*X[2]*X[3] + X[0]*Y[1]*Y[2]*X[3]))\n",
    "\n",
    "# print(H)"
   ]
  },
  {
   "cell_type": "markdown",
   "metadata": {},
   "source": [
    "In order to advance from here, we need to compute the coefficients of this Hamiltonian (which depend on radial distance between H atoms), and solve the Schroedinger equation to find ground state energies (in Hartrees) at different distances to form the set of training states. \n",
    "\n",
    "I think this requires an optimized solver of Schroedinger's equation, which is beyond probably beyond the scope of this project to implement. We could also use a variational quantum eigensolver, but that requires it's own detailed investigation as well.\n",
    "\n",
    "One potential workaround could be to use PyQuante - a python library which is built to perform these kinds of caluculations (STO-6G hydrogen minimal basis set approximation). It's a dated python module, and thus far I've had version control issues getting it to integrate here.\n",
    "\n",
    "I have requested a chemsitry textbook from the library which might lay out the calculation in more detail for us.\n",
    "\n",
    "Until then we might need to think of a simpler test set or reach out to Zapata."
   ]
  },
  {
   "cell_type": "markdown",
   "metadata": {},
   "source": [
    "### Using Data from OpenFermion!!\n",
    "the bond lengths are stored in `bond_lengths.hdf5`\n",
    "\n",
    "each bond-length has a hamiltonian stored at `hamiltonians/sto-3g.<bond-length>.hdf5`"
   ]
  },
  {
   "cell_type": "code",
   "execution_count": 27,
   "metadata": {},
   "outputs": [],
   "source": [
    "# get the list of bond lengths for which we precomputed hamiltonians\n",
    "with h5py.File(\"bond_lengths.hdf5\", \"r\") as f:\n",
    "    try:\n",
    "        dset = f['bond_lengths']\n",
    "        bond_lengths = np.zeros(dset.shape)\n",
    "        dset.read_direct(bond_lengths)\n",
    "    except KeyError:\n",
    "        print(\"subgroup `bond_lengths` not in `bond_lengths.hdf5` data\")\n",
    "        \n",
    "if type(bond_lengths) == type(None):\n",
    "    print(\"failure to read bond lengths\")\n",
    "else:\n",
    "    bond_lengths = np.round(bond_lengths, 2)"
   ]
  },
  {
   "cell_type": "code",
   "execution_count": 51,
   "metadata": {},
   "outputs": [],
   "source": [
    "# list of hamiltonians\n",
    "hamiltonians = []\n",
    "\n",
    "for bond_length in bond_lengths:\n",
    "    hamiltonian = None\n",
    "    \n",
    "    # read hamiltonian from appropriate file\n",
    "    with h5py.File(\"hamiltonians/sto-3g.{}.hdf5\".format(round(bond_length, 2)), 'r') as f:\n",
    "        try:\n",
    "            dset = f['hamiltonian']\n",
    "            hamiltonian = dset[()]\n",
    "            #print(hamiltonian.shape)\n",
    "            #dset.read_direct(hamiltonian)\n",
    "        except KeyError:\n",
    "            print(\"subgroup `hamiltonian` not in `hamiltonians/{}` data\".format(round(bond_length, 2)))\n",
    "    \n",
    "    if type(hamiltonian) == type(None):\n",
    "        print(\"failure to read hamiltonian for bond length {}\".format(round(bond_length, 2)))\n",
    "        continue\n",
    "    \n",
    "    # add hamiltonian to dictionary of hamiltonians\n",
    "    hamiltonians.append(Qobj(hamiltonian))\n",
    "    \n",
    "hamiltonians = np.array(hamiltonians)"
   ]
  },
  {
   "cell_type": "code",
   "execution_count": 52,
   "metadata": {},
   "outputs": [],
   "source": [
    "def get_groundstate(hamiltonian):\n",
    "    return hamiltonian.groundstate()\n",
    "groundstatize = np.vectorize(get_groundstate)"
   ]
  },
  {
   "cell_type": "code",
   "execution_count": 79,
   "metadata": {},
   "outputs": [],
   "source": [
    "# create density matrix dictionary\n",
    "groundenergies, groundstates = groundstatize(hamiltonians)\n",
    "training_indices = [5, 7, np.argmin(groundenergies), 20, 30, 37]"
   ]
  },
  {
   "cell_type": "code",
   "execution_count": 82,
   "metadata": {},
   "outputs": [
    {
     "data": {
      "text/plain": [
       "(0, 2.5)"
      ]
     },
     "execution_count": 82,
     "metadata": {},
     "output_type": "execute_result"
    },
    {
     "data": {
      "image/png": "[encoded data removed]",
      "text/plain": [
       "<matplotlib.figure.Figure at 0x114f52550>"
      ]
     },
     "metadata": {},
     "output_type": "display_data"
    }
   ],
   "source": [
    "# plot hydrogen atom bond-length vs. ground-state energies\n",
    "# red points are those states selected for training, everything else is for testing\n",
    "plt.plot(bond_lengths, groundenergies, 'ob-')\n",
    "plt.plot(bond_lengths[training_indices], groundenergies[training_indices], 'or')\n",
    "plt.ylim([-1.2, -0.8])\n",
    "plt.xlim([0, 2.5])"
   ]
  },
  {
   "cell_type": "code",
   "execution_count": 84,
   "metadata": {},
   "outputs": [],
   "source": [
    "# generate density matrices for each groundstate\n",
    "focks = []\n",
    "for i in range(len(bond_lengths)):\n",
    "    focks.append(ket2dm(groundstates[i]))\n",
    "focks = np.array(focks)"
   ]
  },
  {
   "cell_type": "code",
   "execution_count": null,
   "metadata": {},
   "outputs": [],
   "source": []
  }
 ],
 "metadata": {
  "kernelspec": {
   "display_name": "pblt",
   "language": "python",
   "name": "pblt"
  },
  "language_info": {
   "codemirror_mode": {
    "name": "ipython",
    "version": 3
   },
   "file_extension": ".py",
   "mimetype": "text/x-python",
   "name": "python",
   "nbconvert_exporter": "python",
   "pygments_lexer": "ipython3",
   "version": "3.6.3"
  }
 },
 "nbformat": 4,
 "nbformat_minor": 2
}

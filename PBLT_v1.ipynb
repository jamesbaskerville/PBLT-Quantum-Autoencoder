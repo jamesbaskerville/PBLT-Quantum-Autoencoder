{
 "cells": [
  {
   "cell_type": "code",
   "execution_count": 32,
   "metadata": {},
   "outputs": [],
   "source": [
    "import numpy as np\n",
    "from qutip import *\n",
    "from scipy.optimize import minimize"
   ]
  },
  {
   "cell_type": "markdown",
   "metadata": {},
   "source": [
    "#### Parameters\n",
    "\n",
    "For n qubits, we need n(n-1) + 2n arbitary rotation gates, with 3 parameters each.\n",
    "\n",
    "https://arxiv.org/abs/1612.02806"
   ]
  },
  {
   "cell_type": "markdown",
   "metadata": {},
   "source": [
    "### Qutip Implementation"
   ]
  },
  {
   "cell_type": "code",
   "execution_count": 2,
   "metadata": {},
   "outputs": [],
   "source": [
    "# apply given single-qubit gate to any qubit in system of n qubits\n",
    "def tgtgate(n, gate, tgt):\n",
    "    lst = [qeye(2) for _ in range(n)]\n",
    "    lst[tgt] = gate\n",
    "    return tensor(lst)\n",
    "\n",
    "# create tensored identity in hilbert space of n qubits\n",
    "def tenseye(n):\n",
    "    return tensor([qeye(2) for _ in range(n)])\n",
    "\n",
    "# create operator from product of all gates in a circuit\n",
    "def gate_prod(n, gates):\n",
    "    prod = tenseye(n)\n",
    "    for gate in gates:\n",
    "        prod = prod * gate\n",
    "    return prod"
   ]
  },
  {
   "cell_type": "code",
   "execution_count": 16,
   "metadata": {},
   "outputs": [],
   "source": [
    "# arbitrary rotation/controlled rotation gates\n",
    "# https://arxiv.org/abs/quant-ph/9503016\n",
    "\n",
    "# ROT = Rz(alpha) * Ry(theta) * Rz(beta)\n",
    "def rot(n, params, tgt):\n",
    "    alpha, theta, beta = params\n",
    "    return rz(alpha, n, tgt)*ry(theta, n, tgt)*rz(beta, n, tgt)\n",
    "\n",
    "# CROT = A * CNOT * B * CNOT * C\n",
    "# A = Rz(alpha)*Ry(theta / 2)\n",
    "# B = Ry(-theta / 2) * Rz(-(alpha + beta) / 2)\n",
    "# C = Rz((beta - alpha) / 2)\n",
    "def ctrl_rot(n, params, ctrl, tgt):\n",
    "    alpha, theta, beta = params\n",
    "    A = rz(alpha, n, tgt) * ry(theta / 2.0, n, tgt)\n",
    "    B = ry(-theta / 2.0, n, tgt) * rz(-(alpha + beta) / 2.0, n, tgt)\n",
    "    C = rz((beta - alpha) / 2.0, n, tgt)\n",
    "    assert (A*B*C == tenseye(n))\n",
    "    assert (A*tgtgate(n, sigmax(), tgt)*B*tgtgate(n, sigmax(), tgt)*C == rot(n, params, tgt))\n",
    "    return A * cnot(n, ctrl, tgt) * B * cnot(n, ctrl, tgt) * C"
   ]
  },
  {
   "cell_type": "markdown",
   "metadata": {},
   "source": [
    "#### Data Structures"
   ]
  },
  {
   "cell_type": "code",
   "execution_count": 37,
   "metadata": {},
   "outputs": [],
   "source": [
    "def init_params(n_params, method=np.ones):\n",
    "    return method(n_params)\n",
    "\n",
    "def split_params(n, params):\n",
    "    return (params[:3*n].reshape(n, 3),\n",
    "            params[3*n:-3*n].reshape(n, n-1, 3),\n",
    "            params[-3*n:].reshape(n, 3))\n",
    "\n",
    "def recombine_params(first, mid, last):\n",
    "    return np.concatenate((first.flatten(), mid.flatten(), last.flatten()))"
   ]
  },
  {
   "cell_type": "markdown",
   "metadata": {},
   "source": [
    "#### Circuit\n",
    "The circuit outlined in red below is the unitary gate for encoding (in this case, for 4 qubit inputs).\n",
    "![arbitrary_rotation_gate_circuit](https://image.ibb.co/ji9XBc/unit_cell_arb_rot.png)"
   ]
  },
  {
   "cell_type": "code",
   "execution_count": 5,
   "metadata": {},
   "outputs": [],
   "source": [
    "# # create circuit from parameters\n",
    "# def get_circuit_gates(num_gates, params):\n",
    "#     gates = np.array([tenseye(4) for _ in range(num_gates)])\n",
    "\n",
    "#     # R1 - R4\n",
    "#     for gate_num in range(0, 4):\n",
    "#         alpha, theta, beta = params[gate_num]\n",
    "#         gates[gate_num] = arb_rot(n, alpha, theta, beta, gate_num - 0)\n",
    "\n",
    "#     # R5 - R7 controlled by qubit 0\n",
    "#     for gate_num in range(4, 7):\n",
    "#         control = 0\n",
    "#         targets = [1, 2, 3]\n",
    "#         alpha, theta, beta = params[gate_num]\n",
    "#         gates[gate_num] = ctrl_rot(n, alpha, theta, beta, control, targets[gate_num - 4])\n",
    "\n",
    "#     # R8 - R10 controlled by qubit 1\n",
    "#     for gate_num in range(7, 10):\n",
    "#         control = 1\n",
    "#         targets = [0, 2, 3]\n",
    "#         alpha, theta, beta = params[gate_num]\n",
    "#         gates[gate_num] = ctrl_rot(n, alpha, theta, beta, control, targets[gate_num - 7])\n",
    "\n",
    "#     # R11 - R13 controlled by qubit 2\n",
    "#     for gate_num in range(10, 13):\n",
    "#         control = 2\n",
    "#         targets = [0, 1, 3]\n",
    "#         alpha, theta, beta = params[gate_num]\n",
    "#         gates[gate_num] = ctrl_rot(n, alpha, theta, beta, control, targets[gate_num - 10])\n",
    "\n",
    "#     # R14 - R16 controlled by qubit 3\n",
    "#     for gate_num in range(13, 16):\n",
    "#         control = 3\n",
    "#         targets = [0, 1, 2]\n",
    "#         alpha, theta, beta = params[gate_num]\n",
    "#         gates[gate_num] = ctrl_rot(n, alpha, theta, beta, control, targets[gate_num - 13])\n",
    "\n",
    "#     # R17 - R20\n",
    "#     for gate_num in range(16, 20):\n",
    "#         alpha, theta, beta = params[gate_num]\n",
    "#         gates[gate_num] = arb_rot(n, alpha, theta, beta, gate_num - 16)\n",
    "\n",
    "#     return gates"
   ]
  },
  {
   "cell_type": "code",
   "execution_count": 6,
   "metadata": {},
   "outputs": [],
   "source": [
    "# gate_product = gate_prod(n, gates)\n",
    "# gate_product"
   ]
  },
  {
   "cell_type": "code",
   "execution_count": 7,
   "metadata": {},
   "outputs": [],
   "source": [
    "def wrapper(n, params):\n",
    "    assert (len(params) == n)\n",
    "    gates = []\n",
    "    for tgt, rot_params in enumerate(params):\n",
    "        gates.append(rot(n, rot_params, tgt))\n",
    "    return gate_prod(n, gates)\n",
    "\n",
    "def blue_box(n, params, ctrl):\n",
    "    p_index = 0\n",
    "    gates = []\n",
    "    for tgt in range(n):\n",
    "        #print (tgt, ctrl)\n",
    "        if tgt == ctrl:\n",
    "            continue\n",
    "        rot_params = params[p_index]\n",
    "        p_index += 1\n",
    "        gates.append(ctrl_rot(n, rot_params, ctrl, tgt))\n",
    "    return gate_prod(n, gates)\n",
    "\n",
    "def create_circuit(n, all_params):\n",
    "    gates = []\n",
    "    \n",
    "    # split parameters\n",
    "    f, m, b = split_params(n, all_params)\n",
    "    \n",
    "    # front wrapper\n",
    "    gates.append(wrapper(n, f))\n",
    "    \n",
    "    # blue boxes\n",
    "    for i in range(n):\n",
    "        gates.append(blue_box(n, m[i], i))\n",
    "    \n",
    "    # back wrapper\n",
    "    gates.append(wrapper(n, b))\n",
    "    \n",
    "    return gate_prod(n, gates)"
   ]
  },
  {
   "cell_type": "code",
   "execution_count": 132,
   "metadata": {},
   "outputs": [],
   "source": [
    "# returns n, number of gates needed, number of params needed\n",
    "def init_consts(n):\n",
    "    n_gates = n * (n - 1) + 2 * n\n",
    "    n_params = 3 * n_gates\n",
    "    return n, n_gates, n_params\n",
    "\n",
    "# given input state and output state, returns estimated fidelity\n",
    "#     we can cast to integer because this is the norm squared\n",
    "#     there's no longer any complex component\n",
    "def overlap(inp, oup):\n",
    "    ol = inp.overlap(oup)\n",
    "    return int(ol * ol.conj())\n",
    "v_overlap = np.vectorize(overlap)\n",
    "\n",
    "# return objective to minimize for scipy optimizers\n",
    "#     given N data points\n",
    "#     params: parameters to tune\n",
    "#     args: [n, ...bunch_of_instates_to_train_on...]\n",
    "def obj_func(params, *args):\n",
    "    n = args[0]\n",
    "    in_states = args[1:]\n",
    "    \n",
    "    # create encoding operator from parameters of the rotation gates\n",
    "    encoding_op = create_circuit(n, params)\n",
    "    \n",
    "    # apply encoding circuit to all training data\n",
    "    # (should probably split this up into epochs)\n",
    "    out_states = encoding_op * in_states\n",
    "    \n",
    "    overlaps = 1 - v_overlap(in_states, out_states)\n",
    "    return sum(overlaps)"
   ]
  },
  {
   "cell_type": "code",
   "execution_count": 117,
   "metadata": {},
   "outputs": [],
   "source": [
    "# create qubit from a rand float\n",
    "def qubit(a, b):    \n",
    "    # random phase shifts\n",
    "    if np.random.rand() <= 0.5:\n",
    "        a = a * 1.0j\n",
    "    if np.random.rand() <= 0.5:\n",
    "        b = b * 1.0j\n",
    "    return Qobj([[a],[b]]).unit()\n",
    "v_qubit = np.vectorize(qubit)\n",
    "\n",
    "def gen_data(n_orig, n_enc, data_count=100):\n",
    "    assert(n_orig >= n_enc)\n",
    "    data = []\n",
    "    \n",
    "    # choose which qubits to exclude\n",
    "    excluded = np.random.choice(range(n_orig), size=(n_orig - n_enc), replace=False)\n",
    "    \n",
    "    # set shape matrix\n",
    "    shape = [2]*n_orig\n",
    "    \n",
    "    # generate data\n",
    "    for _ in range(data_count):\n",
    "        qubits = v_qubit(2 * np.random.random(n_orig) - 1, 2 * np.random.random(n_orig) - 1)\n",
    "        qubits[excluded] = basis(2,0)\n",
    "        data.append((tensor(qubits)).unit())\n",
    "        \n",
    "    return np.array(data)"
   ]
  },
  {
   "cell_type": "code",
   "execution_count": 99,
   "metadata": {},
   "outputs": [],
   "source": [
    "data = gen_data(2,1,data_count=1000)"
   ]
  },
  {
   "cell_type": "code",
   "execution_count": 103,
   "metadata": {},
   "outputs": [
    {
     "data": {
      "text/plain": [
       "[Quantum object: dims = [[2, 2], [1, 1]], shape = (4, 1), type = ket\n",
       " Qobj data =\n",
       " [[ 0.        +0.54438291j]\n",
       "  [ 0.        +0.j        ]\n",
       "  [-0.83883684+0.j        ]\n",
       "  [ 0.        +0.j        ]],\n",
       " Quantum object: dims = [[2, 2], [1, 1]], shape = (4, 1), type = ket\n",
       " Qobj data =\n",
       " [[ 0.75754681]\n",
       "  [ 0.        ]\n",
       "  [-0.65278084]\n",
       "  [ 0.        ]],\n",
       " Quantum object: dims = [[2, 2], [1, 1]], shape = (4, 1), type = ket\n",
       " Qobj data =\n",
       " [[0.+0.37994996j]\n",
       "  [0.+0.j        ]\n",
       "  [0.-0.92500704j]\n",
       "  [0.+0.j        ]],\n",
       " Quantum object: dims = [[2, 2], [1, 1]], shape = (4, 1), type = ket\n",
       " Qobj data =\n",
       " [[-0.51997883+0.j        ]\n",
       "  [ 0.        +0.j        ]\n",
       "  [ 0.        +0.85417915j]\n",
       "  [ 0.        +0.j        ]],\n",
       " Quantum object: dims = [[2, 2], [1, 1]], shape = (4, 1), type = ket\n",
       " Qobj data =\n",
       " [[ 0.16300715]\n",
       "  [ 0.        ]\n",
       "  [-0.98662489]\n",
       "  [ 0.        ]]]"
      ]
     },
     "execution_count": 103,
     "metadata": {},
     "output_type": "execute_result"
    }
   ],
   "source": [
    "initial_params = init_params(num_params)\n",
    "data[:5]\n",
    "# minimize(obj_func, initial_params, method='Nelder-Mead')"
   ]
  },
  {
   "cell_type": "code",
   "execution_count": 133,
   "metadata": {},
   "outputs": [
    {
     "name": "stderr",
     "output_type": "stream",
     "text": [
      "/Users/jwbaskerv/Envs/pblt/lib/python3.6/site-packages/ipykernel_launcher.py:13: ComplexWarning: Casting complex values to real discards the imaginary part\n",
      "  del sys.path[0]\n"
     ]
    },
    {
     "data": {
      "text/plain": [
       "2"
      ]
     },
     "execution_count": 133,
     "metadata": {},
     "output_type": "execute_result"
    }
   ],
   "source": [
    "U = sigmax()\n",
    "instates = np.array([Qobj([[0],[1]]), Qobj([[1],[0]])])\n",
    "outstates = U*instates\n",
    "sum(1-v_overlap(instates, outstates))"
   ]
  },
  {
   "cell_type": "code",
   "execution_count": 114,
   "metadata": {},
   "outputs": [
    {
     "ename": "NameError",
     "evalue": "name 'qubit' is not defined",
     "output_type": "error",
     "traceback": [
      "\u001b[0;31m---------------------------------------------------------------------------\u001b[0m",
      "\u001b[0;31mNameError\u001b[0m                                 Traceback (most recent call last)",
      "\u001b[0;32m<ipython-input-114-6bf5ffb9121e>\u001b[0m in \u001b[0;36m<module>\u001b[0;34m()\u001b[0m\n\u001b[0;32m----> 1\u001b[0;31m \u001b[0mqubit\u001b[0m\u001b[0;34m(\u001b[0m\u001b[0;34m)\u001b[0m\u001b[0;34m\u001b[0m\u001b[0m\n\u001b[0m",
      "\u001b[0;31mNameError\u001b[0m: name 'qubit' is not defined"
     ]
    }
   ],
   "source": [
    "qubit()"
   ]
  },
  {
   "cell_type": "code",
   "execution_count": 115,
   "metadata": {},
   "outputs": [
    {
     "ename": "NameError",
     "evalue": "name 'overlap' is not defined",
     "output_type": "error",
     "traceback": [
      "\u001b[0;31m---------------------------------------------------------------------------\u001b[0m",
      "\u001b[0;31mNameError\u001b[0m                                 Traceback (most recent call last)",
      "\u001b[0;32m<ipython-input-115-96c015efeb20>\u001b[0m in \u001b[0;36m<module>\u001b[0;34m()\u001b[0m\n\u001b[0;32m----> 1\u001b[0;31m \u001b[0moverlap\u001b[0m\u001b[0;34m(\u001b[0m\u001b[0;34m)\u001b[0m\u001b[0;34m\u001b[0m\u001b[0m\n\u001b[0m",
      "\u001b[0;31mNameError\u001b[0m: name 'overlap' is not defined"
     ]
    }
   ],
   "source": [
    "overlap()"
   ]
  },
  {
   "cell_type": "code",
   "execution_count": null,
   "metadata": {},
   "outputs": [],
   "source": []
  }
 ],
 "metadata": {
  "kernelspec": {
   "display_name": "pblt",
   "language": "python",
   "name": "pblt"
  },
  "language_info": {
   "codemirror_mode": {
    "name": "ipython",
    "version": 3
   },
   "file_extension": ".py",
   "mimetype": "text/x-python",
   "name": "python",
   "nbconvert_exporter": "python",
   "pygments_lexer": "ipython3",
   "version": "3.6.3"
  }
 },
 "nbformat": 4,
 "nbformat_minor": 2
}

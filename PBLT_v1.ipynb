{
 "cells": [
  {
   "cell_type": "code",
   "execution_count": 2,
   "metadata": {},
   "outputs": [],
   "source": [
    "import numpy as np\n",
    "from qutip import *"
   ]
  },
  {
   "cell_type": "markdown",
   "metadata": {},
   "source": [
    "#### Parameters\n",
    "\n",
    "For n qubits, we need n(n-1) + 2n arbitary rotation gates, with 3 parameters each.\n",
    "\n",
    "https://arxiv.org/abs/1612.02806"
   ]
  },
  {
   "cell_type": "code",
   "execution_count": 12,
   "metadata": {},
   "outputs": [],
   "source": [
    "n = 4\n",
    "num_gates = n * (n - 1) + 2 * n\n",
    "num_params = 3 * num_gates"
   ]
  },
  {
   "cell_type": "markdown",
   "metadata": {},
   "source": [
    "### Qutip Implementation"
   ]
  },
  {
   "cell_type": "code",
   "execution_count": 16,
   "metadata": {},
   "outputs": [],
   "source": [
    "# arbitrary rotation gate on one qubit\n",
    "def arb_rot(ax, ay, az):\n",
    "    return rx(ax)*ry(ay)*rz(az)"
   ]
  },
  {
   "cell_type": "markdown",
   "metadata": {},
   "source": [
    "#### Data Structures"
   ]
  },
  {
   "cell_type": "code",
   "execution_count": 21,
   "metadata": {},
   "outputs": [],
   "source": [
    "gates = np.array([qeye(2) for _ in range(num_gates)])\n",
    "params = np.ones(num_params)"
   ]
  },
  {
   "cell_type": "markdown",
   "metadata": {},
   "source": [
    "#### Circuit\n",
    "The circuit outlined in red below is the unitary gate for encoding (in this case, for 4 qubit inputs).\n",
    "![arbitrary_rotation_gate_circuit](https://image.ibb.co/ji9XBc/unit_cell_arb_rot.png)"
   ]
  },
  {
   "cell_type": "code",
   "execution_count": 27,
   "metadata": {},
   "outputs": [],
   "source": [
    "# R1 - R4\n",
    "for gate_num in range(4):\n",
    "    ax, ay, az = params[3*gate_num : 3*(gate_num+1)]\n",
    "    gates[gate_num] = arb_rot(ax, ay, az)\n",
    "\n",
    "# R5 - R7   controlled by qubit 0\n",
    "for gate_num in range(4, 7):\n",
    "    ax, ay, az = params[3*gate_num : 3*(gate_num+1)]\n",
    "    #gates[gate_num] = arb_rot(ax, ay, az)\n",
    "\n",
    "# R8 - R10  controlled by qubit 1\n",
    "for gate_num in range(7, 10):\n",
    "    ax, ay, az = params[3*gate_num : 3*(gate_num+1)]\n",
    "    #gates[gate_num] = arb_rot(ax, ay, az)\n",
    "\n",
    "# R11 - R13 controlled by qubit 2\n",
    "for gate_num in range(10, 13):\n",
    "    ax, ay, az = params[3*gate_num : 3*(gate_num+1)]\n",
    "    #gates[gate_num] = arb_rot(ax, ay, az)\n",
    "\n",
    "# R14 - R16 controlled by qubit 3\n",
    "for gate_num in range(13, 16):\n",
    "    ax, ay, az = params[3*gate_num : 3*(gate_num+1)]\n",
    "    #gates[gate_num] = arb_rot(ax, ay, az)\n",
    "\n",
    "# R17 - R20\n",
    "for gate_num in range(16, 20):\n",
    "    ax, ay, az = params[3*gate_num : 3*(gate_num+1)]\n",
    "    gates[gate_num] = arb_rot(ax, ay, az)"
   ]
  },
  {
   "cell_type": "code",
   "execution_count": null,
   "metadata": {},
   "outputs": [],
   "source": []
  }
 ],
 "metadata": {
  "kernelspec": {
   "display_name": "Python 3",
   "language": "python",
   "name": "python3"
  },
  "language_info": {
   "codemirror_mode": {
    "name": "ipython",
    "version": 3
   },
   "file_extension": ".py",
   "mimetype": "text/x-python",
   "name": "python",
   "nbconvert_exporter": "python",
   "pygments_lexer": "ipython3",
   "version": "3.6.3"
  }
 },
 "nbformat": 4,
 "nbformat_minor": 2
}

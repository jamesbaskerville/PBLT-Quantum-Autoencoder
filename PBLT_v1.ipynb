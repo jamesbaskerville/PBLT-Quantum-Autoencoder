{
 "cells": [
  {
   "cell_type": "code",
   "execution_count": 1,
   "metadata": {},
   "outputs": [
    {
     "name": "stderr",
     "output_type": "stream",
     "text": [
      "/home/leepeter6564/Envs/pblt/lib/python3.5/site-packages/h5py/__init__.py:36: FutureWarning: Conversion of the second argument of issubdtype from `float` to `np.floating` is deprecated. In future, it will be treated as `np.float64 == np.dtype(float).type`.\n",
      "  from ._conv import register_converters as _register_converters\n"
     ]
    }
   ],
   "source": [
    "import numpy as np\n",
    "from qutip import *\n",
    "from scipy.optimize import minimize\n",
    "import h5py\n",
    "import matplotlib.pyplot as plt\n",
    "import sys\n",
    "import pickle\n",
    "import time"
   ]
  },
  {
   "cell_type": "markdown",
   "metadata": {},
   "source": [
    "#### Parameters\n",
    "\n",
    "For n qubits, we need n(n-1) + 2n arbitary rotation gates, with 3 parameters each.\n",
    "\n",
    "https://arxiv.org/abs/1612.02806"
   ]
  },
  {
   "cell_type": "code",
   "execution_count": 2,
   "metadata": {},
   "outputs": [],
   "source": [
    "# functions for pickling (saving) arbitrary objects\n",
    "# necessary because HDFsav5 cannot easily save objects such as dictionaries\n",
    "def save_obj(obj, name):\n",
    "    with open('pickle/'+ name + '.pkl', 'wb') as f:\n",
    "        pickle.dump(obj, f, pickle.HIGHEST_PROTOCOL)\n",
    "\n",
    "def load_obj(name):\n",
    "    with open('pickle/' + name + '.pkl', 'rb') as f:\n",
    "        return pickle.load(f)"
   ]
  },
  {
   "cell_type": "markdown",
   "metadata": {},
   "source": [
    "### QuTip Implementation"
   ]
  },
  {
   "cell_type": "markdown",
   "metadata": {},
   "source": [
    "#### QuTip Helper Functions"
   ]
  },
  {
   "cell_type": "code",
   "execution_count": 3,
   "metadata": {},
   "outputs": [],
   "source": [
    "# apply given single-qubit gate to any qubit in system of n qubits\n",
    "def tgtgate(n, gate, tgt):\n",
    "    lst = [qeye(2) for _ in range(n)]\n",
    "    lst[tgt] = gate\n",
    "    return tensor(lst)\n",
    "\n",
    "# create tensored identity in hilbert space of n qubits\n",
    "def tenseye(n):\n",
    "    return tensor([qeye(2) for _ in range(n)])\n",
    "\n",
    "# create operator from product of all gates in a circuit\n",
    "def gate_prod(n, gates):\n",
    "    prod = tenseye(n)\n",
    "    for gate in gates:\n",
    "        prod = prod * gate\n",
    "    return prod"
   ]
  },
  {
   "cell_type": "markdown",
   "metadata": {},
   "source": [
    "#### Arbitrary Rotation Gates (single-qubit and controlled)"
   ]
  },
  {
   "cell_type": "code",
   "execution_count": 4,
   "metadata": {},
   "outputs": [],
   "source": [
    "# https://arxiv.org/abs/quant-ph/9503016\n",
    "\n",
    "# ROT = Rz(alpha) * Ry(theta) * Rz(beta)\n",
    "def rot(n, params, tgt):\n",
    "    alpha, theta, beta = params\n",
    "    return rz(alpha, n, tgt)*ry(theta, n, tgt)*rz(beta, n, tgt)\n",
    "\n",
    "# CROT = A * CNOT * B * CNOT * C\n",
    "# A = Rz(alpha)*Ry(theta / 2)\n",
    "# B = Ry(-theta / 2) * Rz(-(alpha + beta) / 2)\n",
    "# C = Rz((beta - alpha) / 2)\n",
    "def ctrl_rot(n, params, ctrl, tgt):\n",
    "    alpha, theta, beta = params\n",
    "    A = rz(alpha, n, tgt) * ry(theta / 2.0, n, tgt)\n",
    "    B = ry(-theta / 2.0, n, tgt) * rz(-(alpha + beta) / 2.0, n, tgt)\n",
    "    C = rz((beta - alpha) / 2.0, n, tgt)\n",
    "    \n",
    "    # these should ALWAYS be true, no matter the values of parameters\n",
    "#     if not (A*B*C == tenseye(n)):\n",
    "#         tb = sys.exc_info()[2]\n",
    "#         raise RuntimeError(\"ABC not equal to identity\").with_traceback(tb)\n",
    "#     elif not (A*tgtgate(n, sigmax(), tgt)*B*tgtgate(n, sigmax(), tgt)*C == rot(n, params, tgt)):\n",
    "#         tb = sys.exc_info()[2]\n",
    "#         raise RuntimeError(\"AXBXC not equal to correct rotation gate\").with_traceback(tb)\n",
    "    \n",
    "    return A * cnot(n, ctrl, tgt) * B * cnot(n, ctrl, tgt) * C"
   ]
  },
  {
   "cell_type": "markdown",
   "metadata": {},
   "source": [
    "#### Parameter Manipulation"
   ]
  },
  {
   "cell_type": "code",
   "execution_count": 5,
   "metadata": {},
   "outputs": [],
   "source": [
    "def init_consts(n_qubits):\n",
    "    n_gates = n_qubits * (n_qubits - 1) + 2 * n_qubits\n",
    "    n_params = n_gates * 3\n",
    "    return n_gates, n_params\n",
    "\n",
    "def init_params(n_params, method=np.zeros):\n",
    "    return method(n_params)\n",
    "\n",
    "def split_params(n_qs, params):\n",
    "    return (params[:3*n_qs].reshape(n_qs, 3),\n",
    "            params[3*n_qs:-3*n_qs].reshape(n_qs, n_qs-1, 3),\n",
    "            params[-3*n_qs:].reshape(n_qs, 3))\n",
    "\n",
    "def recombine_params(first, mid, last):\n",
    "    return np.concatenate((first.flatten(), mid.flatten(), last.flatten()))"
   ]
  },
  {
   "cell_type": "markdown",
   "metadata": {},
   "source": [
    "#### Circuit\n",
    "The circuit outlined in red below is the unitary gate for encoding (in this case, for 4 qubit inputs).\n",
    "![arbitrary_rotation_gate_circuit](https://image.ibb.co/ji9XBc/unit_cell_arb_rot.png)"
   ]
  },
  {
   "cell_type": "code",
   "execution_count": 6,
   "metadata": {},
   "outputs": [],
   "source": [
    "# # create circuit from parameters\n",
    "# def get_circuit_gates(num_gates, params):\n",
    "#     gates = np.array([tenseye(4) for _ in range(num_gates)])\n",
    "\n",
    "#     # R1 - R4\n",
    "#     for gate_num in range(0, 4):\n",
    "#         alpha, theta, beta = params[gate_num]\n",
    "#         gates[gate_num] = arb_rot(n, alpha, theta, beta, gate_num - 0)\n",
    "\n",
    "#     # R5 - R7 controlled by qubit 0\n",
    "#     for gate_num in range(4, 7):\n",
    "#         control = 0\n",
    "#         targets = [1, 2, 3]\n",
    "#         alpha, theta, beta = params[gate_num]\n",
    "#         gates[gate_num] = ctrl_rot(n, alpha, theta, beta, control, targets[gate_num - 4])\n",
    "\n",
    "#     # R8 - R10 controlled by qubit 1\n",
    "#     for gate_num in range(7, 10):\n",
    "#         control = 1\n",
    "#         targets = [0, 2, 3]\n",
    "#         alpha, theta, beta = params[gate_num]\n",
    "#         gates[gate_num] = ctrl_rot(n, alpha, theta, beta, control, targets[gate_num - 7])\n",
    "\n",
    "#     # R11 - R13 controlled by qubit 2\n",
    "#     for gate_num in range(10, 13):\n",
    "#         control = 2\n",
    "#         targets = [0, 1, 3]\n",
    "#         alpha, theta, beta = params[gate_num]\n",
    "#         gates[gate_num] = ctrl_rot(n, alpha, theta, beta, control, targets[gate_num - 10])\n",
    "\n",
    "#     # R14 - R16 controlled by qubit 3\n",
    "#     for gate_num in range(13, 16):\n",
    "#         control = 3\n",
    "#         targets = [0, 1, 2]\n",
    "#         alpha, theta, beta = params[gate_num]\n",
    "#         gates[gate_num] = ctrl_rot(n, alpha, theta, beta, control, targets[gate_num - 13])\n",
    "\n",
    "#     # R17 - R20\n",
    "#     for gate_num in range(16, 20):\n",
    "#         alpha, theta, beta = params[gate_num]\n",
    "#         gates[gate_num] = arb_rot(n, alpha, theta, beta, gate_num - 16)\n",
    "\n",
    "#     return gates"
   ]
  },
  {
   "cell_type": "code",
   "execution_count": 7,
   "metadata": {},
   "outputs": [],
   "source": [
    "# gate_product = gate_prod(n, gates)\n",
    "# gate_product"
   ]
  },
  {
   "cell_type": "markdown",
   "metadata": {},
   "source": [
    "#### Circuit Implementation"
   ]
  },
  {
   "cell_type": "code",
   "execution_count": 8,
   "metadata": {},
   "outputs": [],
   "source": [
    "# The n rotation gates (one on each qubit) that happen at the start and end.\n",
    "def wrapper_gate(n, param_sets):\n",
    "    if len(param_sets) != n:\n",
    "        raise ValueError('number of sets of params should correspond to number of gates')\n",
    "    gates = []\n",
    "    for tgt, rot_params in enumerate(param_sets):\n",
    "        gates.append(rot(n, rot_params, tgt))\n",
    "    return gate_prod(n, gates)\n",
    "\n",
    "# The n-1 gates in each \"blue box\" (set of controlled rotation gates)\n",
    "def blue_box_gate(n, params, ctrl):\n",
    "    p_index = 0\n",
    "    gates = []\n",
    "    for tgt in range(n):\n",
    "        #print (tgt, ctrl)\n",
    "        if tgt == ctrl:\n",
    "            continue\n",
    "        rot_params = params[p_index]\n",
    "        p_index += 1\n",
    "        gates.append(ctrl_rot(n, rot_params, ctrl, tgt))\n",
    "    return gate_prod(n, gates)\n",
    "\n",
    "# The circuit as a whole -- front wrapper, blue boxes, back wrapper\n",
    "def create_circuit_gate(n, all_params):\n",
    "    params = np.array(all_params)\n",
    "    gates = []\n",
    "    \n",
    "    # split parameters\n",
    "    f, m, b = split_params(n, params)\n",
    "    \n",
    "    # front wrapper\n",
    "    gates.append(wrapper_gate(n, f))\n",
    "    \n",
    "    # blue boxes\n",
    "    for i in range(n):\n",
    "        gates.append(blue_box_gate(n, m[i], i))\n",
    "    \n",
    "    # back wrapper\n",
    "    gates.append(wrapper_gate(n, b))\n",
    "    \n",
    "    return gate_prod(n, gates)"
   ]
  },
  {
   "cell_type": "code",
   "execution_count": 9,
   "metadata": {},
   "outputs": [],
   "source": [
    "# # given input state and output state, returns estimated fidelity\n",
    "# #     we can cast to integer because this is the norm squared\n",
    "# #     there's no longer any complex component\n",
    "# def overlap(inp, oup):\n",
    "#     ol = inp.overlap(oup)\n",
    "#     return int(ol * ol.conj())\n",
    "# v_overlap = np.vectorize(overlap)\n",
    "\n",
    "# # return objective to minimize for scipy optimizers\n",
    "# #     given N data points\n",
    "# #     params: parameters to tune\n",
    "# #     args: [n, ...bunch_of_instates_to_train_on...]\n",
    "# def obj_func(params, *args):\n",
    "#     n = args[0]\n",
    "#     in_states = args[1:]\n",
    "    \n",
    "#     # create encoding operator from parameters of the rotation gates\n",
    "#     encoding_op = create_circuit_gate(n, params)\n",
    "    \n",
    "#     # apply encoding circuit to all training data\n",
    "#     # (should probably split this up into epochs)\n",
    "#     out_states = encoding_op * in_states\n",
    "    \n",
    "#     overlaps = 1 - v_overlap(in_states, out_states)\n",
    "#     return sum(overlaps)"
   ]
  },
  {
   "cell_type": "code",
   "execution_count": 10,
   "metadata": {},
   "outputs": [],
   "source": [
    "# # create qubit from a rand float\n",
    "# def qubit(a, b):    \n",
    "#     # random phase shifts\n",
    "#     if np.random.rand() <= 0.5:\n",
    "#         a = a * 1.0j\n",
    "#     if np.random.rand() <= 0.5:\n",
    "#         b = b * 1.0j\n",
    "#     return Qobj([[a],[b]]).unit()\n",
    "# v_qubit = np.vectorize(qubit)\n",
    "\n",
    "# def gen_data(n_orig, n_enc, data_count=100):\n",
    "#     if n_orig < n_enc:\n",
    "#         raise ValueError, \"\"\n",
    "#     assert(n_orig >= n_enc)\n",
    "#     data = []\n",
    "    \n",
    "#     # choose which qubits to exclude\n",
    "#     excluded = np.random.choice(range(n_orig), size=(n_orig - n_enc), replace=False)\n",
    "    \n",
    "#     # set shape matrix\n",
    "#     shape = [2]*n_orig\n",
    "    \n",
    "#     # generate data\n",
    "#     for _ in range(data_count):\n",
    "#         qubits = v_qubit(2 * np.random.random(n_orig) - 1, 2 * np.random.random(n_orig) - 1)\n",
    "#         qubits[excluded] = basis(2,0)\n",
    "#         data.append((tensor(qubits)).unit())\n",
    "        \n",
    "#     return np.array(data)"
   ]
  },
  {
   "cell_type": "code",
   "execution_count": 11,
   "metadata": {},
   "outputs": [],
   "source": [
    "# data = gen_data(2,1,data_count=1000)\n",
    "# initial_params = init_params(num_params)\n",
    "# data[:5]\n",
    "# # minimize(obj_func, initial_params, method='Nelder-Mead')"
   ]
  },
  {
   "cell_type": "code",
   "execution_count": 12,
   "metadata": {},
   "outputs": [],
   "source": [
    "# U = sigmax()\n",
    "# instates = np.array([Qobj([[0],[1]]), Qobj([[1],[0]])])\n",
    "# outstates = U*instates\n",
    "# sum(1-v_overlap(instates, outstates))"
   ]
  },
  {
   "cell_type": "markdown",
   "metadata": {},
   "source": [
    "## Density Matrix Overview:\n",
    "\n",
    "In order to understand how the cost function is computed for the autoencoder, we will need to describe our system in terms of density matricies. Density matrices are useful because they describe ensemble behavior of quantum experiments - which are often the result of imperfect quantum manipulations.\n",
    "\n",
    "To this point in ES170 we have dealt only with pure states - where the quantum state of the system inputs and outputs can be described by a single state vector.\n",
    "\n",
    "In practice we can have states which are a probablilistic ensemble of pure states. Note that this is fundamentally different from a superposition. We will explore describe this distinction explicitly below. Density matrices are a useful tool for describing this more general class of ensemble states.\n",
    "\n",
    "The following examples will illustrate the mechanics of density matrices.\n",
    "\n",
    "For a pure state, $|\\psi>$ the density matrix (sometimes called the density operator) is given by the following:\n",
    "\n",
    "$\\rho = |\\psi><\\psi|$\n",
    "\n",
    "For a single bit system, expressed in the $\\{|0>,|1>\\}$ basis, the density matrix elements are thus:\n",
    "\n",
    "$\\rho_{11} = <0|\\rho|0>$\n",
    "\n",
    "$\\rho_{12} = <0|\\rho|1>$\n",
    "\n",
    "$\\rho_{21} = <1|\\rho|0>$\n",
    "\n",
    "$\\rho_{12} = <1|\\rho|1>$\n",
    "\n",
    "With some simple dirac manipulation, we can see that the entries of the density matrix are probabilities. For example, $\\rho_{11}$ is the probability of measuring $|\\psi>$ in state zero.\n",
    "\n",
    "As an example, we construct the density matrix for basis states:"
   ]
  },
  {
   "cell_type": "code",
   "execution_count": 13,
   "metadata": {},
   "outputs": [
    {
     "data": {
      "text/latex": [
       "Quantum object: dims = [[2], [2]], shape = (2, 2), type = oper, isherm = True\\begin{equation*}\\left(\\begin{array}{*{11}c}1.0 & 0.0\\\\0.0 & 0.0\\\\\\end{array}\\right)\\end{equation*}"
      ],
      "text/plain": [
       "Quantum object: dims = [[2], [2]], shape = (2, 2), type = oper, isherm = True\n",
       "Qobj data =\n",
       "[[1. 0.]\n",
       " [0. 0.]]"
      ]
     },
     "execution_count": 13,
     "metadata": {},
     "output_type": "execute_result"
    }
   ],
   "source": [
    "# Basis state 0 \n",
    "q0 = basis(2,0)\n",
    "\n",
    "rho = q0*q0.dag()\n",
    "\n",
    "rho"
   ]
  },
  {
   "cell_type": "code",
   "execution_count": 14,
   "metadata": {},
   "outputs": [
    {
     "data": {
      "text/latex": [
       "Quantum object: dims = [[2], [2]], shape = (2, 2), type = oper, isherm = True\\begin{equation*}\\left(\\begin{array}{*{11}c}1.0 & 0.0\\\\0.0 & 0.0\\\\\\end{array}\\right)\\end{equation*}"
      ],
      "text/plain": [
       "Quantum object: dims = [[2], [2]], shape = (2, 2), type = oper, isherm = True\n",
       "Qobj data =\n",
       "[[1. 0.]\n",
       " [0. 0.]]"
      ]
     },
     "execution_count": 14,
     "metadata": {},
     "output_type": "execute_result"
    }
   ],
   "source": [
    "# note the following function also works\n",
    "ket2dm(q0)"
   ]
  },
  {
   "cell_type": "code",
   "execution_count": 15,
   "metadata": {},
   "outputs": [
    {
     "data": {
      "text/latex": [
       "Quantum object: dims = [[2], [2]], shape = (2, 2), type = oper, isherm = True\\begin{equation*}\\left(\\begin{array}{*{11}c}0.0 & 0.0\\\\0.0 & 1.0\\\\\\end{array}\\right)\\end{equation*}"
      ],
      "text/plain": [
       "Quantum object: dims = [[2], [2]], shape = (2, 2), type = oper, isherm = True\n",
       "Qobj data =\n",
       "[[0. 0.]\n",
       " [0. 1.]]"
      ]
     },
     "execution_count": 15,
     "metadata": {},
     "output_type": "execute_result"
    }
   ],
   "source": [
    "# For basis state 1\n",
    "q1 = basis(2,1)\n",
    "\n",
    "ket2dm(q1)"
   ]
  },
  {
   "cell_type": "markdown",
   "metadata": {},
   "source": [
    "These pure, orthogonal basis states are equivalent to fock (photon number) states, and qutip has a built in function:"
   ]
  },
  {
   "cell_type": "code",
   "execution_count": 16,
   "metadata": {},
   "outputs": [
    {
     "data": {
      "text/latex": [
       "Quantum object: dims = [[2], [2]], shape = (2, 2), type = oper, isherm = True\\begin{equation*}\\left(\\begin{array}{*{11}c}0.0 & 0.0\\\\0.0 & 1.0\\\\\\end{array}\\right)\\end{equation*}"
      ],
      "text/plain": [
       "Quantum object: dims = [[2], [2]], shape = (2, 2), type = oper, isherm = True\n",
       "Qobj data =\n",
       "[[0. 0.]\n",
       " [0. 1.]]"
      ]
     },
     "execution_count": 16,
     "metadata": {},
     "output_type": "execute_result"
    }
   ],
   "source": [
    "fock_dm(2,1)"
   ]
  },
  {
   "cell_type": "markdown",
   "metadata": {},
   "source": [
    "Nice! We can simply read the probability of the system being in state zero or one by looking at the diagonal entries. What happens for a superpostion?"
   ]
  },
  {
   "cell_type": "code",
   "execution_count": 17,
   "metadata": {},
   "outputs": [
    {
     "data": {
      "text/latex": [
       "Quantum object: dims = [[2], [2]], shape = (2, 2), type = oper, isherm = True\\begin{equation*}\\left(\\begin{array}{*{11}c}0.500 & 0.500\\\\0.500 & 0.500\\\\\\end{array}\\right)\\end{equation*}"
      ],
      "text/plain": [
       "Quantum object: dims = [[2], [2]], shape = (2, 2), type = oper, isherm = True\n",
       "Qobj data =\n",
       "[[0.5 0.5]\n",
       " [0.5 0.5]]"
      ]
     },
     "execution_count": 17,
     "metadata": {},
     "output_type": "execute_result"
    }
   ],
   "source": [
    "# equal superposition state\n",
    "q = 1/np.sqrt(2)*(basis(2,0)+basis(2,1))\n",
    "\n",
    "ket2dm(q)"
   ]
  },
  {
   "cell_type": "markdown",
   "metadata": {},
   "source": [
    "For a superposition we have off diagonal terms! These off-diagonal terms have important physical meaning (in some cases can be interpreted as coherence). For now we'll ignore that.\n",
    "\n",
    "The most important property is that for a pure state, the trace (sum of diagonals) of the density matrix is 1. This is related exactly to the normalized nature of a pure state."
   ]
  },
  {
   "cell_type": "code",
   "execution_count": 18,
   "metadata": {},
   "outputs": [
    {
     "data": {
      "text/plain": [
       "0.9999999999999998"
      ]
     },
     "execution_count": 18,
     "metadata": {},
     "output_type": "execute_result"
    }
   ],
   "source": [
    "ket2dm(q).tr()"
   ]
  },
  {
   "cell_type": "markdown",
   "metadata": {},
   "source": [
    "Now let's consider a statistical ensemble of pure states. For example, imagine we prepare a _set_ of qubits, half in state zero and half in state one. We could measure these qubits in sequence and build up a statistical interpretation of the initial state. \n",
    "\n",
    "This statistical outcome can be expressed as an ensemble state:\n",
    "\n",
    "$|\\Psi> = \\frac{1}{2}|0> + \\frac{1}{2}|1>$\n",
    "\n",
    "For which the density matrix is defined:\n",
    "\n",
    "$\\rho = \\sum\\limits_{i}{p_i|\\psi_i><\\psi_i|}$"
   ]
  },
  {
   "cell_type": "code",
   "execution_count": 19,
   "metadata": {},
   "outputs": [
    {
     "data": {
      "text/latex": [
       "Quantum object: dims = [[2], [2]], shape = (2, 2), type = oper, isherm = True\\begin{equation*}\\left(\\begin{array}{*{11}c}0.250 & 0.250\\\\0.250 & 0.250\\\\\\end{array}\\right)\\end{equation*}"
      ],
      "text/plain": [
       "Quantum object: dims = [[2], [2]], shape = (2, 2), type = oper, isherm = True\n",
       "Qobj data =\n",
       "[[0.25 0.25]\n",
       " [0.25 0.25]]"
      ]
     },
     "execution_count": 19,
     "metadata": {},
     "output_type": "execute_result"
    }
   ],
   "source": [
    "q = 1/2*basis(2,0) + 1/2*basis(2,1)\n",
    "\n",
    "ket2dm(q)"
   ]
  },
  {
   "cell_type": "markdown",
   "metadata": {},
   "source": [
    "### Probabilities of Pure and Mixed States:\n",
    "How can we tell this is not a pure state? By looking at the trace of the density matrix. \n",
    "\n",
    "$\\text{Tr}[\\rho] < 1 \\implies \\text{Mixed State}$\n",
    "\n",
    "\n",
    "The trace in this case is less than 1, indicating a statistical mixture. Actually, in this case we have what is a maximally mixed state:\n",
    "\n",
    "$\\text{Tr}[\\rho_{max}] = 1/D$ where $D$ is the dimensionality of the system. In the case of qubits D = 2."
   ]
  },
  {
   "cell_type": "code",
   "execution_count": 20,
   "metadata": {},
   "outputs": [
    {
     "data": {
      "text/plain": [
       "0.5"
      ]
     },
     "execution_count": 20,
     "metadata": {},
     "output_type": "execute_result"
    }
   ],
   "source": [
    "ket2dm(q).tr()"
   ]
  },
  {
   "cell_type": "markdown",
   "metadata": {},
   "source": [
    "### Transformation of Density Matrices:\n",
    "\n",
    "Note that density matrices undergo unitary transformation as follows:\n",
    "\n",
    "$\\rho = |\\psi><\\psi|$\n",
    "\n",
    "$\\rho' = |\\psi'><\\psi'|$\n",
    "\n",
    "$|\\psi'> = U|\\psi>$ and $ <\\psi'| =  <\\psi|U^{\\dagger}$\n",
    "\n",
    "$ \\implies \\rho' = U|\\psi><\\psi|U^{\\dagger}$\n",
    "\n",
    "$ \\implies \\rho' = U\\rho U^{\\dagger}$"
   ]
  },
  {
   "cell_type": "markdown",
   "metadata": {},
   "source": [
    "## The Cost Fuction:\n",
    "\n",
    "Consider an input ensemble state $\\{p_i,|\\psi_i\\rangle\\}$, where $p_i$ are ensemble probabilities of each pure state, $|\\psi_i\\rangle$. Note that ${|\\psi_i\\rangle}$ are  not necessarily orthonormal. The density matrix is given by the following:\n",
    "\n",
    "$\\rho = \\sum\\limits_{i}{p_i|\\psi_i\\rangle\\langle\\psi_i|}$\n",
    "\n",
    "e.g. if our state turns out to be pure for a pure state (e.g. $|\\psi_0\\rangle$), the ensemble set reduces to $\\{1,|\\psi_0\\rangle\\}$.\n",
    "\n",
    "The autoencoder cost function is given by:\n",
    "\n",
    "$C_2(q) = \\sum\\limits_{i}{p_i \\times F(Tr_{A}[U^{q}|\\psi_i\\rangle\\langle\\psi_i|_{AB}(U^{q})^{\\dagger}],|a\\rangle_{B})}$\n",
    "\n",
    "$C_2(q) = {F(Tr_{A}[U^{q}\\rho_{AB}(U^{q})^{\\dagger}],\\rho_{out,B})}$\n",
    "\n",
    "where $q$ is the set of parameters used to form the arbitrary transformation matrix $U^q$, and $\\rho_{out,B}$ our trash state. Performing the partial trace over A, reduces the n+k dimensional density matrix to a k dimensional density matrix corresponding only to the trash state subspace.\n",
    "\n",
    "Here is a translation of the math into code: \n",
    "* Input state can be, in general, an ensemble state decomposed as $\\{p_i,|\\psi_i\\rangle\\}$\n",
    "* Represent this set of states as a density matrix\n",
    "* Apply the autoencoder transform U to the state, with parameters q\n",
    "* Take a partial trace over the trash subset of the transformed density matrix to recover the trash state density matrix\n",
    "* Using a fidelity function, compare the trash state density matrix to the ancillary state density matrix (in our case zeros)\n",
    "\n",
    "We can take the output of the cost function and feedback into the minimizer to find the encoding transformation."
   ]
  },
  {
   "cell_type": "markdown",
   "metadata": {},
   "source": [
    "Qutip Partial Trace: http://qutip.org/docs/3.1.0/guide/guide-tensor.html\n",
    "* example of partial trace function\n",
    "* ket to density matrix function\n",
    "\n",
    "Qutip Fidelity Function: http://qutip.org/docs/3.1.0/apidoc/functions.html\n",
    "* Search fidelity - computes the fidelity of two density matrices"
   ]
  },
  {
   "cell_type": "code",
   "execution_count": 21,
   "metadata": {},
   "outputs": [
    {
     "name": "stdout",
     "output_type": "stream",
     "text": [
      "0.9999999999999996\n",
      "[0.25, 0.25]\n",
      "Quantum object: dims = [[2], [2]], shape = (2, 2), type = oper, isherm = True\n",
      "Qobj data =\n",
      "[[0.5 0. ]\n",
      " [0.  0.5]]\n",
      "Quantum object: dims = [[2], [2]], shape = (2, 2), type = oper, isherm = True\n",
      "Qobj data =\n",
      "[[0.25 0.25]\n",
      " [0.25 0.25]]\n"
     ]
    }
   ],
   "source": [
    "# Cost Function Testing:\n",
    "p = [0.5,0.5]\n",
    "pure = [1,1]\n",
    "psi = [basis(2,0),basis(2,1)]\n",
    "psi_pure = 1/np.sqrt(2)*(basis(2,0)+basis(2,1))\n",
    "psi_mixed = 1/2*(basis(2,0)+basis(2,1))\n",
    "\n",
    "C1 = np.sum(fidelity(ket2dm(psi_pure),ket2dm(psi_pure)))\n",
    "print(C1)\n",
    "\n",
    "C1 = [p[i]*fidelity(ket2dm(psi[i]),ket2dm(psi_mixed)) for i in range(len(psi))]\n",
    "print(C1)\n",
    "\n",
    "print(1/2*ket2dm(psi[0])+1/2*ket2dm(psi[1]))\n",
    "\n",
    "print(ket2dm(1/2*psi[0]+1/2*psi[1]))"
   ]
  },
  {
   "cell_type": "code",
   "execution_count": 22,
   "metadata": {},
   "outputs": [],
   "source": [
    "# Cost function implementation from the paper:\n",
    "n = 5\n",
    "k = 2\n",
    "\n",
    "trashdm = ket2dm(tensor([basis(2,0) for _ in range(k)]))\n",
    "\n",
    "# This version is broken down in terms of basis vectors and ensemble probabilities:\n",
    "#C2 = np.sum([p_set[i] * fidelity((U*ket2dm(psi_set[i])*U.dag()).ptrace(np.arange(n,n+k)),trashdm) for i in range(len(psi_set))])\n",
    "\n",
    "# # This version composes the input density matrix from the ensemble set of input states, then performs the transform:\n",
    "# inputdm = np.sum([p_set[i] * ket2dm(psi_set[i]) for i in range(len(psi_set))])\n",
    "# C2 = fidelity((U*inputdm*U.dag()).ptrace(np.arange(n,n+k)),trashdm)"
   ]
  },
  {
   "cell_type": "markdown",
   "metadata": {},
   "source": [
    "## Hydrogen Wavefunction Training Set:\n",
    "\n",
    "In the infamous article, the authors test the autoencoder with a set of ground state wavefunctions of molecular hydrogen. The autoencoder is trained with a subset of 6 ground state wavefunctions at different radial H-H distances, and then the encoder is tested on states at other radii. The Hamiltonian for molecular hydrogen can be solved numerically (classically), which would give us a benchmark for the performance of the autoencoder. We are considering to also implement this set of test states - though it is proving to be challenging!\n",
    "\n",
    "The Hamiltonian for molecular hydrogen, under the Born-Oppenheimer non-relativistic approximation is given by:\n",
    "\n",
    "$H = h_{nuc} +\\sum\\limits_{pq}h_{pq}a_p^{\\dagger}a_q^{\\dagger} + \\frac{1}{2}\\sum\\limits_{pqrs}h_{pqrs}a_p^{\\dagger}a_q^{\\dagger}a_r a_s$\n",
    "\n",
    "There are a few terms here: a nuclear term $h_{nuc}$, a single electron term, and a two electron term, with corresponding electron integrals $h_{pq}$ and $h_{pqrs}$. These terms express the probabilities of electrons occupying different molecular orbitals (e.g. $a_p^{\\dagger}$ creates an electron in spin-orbital $p$).\n",
    "\n",
    "As in the case of qubits, we are free to choose the basis of this Hamiltonian to be whatever we like. In quantum chemistry, we choose a basis which corresponds to a specific set of orthogonal electron orbitals. Often, this basis is selected with the convenience of calculation in mind. For example, the STO-6G hydrogen minimal basis set is one such basis set which is optimized for numerical approximation (the details of which we will perhaps need to explore later).\n",
    "\n",
    "Furthermore, in order to map this Hamiltonian to a quantum computer, we need to decompose it as a set of pauli rotation operations on single qubits. This is done by either the Bravi-Kitaev (BK) or Jordan-Wigner (JW) transformations. The result of the JW transformed Hamiltonian in the STO-6G basis is as follows:\n",
    "\n",
    "$H = c_0 I\n",
    "+ c_1 (Z_0 + Z_1) \n",
    "+ c_2 (Z_2 + Z_3)\n",
    "+ c_3 (Z_0 Z_1)\n",
    "+ c_4 (Z_0 Z_2 + Z_1 Z_3)\n",
    "+ c_5 (Z_1 Z_2 + Z_0 Z_3)\n",
    "+ c_6 (Z_2 Z_3)\n",
    "+ c_7 (Y_0 X_1 X_2 Y_3 - X_0 X_1 Y_2 Y_3 - Y_0 Y_1 X_2 X_3 + X_0 Y_1 Y_2 X_3)$\n",
    "\n",
    "Where $X_n, Y_n, Z_n$ are a pauli matrices acting on the $n$th qubit, and $c_n$ are coefficients which depend on the radial H-H distance.\n",
    "\n",
    "The Hamiltonian is implemented in qutip below: "
   ]
  },
  {
   "cell_type": "code",
   "execution_count": 23,
   "metadata": {},
   "outputs": [],
   "source": [
    "# # Reproducing the test set based on the STO-6G minimum basis set of hydrogen\n",
    "# # From paper:\n",
    "\n",
    "# def makepaulin(N,P):\n",
    "#     PN = []\n",
    "#     for n in range(N):\n",
    "#         tmp = [qeye(2) for _ in range(N)]\n",
    "#         tmp[n] = P\n",
    "#         Pn = tensor(tmp)\n",
    "#         PN.append(Pn)\n",
    "#     return PN\n",
    "\n",
    "# N=4\n",
    "# X = makepaulin(N,sigmax())\n",
    "# Y = makepaulin(N,sigmay())\n",
    "# Z = makepaulin(N,sigmaz())\n",
    "# IN = tensor([qeye(2) for _ in range(N)])\n",
    "\n",
    "# # setting all coefficients to 1\n",
    "# [c0,c1,c2,c3,c4,c5,c6,c7] = [1,1,1,1,1,1,1,1]\n",
    "    \n",
    "# H = (c0*IN + \n",
    "# c1*(Z[0]+Z[1]) + \n",
    "# c2*(Z[2]+Z[3]) + \n",
    "# c3*Z[0]*Z[1] + \n",
    "# c4*(Z[0]*Z[2] + Z[1]*Z[3]) + \n",
    "# c5*(Z[1]*Z[2]+Z[0]*Z[3]) + \n",
    "# c6*(Z[2]*Z[3]) + \n",
    "# c7*(Y[0]*X[1]*X[2]*Y[3] - X[0]*X[1]*Y[2]*Y[3] - Y[0]*Y[1]*X[2]*X[3] + X[0]*Y[1]*Y[2]*X[3]))\n",
    "\n",
    "# print(H)"
   ]
  },
  {
   "cell_type": "markdown",
   "metadata": {},
   "source": [
    "In order to advance from here, we need to compute the coefficients of this Hamiltonian (which depend on radial distance between H atoms), and solve the Schroedinger equation to find ground state energies (in Hartrees) at different distances to form the set of training states. \n",
    "\n",
    "I think this requires an optimized solver of Schroedinger's equation, which is beyond probably beyond the scope of this project to implement. We could also use a variational quantum eigensolver, but that requires it's own detailed investigation as well.\n",
    "\n",
    "One potential workaround could be to use PyQuante - a python library which is built to perform these kinds of caluculations (STO-6G hydrogen minimal basis set approximation). It's a dated python module, and thus far I've had version control issues getting it to integrate here.\n",
    "\n",
    "I have requested a chemsitry textbook from the library which might lay out the calculation in more detail for us.\n",
    "\n",
    "Until then we might need to think of a simpler test set or reach out to Zapata."
   ]
  },
  {
   "cell_type": "markdown",
   "metadata": {},
   "source": [
    "### Using Data from OpenFermion!!\n",
    "the bond lengths are stored in `bond_lengths.hdf5`\n",
    "\n",
    "each bond-length has a hamiltonian stored at `hamiltonians/sto-3g.<bond-length>.hdf5`"
   ]
  },
  {
   "cell_type": "code",
   "execution_count": 24,
   "metadata": {},
   "outputs": [],
   "source": [
    "# get the list of bond lengths for which we precomputed hamiltonians\n",
    "with h5py.File(\"bond_lengths.hdf5\", \"r\") as f:\n",
    "    try:\n",
    "        dset = f['bond_lengths']\n",
    "        bond_lengths = np.zeros(dset.shape)\n",
    "        dset.read_direct(bond_lengths)\n",
    "    except KeyError:\n",
    "        print(\"subgroup `bond_lengths` not in `bond_lengths.hdf5` data\")\n",
    "        \n",
    "if type(bond_lengths) == type(None):\n",
    "    print(\"failure to read bond lengths\")\n",
    "else:\n",
    "    bond_lengths = np.round(bond_lengths, 2)"
   ]
  },
  {
   "cell_type": "code",
   "execution_count": 25,
   "metadata": {},
   "outputs": [],
   "source": [
    "# list of hamiltonians\n",
    "hamiltonians = []\n",
    "\n",
    "for bond_length in bond_lengths:\n",
    "    hamiltonian = None\n",
    "    \n",
    "    # read hamiltonian from appropriate file\n",
    "    with h5py.File(\"hamiltonians/sto-3g.{}.hdf5\".format(round(bond_length, 2)), 'r') as f:\n",
    "        try:\n",
    "            dset = f['hamiltonian']\n",
    "            hamiltonian = dset[()]\n",
    "        except KeyError:\n",
    "            print(\"subgroup `hamiltonian` not in `hamiltonians/{}` data\".format(round(bond_length, 2)))\n",
    "    \n",
    "    if type(hamiltonian) == type(None):\n",
    "        print(\"failure to read hamiltonian for bond length {}\".format(round(bond_length, 2)))\n",
    "        continue\n",
    "    \n",
    "    # add hamiltonian to dictionary of hamiltonians\n",
    "    hamiltonians.append(Qobj(hamiltonian, dims=[[2,2,2,2],[2,2,2,2]]))\n",
    "    \n",
    "hamiltonians = np.array(hamiltonians)"
   ]
  },
  {
   "cell_type": "code",
   "execution_count": 26,
   "metadata": {},
   "outputs": [],
   "source": [
    "def get_groundstate(hamiltonian):\n",
    "    return hamiltonian.groundstate()\n",
    "groundstatize = np.vectorize(get_groundstate)"
   ]
  },
  {
   "cell_type": "code",
   "execution_count": 27,
   "metadata": {},
   "outputs": [],
   "source": [
    "# compute groundstates of molecular hamiltonians to use as training and testing data\n",
    "groundenergies, groundstates = groundstatize(hamiltonians)"
   ]
  },
  {
   "cell_type": "code",
   "execution_count": 28,
   "metadata": {},
   "outputs": [
    {
     "data": {
      "text/plain": [
       "(0, 2.5)"
      ]
     },
     "execution_count": 28,
     "metadata": {},
     "output_type": "execute_result"
    },
    {
     "data": {
      "image/png": "[encoded data removed]",
      "text/plain": [
       "<matplotlib.figure.Figure at 0x7f67fea4d4a8>"
      ]
     },
     "metadata": {},
     "output_type": "display_data"
    }
   ],
   "source": [
    "# plot hydrogen atom bond-length vs. ground-state energies\n",
    "# red points are those states selected for training, everything else is for testing\n",
    "plt.plot(bond_lengths, groundenergies, 'ob-')\n",
    "#plt.plot(bond_lengths[training_indices], groundenergies[training_indices], 'or')\n",
    "plt.ylim([-1.2, -0.8])\n",
    "plt.xlim([0, 2.5])"
   ]
  },
  {
   "cell_type": "markdown",
   "metadata": {},
   "source": [
    "### Train the Autoencoder!"
   ]
  },
  {
   "cell_type": "code",
   "execution_count": 29,
   "metadata": {},
   "outputs": [],
   "source": [
    "# this probably exists in sklearn\n",
    "\n",
    "def train_test_split(data, train_proportion, train_is=None):\n",
    "    \"\"\"\n",
    "    Divide data into training and test sets, using specific indices if given\n",
    "    \"\"\"\n",
    "    train_sz = int(np.round(len(data) * train_proportion))\n",
    "    training_indices, testing_indicies = [], []\n",
    "    \n",
    "    # use provided training indices, then fill in the rest\n",
    "    if train_is is not None:\n",
    "        training_indices = np.concatenate(\n",
    "            (train_is, np.random.choice([i for i in np.arange(len(data)) if i not in train_is], \n",
    "                                        train_sz - len(train_is), replace=False)))\n",
    "    else:\n",
    "        training_indices = np.random.choice(np.arange(len(data)), train_sz, replace=False)\n",
    "    \n",
    "    testing_indicies = np.array([i for i in range(len(data)) if i not in training_indices])\n",
    "    return data[training_indices], data[testing_indicies]"
   ]
  },
  {
   "cell_type": "code",
   "execution_count": 30,
   "metadata": {},
   "outputs": [],
   "source": [
    "train_set, test_set = train_test_split(groundstates, .1, train_is=[np.argmin(groundenergies)])"
   ]
  },
  {
   "cell_type": "code",
   "execution_count": 31,
   "metadata": {},
   "outputs": [
    {
     "name": "stdout",
     "output_type": "stream",
     "text": [
      "(5, 45)\n"
     ]
    },
    {
     "data": {
      "text/plain": [
       "True"
      ]
     },
     "execution_count": 31,
     "metadata": {},
     "output_type": "execute_result"
    }
   ],
   "source": [
    "print((len(train_set), len(test_set)))\n",
    "groundstates[np.argmin(groundenergies)] == train_set[0]"
   ]
  },
  {
   "cell_type": "code",
   "execution_count": 32,
   "metadata": {},
   "outputs": [],
   "source": [
    "def gen_dmify():\n",
    "    return np.vectorize(ket2dm)\n",
    "\n",
    "def gen_encodify(U):\n",
    "    return np.vectorize(lambda dm: U*dm*U.dag())\n",
    "\n",
    "def gen_ptracify(sel):\n",
    "    return np.vectorize(lambda dm: dm.ptrace(sel))\n",
    "\n",
    "def gen_fidelify(tr_dm):\n",
    "    return np.vectorize(lambda dm: fidelity(dm, tr_dm))\n",
    "\n",
    "# Cost function implementation from the paper:\n",
    "def cost(params, psi_set, n, k, sel, debug=False):\n",
    "    n_states = len(psi_set)\n",
    "    trashdm = ket2dm(tensor([basis(2,0) for _ in range(k)]))\n",
    "\n",
    "    U = create_circuit_gate(n + k, params)\n",
    "\n",
    "    dmify = gen_dmify()\n",
    "    encodify = gen_encodify(U)\n",
    "    ptracify = gen_ptracify(sel)\n",
    "    fidelify = gen_fidelify(trashdm)\n",
    "\n",
    "    # turn each state in the training set into a density matrix\n",
    "    dms = dmify(psi_set)\n",
    "    \n",
    "    # encode dms\n",
    "    encoded_dms = encodify(dms)\n",
    "\n",
    "    # Apply the encode/decode transformation and get the partial trace\n",
    "    ptrace_dms = ptracify(encoded_dms)  \n",
    "\n",
    "    # get fidelities\n",
    "    fidelities = fidelify(ptrace_dms)\n",
    "    \n",
    "    if debug:\n",
    "        print(\"parameters:\", params)\n",
    "        print(\"compression dimension ; trash dimension:\", n, \";\", k)\n",
    "        print(\"partial trace (trash) qubits:\", sel)\n",
    "        print(\"number of input states:\", n_states)\n",
    "        matrix_histogram(ptrace_dms[n_states - 1])\n",
    "        plt.show()\n",
    "        print(\"fidelities:\", fidelities)\n",
    "        print (\"cost\", 1 - np.sum(fidelities) / n_states)\n",
    "    \n",
    "    # compute cost, with probability weights equal\n",
    "    # print (\"cost\", 1 - np.sum(fidelities) / n_states)\n",
    "    return 1 - (np.sum(fidelities) / n_states)"
   ]
  },
  {
   "cell_type": "code",
   "execution_count": 48,
   "metadata": {},
   "outputs": [],
   "source": [
    "class CostInfo():\n",
    "    \"\"\"\n",
    "    Makes use of the 'cost' function as a method of a class that keeps track of\n",
    "    the cost at each iteration\n",
    "    \"\"\"\n",
    "    def __init__(self):\n",
    "        self.costs = []\n",
    "        \n",
    "    def class_cost(self, params, psi_set, n, k, sel, debug=False):\n",
    "        cost_res = cost(params, psi_set, n, k, sel, debug)\n",
    "        self.costs.append(cost_res)\n",
    "        return cost_res"
   ]
  },
  {
   "cell_type": "code",
   "execution_count": 33,
   "metadata": {},
   "outputs": [],
   "source": [
    "# calculate average fidelity over set of input states\n",
    "def avg_cost(c, num_states):\n",
    "    return c / num_states"
   ]
  },
  {
   "cell_type": "code",
   "execution_count": 34,
   "metadata": {
    "scrolled": true
   },
   "outputs": [
    {
     "data": {
      "text/plain": [
       "(array([2.1872628 , 1.49194264, 0.42823772, 3.25178303, 2.87593848,\n",
       "        1.85720003, 3.06392893, 1.90055852, 4.45355846, 0.88263575,\n",
       "        0.06979861, 1.76487693, 0.93599533, 2.19729479, 4.61431805,\n",
       "        3.7620498 , 5.33259919, 3.95821475, 1.97189514, 5.18503748,\n",
       "        0.44806933, 2.58890407, 2.61581073, 3.44037018, 3.00944969,\n",
       "        5.05706708, 0.4780188 , 3.0142343 , 1.62882212, 2.41639164,\n",
       "        3.60618636, 2.14496313, 0.83102242, 4.61878536, 4.26115606,\n",
       "        3.86401958, 2.15075462, 2.24652382, 0.23198503, 5.02831414,\n",
       "        5.7471347 , 2.15626411, 2.73301544, 4.03788041, 4.92300026,\n",
       "        3.7384584 , 5.33780774, 0.65061222, 2.50149451, 0.01466999,\n",
       "        3.31934852, 0.48324385, 3.06233345, 5.64492019, 2.21515522,\n",
       "        1.61285823, 4.44132274, 5.7220974 , 0.54248469, 5.5131089 ]), [0, 2])"
      ]
     },
     "execution_count": 34,
     "metadata": {},
     "output_type": "execute_result"
    }
   ],
   "source": [
    "n_gates, n_params = init_consts(4)\n",
    "\n",
    "# initialize parameters\n",
    "initial_params = init_params(n_params, lambda x: np.random.rand(x)*2*np.pi)\n",
    "\n",
    "# same ones from the paper\n",
    "lens = [7, 11, 16, 24, 33, 41]\n",
    "train_set = np.array(groundstates)[lens]\n",
    "\n",
    "sel = [0,2]\n",
    "initial_params, sel"
   ]
  },
  {
   "cell_type": "code",
   "execution_count": 67,
   "metadata": {
    "scrolled": false
   },
   "outputs": [
    {
     "name": "stdout",
     "output_type": "stream",
     "text": [
      "round 1\n",
      "--------------------\n",
      "\n",
      "Round 1 took 305 iterations\n",
      "round 2\n",
      "--------------------\n",
      "\n",
      "Round 2 took 366 iterations\n"
     ]
    }
   ],
   "source": [
    "# always initialize new class in the beginning to initialize empty cost array attribute\n",
    "ci = CostInfo()\n",
    "\n",
    "# use the class method cost function so that costs are logged internally in the class\n",
    "method = 'L-BFGS-B'\n",
    "print(\"round 1\\n--------------------\\n\")\n",
    "res = minimize(ci.class_cost, initial_params, args=(train_set, 2, 2, sel, False), method=method, bounds=[[0, 4*np.pi]] * n_params, options={'disp': True, 'eps': 1e-03, 'ftol': 0.1})\n",
    "params = res['x']\n",
    "\n",
    "checkpoint1 = ci.costs.copy()\n",
    "print(\"Round 1 took {} iterations\".format(len(checkpoint1)))\n",
    "\n",
    "print(\"round 2\\n--------------------\\n\")\n",
    "res2 = minimize(ci.class_cost, params, args=(train_set, 2, 2, sel, False), method=method, bounds=[[0, 4*np.pi]] * n_params, options={'disp': True, 'eps': 1e-05, 'ftol': 0.01})\n",
    "params2 = res2['x']\n",
    "\n",
    "checkpoint2 = ci.costs.copy()\n",
    "print(\"Round 2 took {} iterations\".format(len(checkpoint2) - len(checkpoint1)))\n"
   ]
  },
  {
   "cell_type": "code",
   "execution_count": 82,
   "metadata": {},
   "outputs": [
    {
     "data": {
      "image/png": "[encoded data removed]",
      "text/plain": [
       "<matplotlib.figure.Figure at 0x7f67fc7795c0>"
      ]
     },
     "metadata": {},
     "output_type": "display_data"
    }
   ],
   "source": [
    "# costs after 2 rounds\n",
    "plt.plot(ci.costs[:len(checkpoint2)])\n",
    "plt.semilogy()\n",
    "plt.show()"
   ]
  },
  {
   "cell_type": "code",
   "execution_count": 85,
   "metadata": {},
   "outputs": [
    {
     "name": "stdout",
     "output_type": "stream",
     "text": [
      "round 3\n",
      "--------------------\n",
      "\n"
     ]
    },
    {
     "ename": "KeyboardInterrupt",
     "evalue": "",
     "output_type": "error",
     "traceback": [
      "\u001b[0;31m---------------------------------------------------------------------------\u001b[0m",
      "\u001b[0;31mKeyboardInterrupt\u001b[0m                         Traceback (most recent call last)",
      "\u001b[0;32m<ipython-input-85-10988f43891d>\u001b[0m in \u001b[0;36m<module>\u001b[0;34m()\u001b[0m\n\u001b[1;32m      1\u001b[0m \u001b[0mprint\u001b[0m\u001b[0;34m(\u001b[0m\u001b[0;34m\"round 3\\n--------------------\\n\"\u001b[0m\u001b[0;34m)\u001b[0m\u001b[0;34m\u001b[0m\u001b[0m\n\u001b[0;32m----> 2\u001b[0;31m \u001b[0mres3\u001b[0m \u001b[0;34m=\u001b[0m \u001b[0mminimize\u001b[0m\u001b[0;34m(\u001b[0m\u001b[0mci\u001b[0m\u001b[0;34m.\u001b[0m\u001b[0mclass_cost\u001b[0m\u001b[0;34m,\u001b[0m \u001b[0mparams2\u001b[0m\u001b[0;34m,\u001b[0m \u001b[0margs\u001b[0m\u001b[0;34m=\u001b[0m\u001b[0;34m(\u001b[0m\u001b[0mtrain_set\u001b[0m\u001b[0;34m,\u001b[0m \u001b[0;36m2\u001b[0m\u001b[0;34m,\u001b[0m \u001b[0;36m2\u001b[0m\u001b[0;34m,\u001b[0m \u001b[0msel\u001b[0m\u001b[0;34m,\u001b[0m \u001b[0;32mFalse\u001b[0m\u001b[0;34m)\u001b[0m\u001b[0;34m,\u001b[0m \u001b[0mmethod\u001b[0m\u001b[0;34m=\u001b[0m\u001b[0mmethod\u001b[0m\u001b[0;34m,\u001b[0m \u001b[0mbounds\u001b[0m\u001b[0;34m=\u001b[0m\u001b[0;34m[\u001b[0m\u001b[0;34m(\u001b[0m\u001b[0;36m0\u001b[0m\u001b[0;34m,\u001b[0m \u001b[0;36m4\u001b[0m\u001b[0;34m*\u001b[0m\u001b[0mnp\u001b[0m\u001b[0;34m.\u001b[0m\u001b[0mpi\u001b[0m\u001b[0;34m)\u001b[0m\u001b[0;34m]\u001b[0m \u001b[0;34m*\u001b[0m \u001b[0mn_params\u001b[0m\u001b[0;34m,\u001b[0m \u001b[0moptions\u001b[0m\u001b[0;34m=\u001b[0m\u001b[0;34m{\u001b[0m\u001b[0;34m'disp'\u001b[0m\u001b[0;34m:\u001b[0m \u001b[0;32mTrue\u001b[0m\u001b[0;34m,\u001b[0m \u001b[0;34m'eps'\u001b[0m\u001b[0;34m:\u001b[0m \u001b[0;36m1e-03\u001b[0m\u001b[0;34m,\u001b[0m \u001b[0;34m'ftol'\u001b[0m\u001b[0;34m:\u001b[0m \u001b[0;36m0.000001\u001b[0m\u001b[0;34m}\u001b[0m\u001b[0;34m)\u001b[0m\u001b[0;34m\u001b[0m\u001b[0m\n\u001b[0m\u001b[1;32m      3\u001b[0m \u001b[0mparams3\u001b[0m \u001b[0;34m=\u001b[0m \u001b[0mres3\u001b[0m\u001b[0;34m[\u001b[0m\u001b[0;34m'x'\u001b[0m\u001b[0;34m]\u001b[0m\u001b[0;34m\u001b[0m\u001b[0m\n\u001b[1;32m      4\u001b[0m \u001b[0;34m\u001b[0m\u001b[0m\n\u001b[1;32m      5\u001b[0m \u001b[0mcheckpoint3\u001b[0m \u001b[0;34m=\u001b[0m \u001b[0mci\u001b[0m\u001b[0;34m.\u001b[0m\u001b[0mcosts\u001b[0m\u001b[0;34m.\u001b[0m\u001b[0mcopy\u001b[0m\u001b[0;34m(\u001b[0m\u001b[0;34m)\u001b[0m\u001b[0;34m\u001b[0m\u001b[0m\n",
      "\u001b[0;32m~/Envs/pblt/lib/python3.5/site-packages/scipy/optimize/_minimize.py\u001b[0m in \u001b[0;36mminimize\u001b[0;34m(fun, x0, args, method, jac, hess, hessp, bounds, constraints, tol, callback, options)\u001b[0m\n\u001b[1;32m    485\u001b[0m     \u001b[0;32melif\u001b[0m \u001b[0mmeth\u001b[0m \u001b[0;34m==\u001b[0m \u001b[0;34m'l-bfgs-b'\u001b[0m\u001b[0;34m:\u001b[0m\u001b[0;34m\u001b[0m\u001b[0m\n\u001b[1;32m    486\u001b[0m         return _minimize_lbfgsb(fun, x0, args, jac, bounds,\n\u001b[0;32m--> 487\u001b[0;31m                                 callback=callback, **options)\n\u001b[0m\u001b[1;32m    488\u001b[0m     \u001b[0;32melif\u001b[0m \u001b[0mmeth\u001b[0m \u001b[0;34m==\u001b[0m \u001b[0;34m'tnc'\u001b[0m\u001b[0;34m:\u001b[0m\u001b[0;34m\u001b[0m\u001b[0m\n\u001b[1;32m    489\u001b[0m         return _minimize_tnc(fun, x0, args, jac, bounds, callback=callback,\n",
      "\u001b[0;32m~/Envs/pblt/lib/python3.5/site-packages/scipy/optimize/lbfgsb.py\u001b[0m in \u001b[0;36m_minimize_lbfgsb\u001b[0;34m(fun, x0, args, jac, bounds, disp, maxcor, ftol, gtol, eps, maxfun, maxiter, iprint, callback, maxls, **unknown_options)\u001b[0m\n\u001b[1;32m    333\u001b[0m             \u001b[0;31m# until the completion of the current minimization iteration.\u001b[0m\u001b[0;34m\u001b[0m\u001b[0;34m\u001b[0m\u001b[0m\n\u001b[1;32m    334\u001b[0m             \u001b[0;31m# Overwrite f and g:\u001b[0m\u001b[0;34m\u001b[0m\u001b[0;34m\u001b[0m\u001b[0m\n\u001b[0;32m--> 335\u001b[0;31m             \u001b[0mf\u001b[0m\u001b[0;34m,\u001b[0m \u001b[0mg\u001b[0m \u001b[0;34m=\u001b[0m \u001b[0mfunc_and_grad\u001b[0m\u001b[0;34m(\u001b[0m\u001b[0mx\u001b[0m\u001b[0;34m)\u001b[0m\u001b[0;34m\u001b[0m\u001b[0m\n\u001b[0m\u001b[1;32m    336\u001b[0m         \u001b[0;32melif\u001b[0m \u001b[0mtask_str\u001b[0m\u001b[0;34m.\u001b[0m\u001b[0mstartswith\u001b[0m\u001b[0;34m(\u001b[0m\u001b[0;34mb'NEW_X'\u001b[0m\u001b[0;34m)\u001b[0m\u001b[0;34m:\u001b[0m\u001b[0;34m\u001b[0m\u001b[0m\n\u001b[1;32m    337\u001b[0m             \u001b[0;31m# new iteration\u001b[0m\u001b[0;34m\u001b[0m\u001b[0;34m\u001b[0m\u001b[0m\n",
      "\u001b[0;32m~/Envs/pblt/lib/python3.5/site-packages/scipy/optimize/lbfgsb.py\u001b[0m in \u001b[0;36mfunc_and_grad\u001b[0;34m(x)\u001b[0m\n\u001b[1;32m    279\u001b[0m         \u001b[0;32mdef\u001b[0m \u001b[0mfunc_and_grad\u001b[0m\u001b[0;34m(\u001b[0m\u001b[0mx\u001b[0m\u001b[0;34m)\u001b[0m\u001b[0;34m:\u001b[0m\u001b[0;34m\u001b[0m\u001b[0m\n\u001b[1;32m    280\u001b[0m             \u001b[0mf\u001b[0m \u001b[0;34m=\u001b[0m \u001b[0mfun\u001b[0m\u001b[0;34m(\u001b[0m\u001b[0mx\u001b[0m\u001b[0;34m,\u001b[0m \u001b[0;34m*\u001b[0m\u001b[0margs\u001b[0m\u001b[0;34m)\u001b[0m\u001b[0;34m\u001b[0m\u001b[0m\n\u001b[0;32m--> 281\u001b[0;31m             \u001b[0mg\u001b[0m \u001b[0;34m=\u001b[0m \u001b[0m_approx_fprime_helper\u001b[0m\u001b[0;34m(\u001b[0m\u001b[0mx\u001b[0m\u001b[0;34m,\u001b[0m \u001b[0mfun\u001b[0m\u001b[0;34m,\u001b[0m \u001b[0mepsilon\u001b[0m\u001b[0;34m,\u001b[0m \u001b[0margs\u001b[0m\u001b[0;34m=\u001b[0m\u001b[0margs\u001b[0m\u001b[0;34m,\u001b[0m \u001b[0mf0\u001b[0m\u001b[0;34m=\u001b[0m\u001b[0mf\u001b[0m\u001b[0;34m)\u001b[0m\u001b[0;34m\u001b[0m\u001b[0m\n\u001b[0m\u001b[1;32m    282\u001b[0m             \u001b[0;32mreturn\u001b[0m \u001b[0mf\u001b[0m\u001b[0;34m,\u001b[0m \u001b[0mg\u001b[0m\u001b[0;34m\u001b[0m\u001b[0m\n\u001b[1;32m    283\u001b[0m     \u001b[0;32melse\u001b[0m\u001b[0;34m:\u001b[0m\u001b[0;34m\u001b[0m\u001b[0m\n",
      "\u001b[0;32m~/Envs/pblt/lib/python3.5/site-packages/scipy/optimize/optimize.py\u001b[0m in \u001b[0;36m_approx_fprime_helper\u001b[0;34m(xk, f, epsilon, args, f0)\u001b[0m\n\u001b[1;32m    641\u001b[0m         \u001b[0mei\u001b[0m\u001b[0;34m[\u001b[0m\u001b[0mk\u001b[0m\u001b[0;34m]\u001b[0m \u001b[0;34m=\u001b[0m \u001b[0;36m1.0\u001b[0m\u001b[0;34m\u001b[0m\u001b[0m\n\u001b[1;32m    642\u001b[0m         \u001b[0md\u001b[0m \u001b[0;34m=\u001b[0m \u001b[0mepsilon\u001b[0m \u001b[0;34m*\u001b[0m \u001b[0mei\u001b[0m\u001b[0;34m\u001b[0m\u001b[0m\n\u001b[0;32m--> 643\u001b[0;31m         \u001b[0mgrad\u001b[0m\u001b[0;34m[\u001b[0m\u001b[0mk\u001b[0m\u001b[0;34m]\u001b[0m \u001b[0;34m=\u001b[0m \u001b[0;34m(\u001b[0m\u001b[0mf\u001b[0m\u001b[0;34m(\u001b[0m\u001b[0;34m*\u001b[0m\u001b[0;34m(\u001b[0m\u001b[0;34m(\u001b[0m\u001b[0mxk\u001b[0m \u001b[0;34m+\u001b[0m \u001b[0md\u001b[0m\u001b[0;34m,\u001b[0m\u001b[0;34m)\u001b[0m \u001b[0;34m+\u001b[0m \u001b[0margs\u001b[0m\u001b[0;34m)\u001b[0m\u001b[0;34m)\u001b[0m \u001b[0;34m-\u001b[0m \u001b[0mf0\u001b[0m\u001b[0;34m)\u001b[0m \u001b[0;34m/\u001b[0m \u001b[0md\u001b[0m\u001b[0;34m[\u001b[0m\u001b[0mk\u001b[0m\u001b[0;34m]\u001b[0m\u001b[0;34m\u001b[0m\u001b[0m\n\u001b[0m\u001b[1;32m    644\u001b[0m         \u001b[0mei\u001b[0m\u001b[0;34m[\u001b[0m\u001b[0mk\u001b[0m\u001b[0;34m]\u001b[0m \u001b[0;34m=\u001b[0m \u001b[0;36m0.0\u001b[0m\u001b[0;34m\u001b[0m\u001b[0m\n\u001b[1;32m    645\u001b[0m     \u001b[0;32mreturn\u001b[0m \u001b[0mgrad\u001b[0m\u001b[0;34m\u001b[0m\u001b[0m\n",
      "\u001b[0;32m~/Envs/pblt/lib/python3.5/site-packages/scipy/optimize/optimize.py\u001b[0m in \u001b[0;36mfunction_wrapper\u001b[0;34m(*wrapper_args)\u001b[0m\n\u001b[1;32m    290\u001b[0m     \u001b[0;32mdef\u001b[0m \u001b[0mfunction_wrapper\u001b[0m\u001b[0;34m(\u001b[0m\u001b[0;34m*\u001b[0m\u001b[0mwrapper_args\u001b[0m\u001b[0;34m)\u001b[0m\u001b[0;34m:\u001b[0m\u001b[0;34m\u001b[0m\u001b[0m\n\u001b[1;32m    291\u001b[0m         \u001b[0mncalls\u001b[0m\u001b[0;34m[\u001b[0m\u001b[0;36m0\u001b[0m\u001b[0;34m]\u001b[0m \u001b[0;34m+=\u001b[0m \u001b[0;36m1\u001b[0m\u001b[0;34m\u001b[0m\u001b[0m\n\u001b[0;32m--> 292\u001b[0;31m         \u001b[0;32mreturn\u001b[0m \u001b[0mfunction\u001b[0m\u001b[0;34m(\u001b[0m\u001b[0;34m*\u001b[0m\u001b[0;34m(\u001b[0m\u001b[0mwrapper_args\u001b[0m \u001b[0;34m+\u001b[0m \u001b[0margs\u001b[0m\u001b[0;34m)\u001b[0m\u001b[0;34m)\u001b[0m\u001b[0;34m\u001b[0m\u001b[0m\n\u001b[0m\u001b[1;32m    293\u001b[0m \u001b[0;34m\u001b[0m\u001b[0m\n\u001b[1;32m    294\u001b[0m     \u001b[0;32mreturn\u001b[0m \u001b[0mncalls\u001b[0m\u001b[0;34m,\u001b[0m \u001b[0mfunction_wrapper\u001b[0m\u001b[0;34m\u001b[0m\u001b[0m\n",
      "\u001b[0;32m<ipython-input-48-7e4511ad045f>\u001b[0m in \u001b[0;36mclass_cost\u001b[0;34m(self, params, psi_set, n, k, sel, debug)\u001b[0m\n\u001b[1;32m      8\u001b[0m \u001b[0;34m\u001b[0m\u001b[0m\n\u001b[1;32m      9\u001b[0m     \u001b[0;32mdef\u001b[0m \u001b[0mclass_cost\u001b[0m\u001b[0;34m(\u001b[0m\u001b[0mself\u001b[0m\u001b[0;34m,\u001b[0m \u001b[0mparams\u001b[0m\u001b[0;34m,\u001b[0m \u001b[0mpsi_set\u001b[0m\u001b[0;34m,\u001b[0m \u001b[0mn\u001b[0m\u001b[0;34m,\u001b[0m \u001b[0mk\u001b[0m\u001b[0;34m,\u001b[0m \u001b[0msel\u001b[0m\u001b[0;34m,\u001b[0m \u001b[0mdebug\u001b[0m\u001b[0;34m=\u001b[0m\u001b[0;32mFalse\u001b[0m\u001b[0;34m)\u001b[0m\u001b[0;34m:\u001b[0m\u001b[0;34m\u001b[0m\u001b[0m\n\u001b[0;32m---> 10\u001b[0;31m         \u001b[0mcost_res\u001b[0m \u001b[0;34m=\u001b[0m \u001b[0mcost\u001b[0m\u001b[0;34m(\u001b[0m\u001b[0mparams\u001b[0m\u001b[0;34m,\u001b[0m \u001b[0mpsi_set\u001b[0m\u001b[0;34m,\u001b[0m \u001b[0mn\u001b[0m\u001b[0;34m,\u001b[0m \u001b[0mk\u001b[0m\u001b[0;34m,\u001b[0m \u001b[0msel\u001b[0m\u001b[0;34m,\u001b[0m \u001b[0mdebug\u001b[0m\u001b[0;34m)\u001b[0m\u001b[0;34m\u001b[0m\u001b[0m\n\u001b[0m\u001b[1;32m     11\u001b[0m         \u001b[0mself\u001b[0m\u001b[0;34m.\u001b[0m\u001b[0mcosts\u001b[0m\u001b[0;34m.\u001b[0m\u001b[0mappend\u001b[0m\u001b[0;34m(\u001b[0m\u001b[0mcost_res\u001b[0m\u001b[0;34m)\u001b[0m\u001b[0;34m\u001b[0m\u001b[0m\n\u001b[1;32m     12\u001b[0m         \u001b[0;32mreturn\u001b[0m \u001b[0mcost_res\u001b[0m\u001b[0;34m\u001b[0m\u001b[0m\n",
      "\u001b[0;32m<ipython-input-32-36aa2d47a214>\u001b[0m in \u001b[0;36mcost\u001b[0;34m(params, psi_set, n, k, sel, debug)\u001b[0m\n\u001b[1;32m     16\u001b[0m     \u001b[0mtrashdm\u001b[0m \u001b[0;34m=\u001b[0m \u001b[0mket2dm\u001b[0m\u001b[0;34m(\u001b[0m\u001b[0mtensor\u001b[0m\u001b[0;34m(\u001b[0m\u001b[0;34m[\u001b[0m\u001b[0mbasis\u001b[0m\u001b[0;34m(\u001b[0m\u001b[0;36m2\u001b[0m\u001b[0;34m,\u001b[0m\u001b[0;36m0\u001b[0m\u001b[0;34m)\u001b[0m \u001b[0;32mfor\u001b[0m \u001b[0m_\u001b[0m \u001b[0;32min\u001b[0m \u001b[0mrange\u001b[0m\u001b[0;34m(\u001b[0m\u001b[0mk\u001b[0m\u001b[0;34m)\u001b[0m\u001b[0;34m]\u001b[0m\u001b[0;34m)\u001b[0m\u001b[0;34m)\u001b[0m\u001b[0;34m\u001b[0m\u001b[0m\n\u001b[1;32m     17\u001b[0m \u001b[0;34m\u001b[0m\u001b[0m\n\u001b[0;32m---> 18\u001b[0;31m     \u001b[0mU\u001b[0m \u001b[0;34m=\u001b[0m \u001b[0mcreate_circuit_gate\u001b[0m\u001b[0;34m(\u001b[0m\u001b[0mn\u001b[0m \u001b[0;34m+\u001b[0m \u001b[0mk\u001b[0m\u001b[0;34m,\u001b[0m \u001b[0mparams\u001b[0m\u001b[0;34m)\u001b[0m\u001b[0;34m\u001b[0m\u001b[0m\n\u001b[0m\u001b[1;32m     19\u001b[0m \u001b[0;34m\u001b[0m\u001b[0m\n\u001b[1;32m     20\u001b[0m     \u001b[0mdmify\u001b[0m \u001b[0;34m=\u001b[0m \u001b[0mgen_dmify\u001b[0m\u001b[0;34m(\u001b[0m\u001b[0;34m)\u001b[0m\u001b[0;34m\u001b[0m\u001b[0m\n",
      "\u001b[0;32m<ipython-input-8-f0f97632d26b>\u001b[0m in \u001b[0;36mcreate_circuit_gate\u001b[0;34m(n, all_params)\u001b[0m\n\u001b[1;32m     34\u001b[0m     \u001b[0;31m# blue boxes\u001b[0m\u001b[0;34m\u001b[0m\u001b[0;34m\u001b[0m\u001b[0m\n\u001b[1;32m     35\u001b[0m     \u001b[0;32mfor\u001b[0m \u001b[0mi\u001b[0m \u001b[0;32min\u001b[0m \u001b[0mrange\u001b[0m\u001b[0;34m(\u001b[0m\u001b[0mn\u001b[0m\u001b[0;34m)\u001b[0m\u001b[0;34m:\u001b[0m\u001b[0;34m\u001b[0m\u001b[0m\n\u001b[0;32m---> 36\u001b[0;31m         \u001b[0mgates\u001b[0m\u001b[0;34m.\u001b[0m\u001b[0mappend\u001b[0m\u001b[0;34m(\u001b[0m\u001b[0mblue_box_gate\u001b[0m\u001b[0;34m(\u001b[0m\u001b[0mn\u001b[0m\u001b[0;34m,\u001b[0m \u001b[0mm\u001b[0m\u001b[0;34m[\u001b[0m\u001b[0mi\u001b[0m\u001b[0;34m]\u001b[0m\u001b[0;34m,\u001b[0m \u001b[0mi\u001b[0m\u001b[0;34m)\u001b[0m\u001b[0;34m)\u001b[0m\u001b[0;34m\u001b[0m\u001b[0m\n\u001b[0m\u001b[1;32m     37\u001b[0m \u001b[0;34m\u001b[0m\u001b[0m\n\u001b[1;32m     38\u001b[0m     \u001b[0;31m# back wrapper\u001b[0m\u001b[0;34m\u001b[0m\u001b[0;34m\u001b[0m\u001b[0m\n",
      "\u001b[0;32m<ipython-input-8-f0f97632d26b>\u001b[0m in \u001b[0;36mblue_box_gate\u001b[0;34m(n, params, ctrl)\u001b[0m\n\u001b[1;32m     18\u001b[0m         \u001b[0mrot_params\u001b[0m \u001b[0;34m=\u001b[0m \u001b[0mparams\u001b[0m\u001b[0;34m[\u001b[0m\u001b[0mp_index\u001b[0m\u001b[0;34m]\u001b[0m\u001b[0;34m\u001b[0m\u001b[0m\n\u001b[1;32m     19\u001b[0m         \u001b[0mp_index\u001b[0m \u001b[0;34m+=\u001b[0m \u001b[0;36m1\u001b[0m\u001b[0;34m\u001b[0m\u001b[0m\n\u001b[0;32m---> 20\u001b[0;31m         \u001b[0mgates\u001b[0m\u001b[0;34m.\u001b[0m\u001b[0mappend\u001b[0m\u001b[0;34m(\u001b[0m\u001b[0mctrl_rot\u001b[0m\u001b[0;34m(\u001b[0m\u001b[0mn\u001b[0m\u001b[0;34m,\u001b[0m \u001b[0mrot_params\u001b[0m\u001b[0;34m,\u001b[0m \u001b[0mctrl\u001b[0m\u001b[0;34m,\u001b[0m \u001b[0mtgt\u001b[0m\u001b[0;34m)\u001b[0m\u001b[0;34m)\u001b[0m\u001b[0;34m\u001b[0m\u001b[0m\n\u001b[0m\u001b[1;32m     21\u001b[0m     \u001b[0;32mreturn\u001b[0m \u001b[0mgate_prod\u001b[0m\u001b[0;34m(\u001b[0m\u001b[0mn\u001b[0m\u001b[0;34m,\u001b[0m \u001b[0mgates\u001b[0m\u001b[0;34m)\u001b[0m\u001b[0;34m\u001b[0m\u001b[0m\n\u001b[1;32m     22\u001b[0m \u001b[0;34m\u001b[0m\u001b[0m\n",
      "\u001b[0;32m<ipython-input-4-0397925ae4cf>\u001b[0m in \u001b[0;36mctrl_rot\u001b[0;34m(n, params, ctrl, tgt)\u001b[0m\n\u001b[1;32m     13\u001b[0m     \u001b[0malpha\u001b[0m\u001b[0;34m,\u001b[0m \u001b[0mtheta\u001b[0m\u001b[0;34m,\u001b[0m \u001b[0mbeta\u001b[0m \u001b[0;34m=\u001b[0m \u001b[0mparams\u001b[0m\u001b[0;34m\u001b[0m\u001b[0m\n\u001b[1;32m     14\u001b[0m     \u001b[0mA\u001b[0m \u001b[0;34m=\u001b[0m \u001b[0mrz\u001b[0m\u001b[0;34m(\u001b[0m\u001b[0malpha\u001b[0m\u001b[0;34m,\u001b[0m \u001b[0mn\u001b[0m\u001b[0;34m,\u001b[0m \u001b[0mtgt\u001b[0m\u001b[0;34m)\u001b[0m \u001b[0;34m*\u001b[0m \u001b[0mry\u001b[0m\u001b[0;34m(\u001b[0m\u001b[0mtheta\u001b[0m \u001b[0;34m/\u001b[0m \u001b[0;36m2.0\u001b[0m\u001b[0;34m,\u001b[0m \u001b[0mn\u001b[0m\u001b[0;34m,\u001b[0m \u001b[0mtgt\u001b[0m\u001b[0;34m)\u001b[0m\u001b[0;34m\u001b[0m\u001b[0m\n\u001b[0;32m---> 15\u001b[0;31m     \u001b[0mB\u001b[0m \u001b[0;34m=\u001b[0m \u001b[0mry\u001b[0m\u001b[0;34m(\u001b[0m\u001b[0;34m-\u001b[0m\u001b[0mtheta\u001b[0m \u001b[0;34m/\u001b[0m \u001b[0;36m2.0\u001b[0m\u001b[0;34m,\u001b[0m \u001b[0mn\u001b[0m\u001b[0;34m,\u001b[0m \u001b[0mtgt\u001b[0m\u001b[0;34m)\u001b[0m \u001b[0;34m*\u001b[0m \u001b[0mrz\u001b[0m\u001b[0;34m(\u001b[0m\u001b[0;34m-\u001b[0m\u001b[0;34m(\u001b[0m\u001b[0malpha\u001b[0m \u001b[0;34m+\u001b[0m \u001b[0mbeta\u001b[0m\u001b[0;34m)\u001b[0m \u001b[0;34m/\u001b[0m \u001b[0;36m2.0\u001b[0m\u001b[0;34m,\u001b[0m \u001b[0mn\u001b[0m\u001b[0;34m,\u001b[0m \u001b[0mtgt\u001b[0m\u001b[0;34m)\u001b[0m\u001b[0;34m\u001b[0m\u001b[0m\n\u001b[0m\u001b[1;32m     16\u001b[0m     \u001b[0mC\u001b[0m \u001b[0;34m=\u001b[0m \u001b[0mrz\u001b[0m\u001b[0;34m(\u001b[0m\u001b[0;34m(\u001b[0m\u001b[0mbeta\u001b[0m \u001b[0;34m-\u001b[0m \u001b[0malpha\u001b[0m\u001b[0;34m)\u001b[0m \u001b[0;34m/\u001b[0m \u001b[0;36m2.0\u001b[0m\u001b[0;34m,\u001b[0m \u001b[0mn\u001b[0m\u001b[0;34m,\u001b[0m \u001b[0mtgt\u001b[0m\u001b[0;34m)\u001b[0m\u001b[0;34m\u001b[0m\u001b[0m\n\u001b[1;32m     17\u001b[0m \u001b[0;34m\u001b[0m\u001b[0m\n",
      "\u001b[0;32m~/Envs/pblt/lib/python3.5/site-packages/qutip/qip/gates.py\u001b[0m in \u001b[0;36mry\u001b[0;34m(phi, N, target)\u001b[0m\n\u001b[1;32m     82\u001b[0m     \"\"\"\n\u001b[1;32m     83\u001b[0m     \u001b[0;32mif\u001b[0m \u001b[0mN\u001b[0m \u001b[0;32mis\u001b[0m \u001b[0;32mnot\u001b[0m \u001b[0;32mNone\u001b[0m\u001b[0;34m:\u001b[0m\u001b[0;34m\u001b[0m\u001b[0m\n\u001b[0;32m---> 84\u001b[0;31m         \u001b[0;32mreturn\u001b[0m \u001b[0mgate_expand_1toN\u001b[0m\u001b[0;34m(\u001b[0m\u001b[0mry\u001b[0m\u001b[0;34m(\u001b[0m\u001b[0mphi\u001b[0m\u001b[0;34m)\u001b[0m\u001b[0;34m,\u001b[0m \u001b[0mN\u001b[0m\u001b[0;34m,\u001b[0m \u001b[0mtarget\u001b[0m\u001b[0;34m)\u001b[0m\u001b[0;34m\u001b[0m\u001b[0m\n\u001b[0m\u001b[1;32m     85\u001b[0m     \u001b[0;32melse\u001b[0m\u001b[0;34m:\u001b[0m\u001b[0;34m\u001b[0m\u001b[0m\n\u001b[1;32m     86\u001b[0m         return Qobj([[np.cos(phi / 2), -np.sin(phi / 2)],\n",
      "\u001b[0;32m~/Envs/pblt/lib/python3.5/site-packages/qutip/qip/gates.py\u001b[0m in \u001b[0;36mgate_expand_1toN\u001b[0;34m(U, N, target)\u001b[0m\n\u001b[1;32m    826\u001b[0m \u001b[0;34m\u001b[0m\u001b[0m\n\u001b[1;32m    827\u001b[0m     return tensor([identity(2)] * (target) + [U] +\n\u001b[0;32m--> 828\u001b[0;31m                   [identity(2)] * (N - target - 1))\n\u001b[0m\u001b[1;32m    829\u001b[0m \u001b[0;34m\u001b[0m\u001b[0m\n\u001b[1;32m    830\u001b[0m \u001b[0;34m\u001b[0m\u001b[0m\n",
      "\u001b[0;32m~/Envs/pblt/lib/python3.5/site-packages/qutip/operators.py\u001b[0m in \u001b[0;36midentity\u001b[0;34m(N)\u001b[0m\n\u001b[1;32m    477\u001b[0m         \u001b[0mIdentity\u001b[0m \u001b[0moperator\u001b[0m \u001b[0mQobj\u001b[0m\u001b[0;34m.\u001b[0m\u001b[0;34m\u001b[0m\u001b[0m\n\u001b[1;32m    478\u001b[0m     \"\"\"\n\u001b[0;32m--> 479\u001b[0;31m     \u001b[0;32mreturn\u001b[0m \u001b[0mqeye\u001b[0m\u001b[0;34m(\u001b[0m\u001b[0mN\u001b[0m\u001b[0;34m)\u001b[0m\u001b[0;34m\u001b[0m\u001b[0m\n\u001b[0m\u001b[1;32m    480\u001b[0m \u001b[0;34m\u001b[0m\u001b[0m\n\u001b[1;32m    481\u001b[0m \u001b[0;34m\u001b[0m\u001b[0m\n",
      "\u001b[0;32m~/Envs/pblt/lib/python3.5/site-packages/qutip/operators.py\u001b[0m in \u001b[0;36mqeye\u001b[0;34m(N)\u001b[0m\n\u001b[1;32m    459\u001b[0m     \u001b[0;32mif\u001b[0m \u001b[0mN\u001b[0m \u001b[0;34m<\u001b[0m \u001b[0;36m0\u001b[0m\u001b[0;34m:\u001b[0m\u001b[0;34m\u001b[0m\u001b[0m\n\u001b[1;32m    460\u001b[0m         \u001b[0;32mraise\u001b[0m \u001b[0mValueError\u001b[0m\u001b[0;34m(\u001b[0m\u001b[0;34m\"N must be integer N>=0\"\u001b[0m\u001b[0;34m)\u001b[0m\u001b[0;34m\u001b[0m\u001b[0m\n\u001b[0;32m--> 461\u001b[0;31m     \u001b[0;32mreturn\u001b[0m \u001b[0mQobj\u001b[0m\u001b[0;34m(\u001b[0m\u001b[0mfast_identity\u001b[0m\u001b[0;34m(\u001b[0m\u001b[0mN\u001b[0m\u001b[0;34m)\u001b[0m\u001b[0;34m,\u001b[0m \u001b[0misherm\u001b[0m\u001b[0;34m=\u001b[0m\u001b[0;32mTrue\u001b[0m\u001b[0;34m)\u001b[0m\u001b[0;34m\u001b[0m\u001b[0m\n\u001b[0m\u001b[1;32m    462\u001b[0m \u001b[0;34m\u001b[0m\u001b[0m\n\u001b[1;32m    463\u001b[0m \u001b[0;34m\u001b[0m\u001b[0m\n",
      "\u001b[0;32m~/Envs/pblt/lib/python3.5/site-packages/qutip/qobj.py\u001b[0m in \u001b[0;36m__init__\u001b[0;34m(self, inpt, dims, shape, type, isherm, copy, fast, superrep)\u001b[0m\n\u001b[1;32m    318\u001b[0m             \u001b[0mself\u001b[0m\u001b[0;34m.\u001b[0m\u001b[0msuperrep\u001b[0m \u001b[0;34m=\u001b[0m \u001b[0msuperrep\u001b[0m\u001b[0;34m\u001b[0m\u001b[0m\n\u001b[1;32m    319\u001b[0m         \u001b[0;32melse\u001b[0m\u001b[0;34m:\u001b[0m\u001b[0;34m\u001b[0m\u001b[0m\n\u001b[0;32m--> 320\u001b[0;31m             \u001b[0;32mif\u001b[0m \u001b[0mself\u001b[0m\u001b[0;34m.\u001b[0m\u001b[0mtype\u001b[0m \u001b[0;34m==\u001b[0m \u001b[0;34m'super'\u001b[0m \u001b[0;32mand\u001b[0m \u001b[0mself\u001b[0m\u001b[0;34m.\u001b[0m\u001b[0msuperrep\u001b[0m \u001b[0;32mis\u001b[0m \u001b[0;32mNone\u001b[0m\u001b[0;34m:\u001b[0m\u001b[0;34m\u001b[0m\u001b[0m\n\u001b[0m\u001b[1;32m    321\u001b[0m                 \u001b[0mself\u001b[0m\u001b[0;34m.\u001b[0m\u001b[0msuperrep\u001b[0m \u001b[0;34m=\u001b[0m \u001b[0;34m'super'\u001b[0m\u001b[0;34m\u001b[0m\u001b[0m\n\u001b[1;32m    322\u001b[0m \u001b[0;34m\u001b[0m\u001b[0m\n",
      "\u001b[0;32m~/Envs/pblt/lib/python3.5/site-packages/qutip/qobj.py\u001b[0m in \u001b[0;36mtype\u001b[0;34m(self)\u001b[0m\n\u001b[1;32m   1818\u001b[0m     \u001b[0;32mdef\u001b[0m \u001b[0mtype\u001b[0m\u001b[0;34m(\u001b[0m\u001b[0mself\u001b[0m\u001b[0;34m)\u001b[0m\u001b[0;34m:\u001b[0m\u001b[0;34m\u001b[0m\u001b[0m\n\u001b[1;32m   1819\u001b[0m         \u001b[0;32mif\u001b[0m \u001b[0;32mnot\u001b[0m \u001b[0mself\u001b[0m\u001b[0;34m.\u001b[0m\u001b[0m_type\u001b[0m\u001b[0;34m:\u001b[0m\u001b[0;34m\u001b[0m\u001b[0m\n\u001b[0;32m-> 1820\u001b[0;31m             \u001b[0mself\u001b[0m\u001b[0;34m.\u001b[0m\u001b[0m_type\u001b[0m \u001b[0;34m=\u001b[0m \u001b[0mtype_from_dims\u001b[0m\u001b[0;34m(\u001b[0m\u001b[0mself\u001b[0m\u001b[0;34m.\u001b[0m\u001b[0mdims\u001b[0m\u001b[0;34m)\u001b[0m\u001b[0;34m\u001b[0m\u001b[0m\n\u001b[0m\u001b[1;32m   1821\u001b[0m \u001b[0;34m\u001b[0m\u001b[0m\n\u001b[1;32m   1822\u001b[0m         \u001b[0;32mreturn\u001b[0m \u001b[0mself\u001b[0m\u001b[0;34m.\u001b[0m\u001b[0m_type\u001b[0m\u001b[0;34m\u001b[0m\u001b[0m\n",
      "\u001b[0;32m~/Envs/pblt/lib/python3.5/site-packages/qutip/dimensions.py\u001b[0m in \u001b[0;36mtype_from_dims\u001b[0;34m(dims, enforce_square)\u001b[0m\n\u001b[1;32m     63\u001b[0m \u001b[0;34m\u001b[0m\u001b[0m\n\u001b[1;32m     64\u001b[0m \u001b[0;32mdef\u001b[0m \u001b[0mtype_from_dims\u001b[0m\u001b[0;34m(\u001b[0m\u001b[0mdims\u001b[0m\u001b[0;34m,\u001b[0m \u001b[0menforce_square\u001b[0m\u001b[0;34m=\u001b[0m\u001b[0;32mTrue\u001b[0m\u001b[0;34m)\u001b[0m\u001b[0;34m:\u001b[0m\u001b[0;34m\u001b[0m\u001b[0m\n\u001b[0;32m---> 65\u001b[0;31m     \u001b[0mbra_like\u001b[0m\u001b[0;34m,\u001b[0m \u001b[0mket_like\u001b[0m \u001b[0;34m=\u001b[0m \u001b[0mmap\u001b[0m\u001b[0;34m(\u001b[0m\u001b[0mis_scalar\u001b[0m\u001b[0;34m,\u001b[0m \u001b[0mdims\u001b[0m\u001b[0;34m)\u001b[0m\u001b[0;34m\u001b[0m\u001b[0m\n\u001b[0m\u001b[1;32m     66\u001b[0m \u001b[0;34m\u001b[0m\u001b[0m\n\u001b[1;32m     67\u001b[0m     \u001b[0;32mif\u001b[0m \u001b[0mbra_like\u001b[0m\u001b[0;34m:\u001b[0m\u001b[0;34m\u001b[0m\u001b[0m\n",
      "\u001b[0;32m~/Envs/pblt/lib/python3.5/site-packages/qutip/dimensions.py\u001b[0m in \u001b[0;36mis_scalar\u001b[0;34m(dims)\u001b[0m\n\u001b[1;32m     42\u001b[0m \u001b[0;32mfrom\u001b[0m \u001b[0mfunctools\u001b[0m \u001b[0;32mimport\u001b[0m \u001b[0mpartial\u001b[0m\u001b[0;34m\u001b[0m\u001b[0m\n\u001b[1;32m     43\u001b[0m \u001b[0;34m\u001b[0m\u001b[0m\n\u001b[0;32m---> 44\u001b[0;31m \u001b[0;32mdef\u001b[0m \u001b[0mis_scalar\u001b[0m\u001b[0;34m(\u001b[0m\u001b[0mdims\u001b[0m\u001b[0;34m)\u001b[0m\u001b[0;34m:\u001b[0m\u001b[0;34m\u001b[0m\u001b[0m\n\u001b[0m\u001b[1;32m     45\u001b[0m     \"\"\"\n\u001b[1;32m     46\u001b[0m     \u001b[0mReturns\u001b[0m \u001b[0;32mTrue\u001b[0m \u001b[0;32mif\u001b[0m \u001b[0ma\u001b[0m \u001b[0mdims\u001b[0m \u001b[0mspecification\u001b[0m \u001b[0;32mis\u001b[0m \u001b[0meffectively\u001b[0m\u001b[0;34m\u001b[0m\u001b[0m\n",
      "\u001b[0;31mKeyboardInterrupt\u001b[0m: "
     ]
    }
   ],
   "source": [
    "print(\"round 3\\n--------------------\\n\")\n",
    "res3 = minimize(ci.class_cost, params2, args=(train_set, 2, 2, sel, False), method=method, bounds=[(0, 4*np.pi)] * n_params, options={'disp': True, 'eps': 1e-03, 'ftol': 0.000001})\n",
    "params3 = res3['x']\n",
    "\n",
    "checkpoint3 = ci.costs.copy()\n",
    "print(\"Round 3 took {} iterations\".format(len(checkpoint3) - len(checkpoint2)))\n",
    "\n",
    "# print(\"round 4\\nfinal_result--------------------\\n\")\n",
    "# res4 = minimize(ci.class_cost, params3, args=(train_set, 2, 2, sel, False), method=method, bounds=[[0, 4*np.pi]] * n_params, options={'disp': True, 'eps': 1e-08, 'ftol': 0.000001})\n"
   ]
  },
  {
   "cell_type": "code",
   "execution_count": 86,
   "metadata": {},
   "outputs": [
    {
     "data": {
      "image/png": "[encoded data removed]",
      "text/plain": [
       "<matplotlib.figure.Figure at 0x7f67fc4d6208>"
      ]
     },
     "metadata": {},
     "output_type": "display_data"
    }
   ],
   "source": [
    "# costs after 3 rounds\n",
    "plt.plot(ci.costs)\n",
    "plt.semilogy()\n",
    "plt.show()"
   ]
  },
  {
   "cell_type": "code",
   "execution_count": 75,
   "metadata": {},
   "outputs": [
    {
     "data": {
      "text/plain": [
       "0.027797830486159913"
      ]
     },
     "execution_count": 75,
     "metadata": {},
     "output_type": "execute_result"
    }
   ],
   "source": [
    "ci.costs[2000]"
   ]
  },
  {
   "cell_type": "code",
   "execution_count": null,
   "metadata": {},
   "outputs": [],
   "source": [
    "final_result = res3\n",
    "\n",
    "final_params = final_result['x']\n",
    "# save costs as part of the result\n",
    "final_result[\"costs\"] = ci.costs\n",
    "\n",
    "# save results for later analysis\n",
    "save_obj(final_result, '{}.{}-{}-{}.{}'.format(method, n, k, sel, np.round(time.time())))"
   ]
  },
  {
   "cell_type": "code",
   "execution_count": 65,
   "metadata": {},
   "outputs": [
    {
     "data": {
      "image/png": "[encoded data removed]",
      "text/plain": [
       "<matplotlib.figure.Figure at 0x7f67fc9ccf28>"
      ]
     },
     "metadata": {},
     "output_type": "display_data"
    }
   ],
   "source": [
    "# graph of cost over each iteration\n",
    "plt.plot(final_result[\"costs\"])\n",
    "plt.semilogy()\n",
    "plt.show()"
   ]
  },
  {
   "cell_type": "code",
   "execution_count": 55,
   "metadata": {},
   "outputs": [
    {
     "data": {
      "text/plain": [
       "    costs: [0.5988291965014385, 0.598829196966385, 0.5987868055398491, 0.5987032973120197, 0.5988291966702637, 0.5988291974152968, 0.598829196251353, 0.5988291968709047, 0.5988883337001036, 0.598808255713257, 0.5988291974306212, 0.5988291965598092, 0.5988291970021262, 0.5988309193453365, 0.5988756982272923, 0.5987705503197929, 0.5988110490746745, 0.5988561107525878, 0.5987378557516296, 0.5988747548425901, 0.5988882299205418, 0.5988621149195268, 0.5987377868222516, 0.5988124916245492, 0.5989018386773755, 0.5987695243591673, 0.5988037405912845, 0.5987991534055974, 0.598814005207899, 0.5987657995982136, 0.5988028704093216, 0.5988714105775956, 0.5987841341680931, 0.5988199311705065, 0.5988012016331434, 0.5987760418192116, 0.598934627530209, 0.5987940936496909, 0.5988122783263747, 0.5989298391558293, 0.5988660500835801, 0.5987882563135623, 0.5988425175353513, 0.5988408694964242, 0.5988417829248942, 0.5988146793253224, 0.5988416259919151, 0.5988463347936683, 0.5988233564481344, 0.5987923697730004, 0.5988508266850008, 0.5987931896929857, 0.5988760504019048, 0.598824454934753, 0.5987931894655023, 0.5987464183838274, 0.5986798197263294, 0.5988652097309988, 0.5989411657896426, 0.5989164854608975, 0.5988652088283304, 0.4411420555401032, 0.4411420529557438, 0.44112802489075154, 0.4410264946761414, 0.4411420550728984, 0.44114205322582845, 0.4411420544871597, 0.4411420550893742, 0.44118872769064, 0.44110696591294407, 0.4411420544206378, 0.44114205564813025, 0.44114205390617633, 0.44114429883901507, 0.4411766587385876, 0.4410825661693426, 0.44111044194089366, 0.44115813833598827, 0.441047029924286, 0.44118994221474406, 0.44120443500272943, 0.44115164431230636, 0.4410556387556964, 0.44109741547465986, 0.44121148593460624, 0.44105639177964273, 0.4411109264377733, 0.4411088946731456, 0.44111113358954746, 0.441074919734992, 0.44110637206544645, 0.44117971710542314, 0.44108780241231527, 0.44112657324420723, 0.4411010520902824, 0.44109693541123063, 0.4412184789854692, 0.44109942460378404, 0.4411459048450218, 0.44122697188200877, 0.441169882077349, 0.4411294689416819, 0.4411576890625821, 0.44114747739316806, 0.4411701676223122, 0.44112439722549357, 0.4411617157859353, 0.4411623434093662, 0.4411498880042193, 0.4411170112631738, 0.4411781245497234, 0.44111701165762696, 0.4411746905434917, 0.4411688772034025, 0.4411170121311143, 0.4410842202833881, 0.44096135815753545, 0.4411671362682158, 0.44122658417270166, 0.44116429791855694, 0.44116713710476263, 0.6508206290546292, 0.6508206282911164, 0.6507296859147005, 0.6509395949456627, 0.6508206287712446, 0.6508206293139125, 0.6508206277895112, 0.6508206282906213, 0.6507329242092448, 0.6507345568102902, 0.650820628131356, 0.6508206287041463, 0.6508206287278997, 0.6507626325704734, 0.6508164568495138, 0.650845499007298, 0.6508267174700653, 0.6508627734613248, 0.6509266088593935, 0.6507998253452116, 0.650767376610488, 0.6508414640031641, 0.6508635603784672, 0.650832096012312, 0.6507717560939466, 0.6508970181812044, 0.6508151118404564, 0.6508517895017869, 0.6508169839813847, 0.6508716433711985, 0.650849801022781, 0.6508642821245412, 0.6509437408733894, 0.6508270542860384, 0.6509088740967226, 0.6509453182619052, 0.6508225105434688, 0.6508732031546762, 0.6507960730291031, 0.6508131280703016, 0.6508177700505104, 0.6507953282384731, 0.6508134484533261, 0.6508211606102507, 0.6508367352049025, 0.6508257648169022, 0.6507902801995036, 0.6508602256282898, 0.6508116299818933, 0.6508062544923414, 0.6506870697545355, 0.6508062548196794, 0.6508216617127989, 0.6506782560407451, 0.6508062539664692, 0.6508105622477438, 0.6507923319748952, 0.6508349422644044, 0.650834944051542, 0.650699855979078, 0.6508349441348069, 0.2518185440162294, 0.25181854619930466, 0.2518276364465174, 0.2518997849074913, 0.25181854430889405, 0.2518185450026692, 0.2518185446760026, 0.25181854422265726, 0.2518014235932432, 0.25182004362244503, 0.25181854438941753, 0.2518185444969657, 0.25181854525900416, 0.25178676494831187, 0.2518105266169002, 0.25183096033088914, 0.2518180367134395, 0.2517593522908097, 0.2518030051275302, 0.2518824196828674, 0.25179628749000926, 0.2517973895064949, 0.25184944591956493, 0.25176082501596075, 0.2517753144363747, 0.25177388757754937, 0.2517989404869847, 0.25184349808942985, 0.2517911548155398, 0.2518451144223409, 0.2518028639383103, 0.25178551632082113, 0.25179432442607996, 0.25185277335944234, 0.2518376206371006, 0.25179920237228204, 0.25178745511016365, 0.25179318453275445, 0.2518702248047813, 0.2517990144908082, 0.2518556639969626, 0.2518346071297509, 0.25186170719905254, 0.2518494748651513, 0.25184004025779705, 0.2517732289878586, 0.2518607593315032, 0.2517869836647394, 0.25185200562261156, 0.251898914739796, 0.2518776813025768, 0.251898914739796, 0.25173640379611484, 0.25187809765441094, 0.25189891361144234, 0.25186584595893835, 0.25171509483847443, 0.25173823027786835, 0.25175111813945195, 0.25180985059292504, 0.25173822945755153, 0.16831935998784753, 0.16831936014567883, 0.1683432797070522, 0.16835371997147608, 0.16831935805876308, 0.16831935849674962, 0.16831935899302086, 0.168319357786055, 0.16829067390643926, 0.1682855137455972, 0.16831935966052403, 0.16831935879559135, 0.16831935940149567, 0.16832000013030368, 0.16831263415378273, 0.16830713341763437, 0.16830797532269337, 0.16829026113310164, 0.16830263680687774, 0.16835811526742184, 0.1683244962833802, 0.16828450909152137, 0.16833070163194686, 0.16825718458450556, 0.16830503213265147, 0.16828051710174918, 0.16832685975210548, 0.1683142093998723, 0.16828061914887826, 0.16831573237990183, 0.16831609816012305, 0.16831424543880802, 0.1683114690008498, 0.16832376440425512, 0.16831059697914308, 0.16831380326543177, 0.16831638737700771, 0.168296868303334, 0.16836944720060742, 0.1683184282719713, 0.16832684331033343, 0.16833298185153966, 0.1683287477210852, 0.16832124521713354, 0.16833599480659833, 0.1683068176068111, 0.16832391908268807, 0.16829859475864228, 0.1683361907566412, 0.16833944329494865, 0.16834592780826363, 0.16833944347969199, 0.16829794727141323, 0.16833616493558556, 0.16833944239881948, 0.16832611333343894, 0.16825052301393262, 0.16829936144601376, 0.1683028666708628, 0.16828357874463917, 0.16829936251912214, 0.16831935998784753, 0.16831935785198615, 0.16831959600120738, 0.16831970199752921, 0.16831936054920682, 0.16831935807897214, 0.1683193604336739, 0.16831936008954473, 0.16831907099142074, 0.16831901928198922, 0.1683193597684628, 0.16831936037682504, 0.16831936033554584, 0.16831936573907624, 0.16831928960396159, 0.1683192355995532, 0.1683192442868372, 0.168319068868374, 0.16831919212772029, 0.16831974440542108, 0.16831941248669546, 0.16831901056543297, 0.1683194722824326, 0.16831873684995913, 0.1683192153679326, 0.16831896898652587, 0.16831943460681165, 0.16831930669875417, 0.1683189703634479, 0.16831932315015763, 0.16831932764483337, 0.1683193066505312, 0.1683192807507642, 0.16831940334663942, 0.16831927190556817, 0.16831930280768248, 0.16831933003914468, 0.16831913469036486, 0.16831985999082477, 0.16831935003517862, 0.1683194346689677, 0.16831949423774695, 0.16831945420140448, 0.16831937698316313, 0.16831952455866273, 0.1683192325886198, 0.16831940495690823, 0.168319150692953, 0.16831952689936724, 0.16831955938093246, 0.16831962503867492, 0.16831955854819036, 0.16831914525186653, 0.16831952720340382, 0.1683195584212438, 0.16831942557565827, 0.16831866849679822, 0.1683191574611974, 0.16831919367026693, 0.16831900022471036, 0.16831915984831392, 0.14240387953226685, 0.14240387911428343, 0.14240407306114633, 0.14240404595740286, 0.14240387948812128, 0.14240387989472547, 0.1424038797092786, 0.14240388006134885, 0.1424035520820528, 0.14240356116252306, 0.14240388158840245, 0.14240387921340902, 0.14240387980568203, 0.142403977219829, 0.14240381748383568, 0.1424037343134733, 0.14240382385328132, 0.14240368241234191, 0.14240374065751737, 0.14240416068698936, 0.14240402677864294, 0.14240355600572707, 0.14240393634096982, 0.14240332029178637, 0.14240380917441098, 0.14240354147301282, 0.14240391587093448, 0.14240377894030132, 0.14240352286027413, 0.14240377215500122, 0.14240386752653633, 0.14240386025607454, 0.14240387029065815, 0.14240386778584524, 0.14240374121766652, 0.14240383119493016, 0.14240390649436152, 0.14240367885224448, 0.14240426227958902, 0.14240391035398803, 0.14240388160372974, 0.1424039886472599, 0.1424038969009641, 0.142403823077199, 0.14240401280905424, 0.14240382740956825, 0.14240384217905, 0.1424036938503752, 0.1424039849548967, 0.14240394254233724, 0.1424040412764399, 0.14240394207532459, 0.14240380575388567, 0.14240393725890643, 0.14240394233055564, 0.14240385540760225, 0.14240329020771847, 0.14240381774999122, 0.1424038499949254, 0.1424035565778442, 0.14240381707188143, 0.07191766705891778, 0.07191766571345626, 0.07191757951091438, 0.07191765843899312, 0.07191766699950541, 0.07191766613845818, 0.07191766634226493, 0.07191766733952842, 0.07191731817488556, 0.0719179754196716, 0.07191766791747012, 0.07191766645933007, 0.07191766548918854, 0.07191780489007027, 0.07191755146965306, 0.071917667864286, 0.0719181033101125, 0.07191771999235319, 0.07191783273731411, 0.07191763729594491, 0.07191773284389846, 0.07191767876589383, 0.07191773315823402, 0.07191742811919388, 0.07191759136970488, 0.071917722304076, 0.07191726181517677, 0.07191772786107531, 0.07191763887688785, 0.07191760459338481, 0.07191771881966857, 0.07191748277196774, 0.0719177420402799, 0.07191773799296819, 0.07191763660391992, 0.07191755020149515, 0.07191772273031205, 0.07191771437629357, 0.07191739784792917, 0.07191763500212345, 0.07191768775938223, 0.07191766617833151, 0.07191770843292344, 0.07191768738242954, 0.07191764641244403, 0.07191762171585758, 0.07191763463762901, 0.0719175269552782, 0.07191772456145962, 0.07191779487017813, 0.07191767556409046, 0.0719177941308905, 0.07191755298115543, 0.07191775811005752, 0.07191779532563736, 0.0719177988284726, 0.07191772607000457, 0.0719175378774578, 0.07191771142267911, 0.0719178556980532, 0.07191753914589716, 0.06130172655428001, 0.06130172778028686, 0.06130162935828032, 0.06130157512284529, 0.06130172783612853, 0.06130172815067525, 0.06130172797219691, 0.06130172788225352, 0.06130162719694665, 0.06130119651502175, 0.06130172729271577, 0.061301728100221275, 0.06130172785595367, 0.06130182315680466, 0.06130173648728887, 0.06130166563205741, 0.06130161960265257, 0.06130161243925747, 0.061301517262455696, 0.06130159931308776, 0.06130174258985577, 0.061301836883243865, 0.06130166768963308, 0.06130161444432469, 0.0613017824599279, 0.06130152436313685, 0.06130163676272693, 0.06130169367513727, 0.06130182219993585, 0.06130162436393338, 0.06130173392338356, 0.06130186184731923, 0.06130164851274511, 0.06130148538705893, 0.061301845757382734, 0.061301940325846016, 0.06130191633065063, 0.061301616842005746, 0.06130136274669862, 0.06130195810019046, 0.06130152254105237, 0.061301729964799656, 0.06130147840336708, 0.06130149018168307, 0.06130179743284947, 0.06130195257575222, 0.06130147759789384, 0.06130169627796134, 0.06130148324252038, 0.06130126792513535, 0.06130185315733927, 0.0613012677771243, 0.06130210395062019, 0.061301725090739834, 0.061301267269729176, 0.06130126569705974, 0.06130183509134157, 0.06130218656813591, 0.06130221946302761, 0.0613019331966399, 0.061302184513547964, 0.0453790601750671, 0.04537906010813686, 0.04537905045456847, 0.04537903429364898, 0.04537905926443997, 0.04537906067071873, 0.04537906071869313, 0.04537905946381471, 0.04537908138402447, 0.045378852067495146, 0.04537905987158697, 0.04537905794851238, 0.045379060907432156, 0.04537910574018811, 0.04537905362734318, 0.04537904592520625, 0.04537908364502374, 0.04537894580041302, 0.045378934121999115, 0.04537902749085243, 0.04537909544502261, 0.045379080858527154, 0.04537906254899671, 0.045378973075227536, 0.04537906699622296, 0.0453789168039046, 0.04537890741056261, 0.045379087396137385, 0.045379060784884184, 0.04537903382727615, 0.045379070362009166, 0.04537908616559638, 0.04537902611070377, 0.04537898520442185, 0.04537915222707978, 0.0453791742279841, 0.04537913262365656, 0.04537899710131976, 0.045378865338732255, 0.04537914349741434, 0.04537900141388651, 0.04537904807075399, 0.045378977396520526, 0.045378962730206696, 0.04537908891051501, 0.04537912277970113, 0.045378945638942736, 0.04537899737619011, 0.04537898355961911, 0.045378912987730224, 0.045379149495598514, 0.045378912987730224, 0.045379143312447856, 0.04537903545168975, 0.04537891222529311, 0.0453789098234344, 0.045379125203575565, 0.04537920728037059, 0.04537926529985492, 0.04537918950460973, 0.045379206500414715, 0.039378334131818904, 0.039378335721798496, 0.03937835192897954, 0.03937836816735196, 0.03937833448336081, 0.039378336472776776, 0.03937833535146362, 0.039378336062429464, 0.03937840774969892, 0.039378319808839435, 0.039378334445618, 0.03937833498576104, 0.03937833498527166, 0.039378339133667506, 0.03937834800523532, 0.039378346202871395, 0.039378396043667, 0.039378239773184, 0.03937826183296478, 0.039378355448934865, 0.03937836875138634, 0.03937830302204082, 0.03937835979342974, 0.039378315800291386, 0.039378334505490886, 0.039378244127912354, 0.03937819376222984, 0.03937838883879097, 0.03937828309206959, 0.03937836346890988, 0.03937834315910271, 0.03937831374226297, 0.039378313296903666, 0.039378362471935824, 0.03937839592896697, 0.03937840192621833, 0.039378327729218565, 0.03937832122637941, 0.03937826199530792, 0.03937833163713822, 0.039378370722431666, 0.03937830890613514, 0.039378355570722, 0.039378330349101875, 0.039378335993208835, 0.03937830237005491, 0.039378316993214146, 0.03937827635524915, 0.03937836122692484, 0.0393783773804931, 0.03937840989657093, 0.03937837543612621, 0.03937824601164763, 0.03937828961268597, 0.03937837712559478, 0.03937837364470498, 0.03937837994085236, 0.03937829419470573, 0.03937835606607665, 0.039378395220809215, 0.03937829380985747, 0.039378334131818904, 0.039378336444037654, 0.03937833613484998, 0.039378335820205224, 0.03937833514954958, 0.03937833498044563, 0.03937833526131662, 0.039378335346665794, 0.03937833517311029, 0.039378334432431994, 0.03937833576902294, 0.039378336215127985, 0.039378335634165595, 0.03937833672508828, 0.03937833574875704, 0.0393783356650913, 0.03937833641502364, 0.039378333998255965, 0.039378334956212346, 0.03937833518277756, 0.039378337187343515, 0.039378334835340145, 0.03937833657571577, 0.039378334466112164, 0.03937833556724524, 0.03937833434711513, 0.03937833414631797, 0.03937833577636207, 0.03937833620323594, 0.0393783352617848, 0.039378335351176186, 0.03937833376967248, 0.039378335099189865, 0.03937833651327427, 0.03937833707807392, 0.039378336472064124, 0.03937833544450753, 0.03937833517047162, 0.039378334811981386, 0.039378334983885765, 0.039378335824218014, 0.03937833515833, 0.03937833531230994, 0.03937833618535336, 0.03937833502952215, 0.039378335358535854, 0.039378334880493804, 0.03937833582367567, 0.03937833635799093, 0.039378336785468426, 0.039378334968110384, 0.03937833420622194, 0.03937833551737635, 0.039378335025925026, 0.03937833685040093, 0.039378336479755305, 0.03937833512055111, 0.03937833463051621, 0.03937833559555559, 0.03937833690281378, 0.03937833511518429, 0.03941891060927405, 0.039418909459344675, 0.03941891047400681, 0.039418909976828176, 0.03941891096925032, 0.03941890819307314, 0.03941890917418667, 0.03941891089365068, 0.039418910644481886, 0.039418910114415895, 0.039418909991636775, 0.03941891034142986, 0.03941891144447052, 0.0394189118821241, 0.03941890978738716, 0.03941890987012264, 0.039418911163369486, 0.039418909777307665, 0.03941890958792982, 0.03941890986448693, 0.039418912606815515, 0.03941891027796818, 0.03941890910462842, 0.03941891166119582, 0.03941891059249414, 0.03941890963199457, 0.03941890972173667, 0.039418910199529145, 0.039418910252019934, 0.03941891053938196, 0.03941891041582579, 0.03941890994975106, 0.0394189095627141, 0.03941891033667255, 0.03941890892001465, 0.03941891044661128, 0.039418910633213344, 0.03941891045928292, 0.03941890992286323, 0.039418910772834104, 0.03941891132093567, 0.03941891007435083, 0.039418910256958206, 0.0394189093861087, 0.03941891051108559, 0.03941891210279902, 0.03941891117946217, 0.039418909001756375, 0.039418910256317496, 0.039418911243663035, 0.03941891054291735, 0.039418911243663035, 0.03941891076165105, 0.0394189102716741, 0.03941891020718413, 0.03941891025849287, 0.039418911622004504, 0.039418911306023596, 0.03941891115001894, 0.03941890937801562, 0.03941891162471878, 0.03915330372178294, 0.03915330406754425, 0.03915330536320438, 0.039153305792149595, 0.03915330489984259, 0.03915330528685301, 0.03915330392000482, 0.03915330343208445, 0.0391533052491666, 0.03915330216446655, 0.03915330477900747, 0.039153305546359984, 0.03915330496075098, 0.03915330469392264, 0.03915330509101622, 0.039153305058734045, 0.03915330391745819, 0.03915330415927609, 0.039153304085637886, 0.03915330568380615, 0.03915330287389207, 0.03915330368839598, 0.039153303271226236, 0.03915330453478594, 0.03915330463087363, 0.03915330398933781, 0.03915330280543328, 0.03915330572796061, 0.03915330429182495, 0.039153303539016915, 0.03915330458033439, 0.03915330562288133, 0.03915330314375243, 0.039153305114707604, 0.03915330308202147, 0.03915330534606054, 0.03915330497942948, 0.039153304714541926, 0.03915330125134442, 0.03915330533153838, 0.03915330446796561, 0.03915330384823046, 0.03915330388978466, 0.0391533044358634, 0.03915330381876758, 0.039153305378525904, 0.03915330389667171, 0.03915330390788663, 0.0391533045809469, 0.03915330403825523, 0.03915330460112021, 0.03915330403825523, 0.039153304572892456, 0.039153303918368576, 0.03915330413993734, 0.03915330440811449, 0.039153304497636765, 0.039153303035270315, 0.03915330631430336, 0.039153306289476664, 0.039153303492737046, 0.039091394513018685, 0.03909139476046419, 0.039091391933723574, 0.039091393020460496, 0.039091393557234344, 0.039091394787755696, 0.03909139475289958, 0.03909139292303887, 0.03909139375771442, 0.03909139428830033, 0.03909139421366181, 0.03909139400864137, 0.039091394314494377, 0.03909139341783263, 0.039091395588155664, 0.039091392996788876, 0.03909139384608018, 0.03909139360210434, 0.03909139213182089, 0.03909139456583455, 0.039091393328964164, 0.03909139261598582, 0.0390913928584351, 0.039091393006714714, 0.039091393786679696, 0.03909139192660349, 0.0390913928277824, 0.039091392596658836, 0.03909139252050087, 0.039091395070032675, 0.03909139288703367, 0.039091394163604076, 0.03909139352391977, 0.03909139329691913, 0.03909139387941252, 0.03909139397175165, 0.03909139291782404, 0.039091393818187825, 0.03909139278058904, 0.03909139293093933, 0.03909139425043484, 0.03909139371928838, 0.03909139397283834, 0.039091393942997654, 0.03909139289920116, 0.03909139189610589, 0.03909139232184611, 0.0390913944900273, 0.03909139517864901, 0.039091393661211615, 0.039091394047607086, 0.039091394077069075, 0.03909139395691419, 0.039091393753804105, 0.039091393964933885, 0.03909139397018324, 0.03909139354958324, 0.039091393255552, 0.039091394647409405, 0.03909139281454621, 0.03909139368240078, 0.039091394513018685, 0.03909139256974237, 0.03909139388712779, 0.039091394523977474, 0.039091393778033834, 0.039091393722998746, 0.039091394507086874, 0.03909139467171796, 0.03909139212323831, 0.039091392635862365, 0.03909139496937153, 0.0390913935852607, 0.03909139435332032, 0.039091393477831304, 0.039091393007417374, 0.03909139219536939, 0.03909139381910787, 0.039091393402206465, 0.03909139240016479, 0.03909139332513811, 0.03909139301951825, 0.03909139405517337, 0.03909139260645611, 0.039091392717973794, 0.039091394097429344, 0.03909139329986233, 0.039091394286129066, 0.03909139301378284, 0.03909139426581609, 0.03909139294531838, 0.039091394394927814, 0.03909139242566051, 0.03909139432332276, 0.03909139275965279, 0.039091391262211395, 0.03909139404152706, 0.03909139345738044, 0.039091394107997224, 0.03909139414238849, 0.03909139364619796, 0.039091394889600006, 0.03909139344563595, 0.03909139356596025, 0.03909139400486206, 0.03909139280728846, 0.039091394213972896, 0.0390913939264923, 0.039091392914521905, 0.03909139380910798, 0.039091391929373276, 0.039091391816082344, 0.039091391929373276, 0.039091393887320414, 0.039091392379953405, 0.039091394302917415, 0.03909139207101209, 0.039091393131009844, 0.03909139380220361, 0.039091395044938526, 0.03909139298998776, 0.03909139338623524, 0.160077806498515, 0.1600778085656468, 0.1600778032144322, 0.16007780743864097, 0.1600778047537187, 0.16007780517039782, 0.16007780652706083, 0.16007780722514886, 0.16007780656648463, 0.16007780627518464, 0.1600778061221071, 0.1600778061346585, 0.16007780572337982, 0.1600778052821159, 0.16007780703052743, 0.1600778063786481, 0.16007780732480004, 0.16007780517960224, 0.16007780694850782, 0.1600778072347918, 0.16007780377590608, 0.16007780704960173, 0.16007780705216745, 0.1600778051023708, 0.16007780295508944, 0.16007780529407079, 0.1600778040944545, 0.1600778067277283, 0.1600778060756216, 0.16007780524020854, 0.16007780411892591, 0.16007780657214454, 0.16007780655906467, 0.16007780550841266, 0.16007780716729725, 0.1600778040167049, 0.16007780347185763, 0.16007780586373999, 0.16007780626937185, 0.1600778058450082, 0.16007780565182017, 0.16007780716159292, 0.1600778067587022, 0.1600778060057766, 0.16007780707137897, 0.16007780574336428, 0.1600778062228868, 0.16007780476135103, 0.160077806921895, 0.1600778078154742, 0.160077806255971, 0.16007780649326098, 0.16007780622037726, 0.16007780682634687, 0.16007780735766097, 0.16007780636248314, 0.16007780486043244, 0.16007780458228626, 0.16007780422106654, 0.16007780705017327, 0.16007780561689178, 0.04509599508671647, 0.045095996665426075, 0.045095994092745895, 0.04509599668939002, 0.04509599523031238, 0.04509599585214907, 0.045095993843139226, 0.0450959951771539, 0.04509599473421666, 0.045095995434226155, 0.04509599443132617, 0.04509599452739954, 0.04509599449821777, 0.045095994881238055, 0.04509599639090689, 0.04509599545180221, 0.04509599475826498, 0.045095995411671086, 0.045095992926706185, 0.04509599474067816, 0.04509599430411981, 0.04509599419959154, 0.04509599573784462, 0.045095995870756966, 0.045095996109477454, 0.04509599558746358, 0.04509599502379069, 0.04509599518621121, 0.04509599442503054, 0.04509599526002683, 0.04509599548065779, 0.045095996109067116, 0.04509599511777196, 0.04509599516262186, 0.0450959945710091, 0.04509599505127415, 0.045095994931769745, 0.04509599627631988, 0.0450959950447376, 0.04509599419303667, 0.045095996434495356, 0.04509599410830478, 0.04509599421899246, 0.04509599469064263, 0.045095995009753476, 0.04509599507819051, 0.0450959951604476, 0.04509599537020803, 0.04509599467663783, 0.04509599550092325, 0.04509599629336247, 0.04509599600513026, 0.04509599616204951, 0.045095995631193486, 0.04509599564607958, 0.045095995543635414, 0.04509599532708952, 0.04509599450689794, 0.04509599569984324, 0.04509599454035451, 0.04509599519737373, 0.039085754256532046, 0.03908575326186925, 0.039085753537097645, 0.03908575368615441, 0.0390857536410788, 0.039085753818171365, 0.039085752544539276, 0.03908575404184411, 0.03908575126263081, 0.03908575422173344, 0.03908575271800441, 0.039085751875948205, 0.039085753299292425, 0.0390857548606478, 0.03908575325219521, 0.03908575369273526, 0.03908575419791971, 0.039085752654925865, 0.03908575244056822, 0.03908575397982983, 0.03908575392167035, 0.039085754745542656, 0.039085754617190216, 0.039085754236664716, 0.039085754692392616, 0.03908575476267073, 0.03908575289567784, 0.039085754152728414, 0.0390857539758116, 0.03908575580449314, 0.03908575401854064, 0.03908575498040101, 0.03908575422399796, 0.039085754230610115, 0.03908575410298365, 0.03908575307400952, 0.03908575386276203, 0.039085755276960565, 0.03908575399904002, 0.039085753655444866, 0.039085754958706254, 0.03908575393789526, 0.03908575333358011, 0.039085753599852, 0.03908575369107392, 0.03908575362316358, 0.03908575357646449, 0.039085753781783694, 0.039085751790898904, 0.03908575381725721, 0.03908575434912598, 0.0390857539444186, 0.039085752367029714, 0.03908575424786731, 0.03908575428792016, 0.03908575422221938, 0.03908575468279574, 0.03908575313305862, 0.039085754564559205, 0.039085753350521224, 0.039085753769230736, 0.038884937708341005, 0.03888493751582767, 0.03888493800172588, 0.03888493720581243, 0.03888493756241118, 0.03888493832642814, 0.0388849373443475, 0.03888493748065025, 0.038884937032522715, 0.0388849382317451, 0.038884938171019345, 0.03888493792042336, 0.03888493822621186, 0.0388849379034113, 0.03888493657101544, 0.038884936689322025, 0.03888493813581373, 0.038884936444574136, 0.038884937944421494, 0.038884937495324845, 0.03888493764135281, 0.038884937074600945, 0.03888493811681748, 0.038884937526900365, 0.038884938155684945, 0.038884937505374584, 0.038884936027042016, 0.038884938887449816, 0.0388849377067535, 0.03888493602327914, 0.03888493816764438, 0.0388849375016439, 0.038884937333923175, 0.038884936375452095, 0.0388849368412455, 0.03888493907398516, 0.03888493762519485, 0.03888493735843912, 0.03888493761001055, 0.038884937263806485, 0.03888493798163717, 0.03888493690860573, 0.038884938411897996, 0.03888493736964438, 0.038884937827600274, 0.038884937915266704, 0.03888493641575774, 0.03888493772498258, 0.03888493670261417, 0.03888493636024748, 0.03888493780498614, 0.03888493816344063, 0.038884936917600754, 0.03888493753028577, 0.038884937588003265, 0.038884937012077736, 0.03888493857727926, 0.038884936674454695, 0.03888493637028423, 0.03888493700345075, 0.038884937513431805, 0.038757331596871114, 0.038757331447525356, 0.03875733065261755, 0.038757330351602115, 0.03875733128610781, 0.03875733188733266, 0.038757330345808305, 0.03875733078157506, 0.03875733114117674, 0.03875733198159992, 0.038757330764011555, 0.0387573302702483, 0.038757331317466615, 0.03875733080643151, 0.03875733146352778, 0.03875733104381096, 0.03875733160008765, 0.03875733129064729, 0.03875733283334981, 0.038757331776561155, 0.0387573297709759, 0.038757330762634656, 0.03875733248936453, 0.03875733224418065, 0.03875733056980113, 0.03875733112982249, 0.03875733014480698, 0.03875733112803037, 0.03875733024390993, 0.03875733047123209, 0.03875733096939615, 0.0387573326918883, 0.03875733230474365, 0.03875733231424594, 0.03875733065491316, 0.03875733119293978, 0.03875733082772148, 0.038757331902971814, 0.03875733235440748, 0.03875733182114327, 0.03875733126772285, 0.038757331129954165, 0.03875733141019333, 0.038757331334280054, 0.038757331413111995, 0.03875733148522542, 0.03875733130912151, 0.038757331519482574, 0.038757331710575826, 0.03875733147826699, 0.03875733064024944, 0.03875733083016775, 0.03875733042693641, 0.03875733156925809, 0.038757330693840686, 0.03875732998233028, 0.03875733241352419, 0.03875733142247462, 0.03875733104022616, 0.03875733135089465, 0.038757332108929954, 0.03866903895139073, 0.03866903932496202, 0.038669040032125124, 0.03866904047676156, 0.03866903988067516, 0.03866903823155621, 0.0386690400624593, 0.03866903995132154, 0.03866903971984492, 0.03866903818821932, 0.03866903983146586, 0.03866903969222368, 0.038669039452725706, 0.03866904018662698, 0.03866904028482521, 0.038669039883613254, 0.03866903949889633, 0.0386690401126476, 0.03866904043795982, 0.03866903944880651, 0.03866904031242624, 0.03866903877520922, 0.038669040273099475, 0.038669038922036214, 0.03866903915127018, 0.038669040124442944, 0.038669039729104404, 0.03866904063651122, 0.03866903862055704, 0.038669041231166656, 0.03866904066313781, 0.03866903883676731, 0.03866904018418449, 0.038669040050576364, 0.038669038699118974, 0.03866904032631602, 0.03866903973814295, 0.03866903874917682, 0.038669039940869676, 0.03866904080160172, 0.03866903834887481, 0.03866903936434418, 0.03866903877112371, 0.038669039553692386, 0.03866904079874589, 0.03866903961534385, 0.038669039663524085, 0.038669040255862375, 0.038669040258204834, 0.0386690405024005, 0.03866903881679029, 0.03866903997262072, 0.038669039389824245, 0.038669039901066515, 0.03866903883434902, 0.0386690400518509, 0.038669039392826954, 0.03866903962471213, 0.03866903981094705, 0.038669039096512425, 0.03866903820546774, 0.03869776636050748, 0.038697766089895835, 0.03869776647433365, 0.038697765631758085, 0.03869776656519297, 0.03869776771351452, 0.038697767875320754, 0.03869776725535612, 0.038697767698292584, 0.03869776769374722, 0.03869776741333075, 0.03869776719809226, 0.03869776634109512, 0.03869776685436588, 0.03869776814351733, 0.038697766998398, 0.03869776790204771, 0.03869776664992719, 0.03869776792512747, 0.03869776719640594, 0.03869776617362408, 0.03869776627668686, 0.03869776742326758, 0.03869776585976059, 0.03869776674680814, 0.03869776720859208, 0.03869776692571769, 0.0386977675355652, 0.03869776685954751, 0.038697767595785026, 0.038697766577902803, 0.0386977670749481, 0.038697766415406676, 0.038697766930648636, 0.03869776678168346, 0.038697766982949466, 0.03869776654128165, 0.038697768569708746, 0.038697766557083235, 0.03869776776380329, 0.03869776648956835, 0.038697766122701704, 0.0386977671233496, 0.03869776518753376, 0.03869776666815883, 0.038697767093263113, 0.038697768538946575, 0.03869776805643976, 0.03869776614140552, 0.0386977667405658, 0.038697767254587845, 0.0386977676794692, 0.038697766002269596, 0.03869776719434803, 0.0386977668036681, 0.03869776801234559, 0.038697767339734956, 0.03869776740309139, 0.03869776600404562, 0.038697767172521824, 0.03869776735994934, 0.03867086799142194, 0.03867086588203328, 0.03867086723520774, 0.03867086642652395, 0.03867086657088137, 0.038670866810071036, 0.038670866669469395, 0.03867086575429146, 0.038670866406448234, 0.03867086642566753, 0.03867086676035181, 0.03867086677735676, 0.038670866155221195, 0.03867086719852264, 0.03867086564961786, 0.03867086650596052, 0.03867086501038519, 0.03867086640026274, 0.03867086619360738, 0.038670866263117, 0.03867086694863353, 0.038670867150812804, 0.03867086531102115, 0.038670866048454156, 0.03867086706450118, 0.03867086604431513, 0.03867086595862024, 0.03867086708260015, 0.03867086622046101, 0.03867086700033706, 0.038670866370781876, 0.03867086730405589, 0.03867086562186428, 0.03867086609986503, 0.03867086784342533, 0.03867086661407926, 0.038670867187908686, 0.03867086695961641, 0.038670865697066126, 0.038670866746236876, 0.038670867108622886, 0.03867086776740669, 0.03867086743822812, 0.03867086569712441, 0.03867086635062211, 0.038670866440697726, 0.03867086608827386, 0.03867086637101702, 0.038670865468049875, 0.03867086658488983, 0.0386708664702734, 0.03867086580684154, 0.03867086713137213, 0.038670864908306624, 0.03867086490520277, 0.038670866536986925, 0.03867086643547191, 0.03867086570170786, 0.03867086597841307, 0.0386708674396431, 0.038670864911966696, 0.03866962892263237, 0.03866962927588391, 0.03866962914359806, 0.038669629893465896, 0.03866963034560167, 0.03866963043393534, 0.03866962919888117, 0.03866962889922876, 0.03866963082799513, 0.0386696291429528, 0.03866963058342332, 0.03866962990697054, 0.03866962995035339, 0.03866963030699644, 0.038669627850059896, 0.0386696299921897, 0.038669629917945425, 0.03866963021793257, 0.03866962958692344, 0.03866963010251412, 0.03866962932131257, 0.03866962808689933, 0.03866963025305681, 0.038669628785619525, 0.03866962869541268, 0.038669629778742, 0.03866962938106866, 0.03866962901740989, 0.03866962871340851, 0.03866962858650347, 0.03866963137714119, 0.0386696291331341, 0.03866962951472086, 0.038669628691355595, 0.038669629623494184, 0.038669629462824706, 0.03866962955659936, 0.03866962914225491, 0.03866962886405079, 0.03866962902711846, 0.03866963099605358, 0.03866963045682148, 0.03866962973621346, 0.03866962982375721, 0.038669629838873565, 0.03866962780749128, 0.03866962748808633, 0.03866962971452814, 0.03866962847801736, 0.03866962930913964, 0.03866962912179528, 0.03866963028424164, 0.03866963021443792, 0.03866963009506941, 0.038669629488598645, 0.038669629796741156, 0.03866963006114721, 0.038669629426546615, 0.03866962892788861, 0.03866963003908486, 0.038669629586113974, 0.03867107045561602, 0.038671070635371674, 0.03867106964504685, 0.038671070463808355, 0.038671069860993224, 0.03867106922954644, 0.0386710696393866, 0.03867106905651552, 0.03867107018108573, 0.03867107003543191, 0.038671069361702504, 0.038671070022740395, 0.03867107008357762, 0.038671069687353565, 0.03867106870976522, 0.038671069911581424, 0.03867107060303854, 0.038671068957002674, 0.038671068670012354, 0.03867107102730494, 0.03867107001699832, 0.038671068901156125, 0.03867106955889066, 0.038671069557067894, 0.03867106981379609, 0.038671070204453706, 0.03867106901476791, 0.038671070563697785, 0.03867106878095783, 0.03867106922986874, 0.03867107063486408, 0.038671070528716434, 0.03867106829385547, 0.038671070587181, 0.038671069558360416, 0.03867106849062896, 0.03867106983153468, 0.03867107051831342, 0.03867106962608968, 0.03867106976821866, 0.03867107039496398, 0.03867107014499138, 0.03867107074471654, 0.03867106999034553, 0.03867106880408244, 0.03867106999724401, 0.038671069994836826, 0.038671068265306974, 0.03867106899116468, 0.03867107008797033, 0.03867106947979748, 0.0386710707615352, 0.03867106978402768, 0.03867106998256531, 0.03867106967026024, 0.03867107053216634, 0.03867106947877108, 0.03867106986052182, 0.03867107034418782, 0.03867107012588722, 0.03867107062609154, 0.03866832281897625, 0.038668322751198025, 0.03866832346317439, 0.0386683220346723, 0.0386683220536419, 0.038668322906851516, 0.03866832287240951, 0.03866832329812775, 0.03866832219225247, 0.03866832233345463, 0.03866832361644612, 0.038668323756073764, 0.0386683239750546, 0.038668322333841765, 0.0386683236679789, 0.038668323139478655, 0.0386683219636591, 0.03866832428176892, 0.03866832196218983, 0.03866832420265931, 0.03866832399079556, 0.038668322338901384, 0.038668323323170495, 0.03866832288585931, 0.0386683218724887, 0.03866832417514532, 0.03866832360661565, 0.03866832291126343, 0.03866832210723958, 0.03866832309102397, 0.038668322696869595, 0.03866832325328495, 0.03866832252176444, 0.03866832292357414, 0.038668322655451726, 0.038668320604155704, 0.038668323962598006, 0.03866832343587279, 0.038668323267618376, 0.03866832389277697, 0.038668323342832434, 0.03866832221098848, 0.03866832422419708, 0.03866832378299423, 0.03866832213191429, 0.0386683231837438, 0.03866832297097167, 0.03866832314798341, 0.038668323123732695, 0.038668322931168286, 0.03866832285341537, 0.038668322735612715, 0.03866832213262106, 0.03866832395688802, 0.038668322687585355, 0.03866832303110146, 0.03866832326111769, 0.038668322635520336, 0.03866832323893499, 0.03866832367563677, 0.03866832178167989, 0.03866894324748349, 0.03866894299758716, 0.03866894318994263, 0.03866894257705178, 0.03866894309421787, 0.0386689423256672, 0.03866894239937979, 0.03866894297901957, 0.0386689424248301, 0.038668943436051983, 0.03866894196312609, 0.03866894255741149, 0.03866894139297017, 0.03866894194603632, 0.038668942559925035, 0.03866894337180948, 0.03866894451292502, 0.03866894306553448, 0.038668943793666366, 0.03866894174166602, 0.038668942536468354, 0.03866894274902233, 0.03866894267204346, 0.03866894286892142, 0.03866894223830908, 0.03866894366794593, 0.038668941981703786, 0.03866894096081974, 0.03866894216036865, 0.03866894229505036, 0.03866894233396223, 0.0386689428449305, 0.038668942961791575, 0.03866894374220731, 0.03866894389195352, 0.038668942409883056, 0.038668942470785894, 0.038668943199479444, 0.03866894221554895, 0.03866894206080129, 0.03866894250285513, 0.0386689433979398, 0.03866894177599045, 0.038668941480978436, 0.03866894341410643, 0.03866894331516457, 0.038668941700691684, 0.03866894240266738, 0.03866894206316329, 0.03866894360407003, 0.0386689422297386, 0.03866894206908833, 0.03866894166264956, 0.03866894324613368, 0.03866894245161723, 0.038668943807710465, 0.038668942921562977, 0.038668942201156464, 0.038668941796216494, 0.0386689411485831, 0.038668941802783685, 0.0386693089056801, 0.038669309325526036, 0.03866931003339058, 0.038669309336237134, 0.03866931075044189, 0.03866931044040001, 0.03866930983886219, 0.03866930962785442, 0.03866931030709031, 0.03866931077775071, 0.03866930996880269, 0.0386693109238726, 0.03866931140794472, 0.03866930967957183, 0.038669310038613625, 0.03866931091649606, 0.03866931127115791, 0.038669310081539954, 0.03866931003537344, 0.03866931043235622, 0.038669310509479415, 0.038669310280713076, 0.038669311151944274, 0.038669310302346216, 0.03866930951941139, 0.03866931051662137, 0.03866930971372928, 0.03866930975926797, 0.0386693105887278, 0.03866931072870072, 0.03866930921669487, 0.038669310661493594, 0.03866931070069224, 0.03866931113878025, 0.0386693101802168, 0.038669309683267206, 0.03866930829266657, 0.038669309110268224, 0.03866931052254585, 0.03866930944265434, 0.038669309849610034, 0.03866930919125, 0.03866931033099208, 0.03866931015064756, 0.03866930965048365, 0.03866930957191428, 0.03866931066113277, 0.038669310223921394, 0.03866931054453515, 0.03866930906278698, 0.03866931177829558, 0.03866931094612924, 0.03866931070081725, 0.03866930915324385, 0.038669310848783556, 0.03866930968718718, 0.03866931048427269, 0.038669310337498874, 0.03866931080125369, 0.038669311020886, 0.03866930997490803, 0.03866956323699744, 0.038669563955454955, 0.03866956204355565, 0.03866956205153771, 0.03866956322451054, 0.03866956382267661, 0.03866956254125886, 0.038669563948579455, 0.03866956331925164, 0.03866956388997922, 0.038669563611089974, 0.03866956289640677, 0.03866956388873144, 0.03866956485869821, 0.03866956359637619, 0.03866956300143398, 0.03866956439983327, 0.03866956372438779, 0.03866956353655804, 0.03866956439416935, 0.03866956425864476, 0.03866956396972243, 0.03866956319266679, 0.03866956435990054, 0.038669564627449304, 0.038669563352877856, 0.038669563665157614, 0.03866956249707665, 0.03866956403838928, 0.038669562576612915, 0.03866956400488519, 0.03866956453628134, 0.03866956542298172, 0.0386695638468183, 0.03866956253037657, 0.03866956355267692, 0.038669564607660245, 0.038669564164978354, 0.038669564820326685, 0.038669564104726106, 0.0386695630106203, 0.038669564046547755, 0.038669563379287175, 0.03866956435362334, 0.038669563500214554, 0.03866956252062781, 0.03866956441857983, 0.038669563674435525, 0.03866956318157955, 0.03866956266905408, 0.03866956395978516, 0.03866956433030433, 0.038669562547311576, 0.038669563974744414, 0.038669564137058465, 0.03866956405768274, 0.03866956362506191, 0.03866956326438853, 0.038669563967119736, 0.038669564365970466, 0.03866956396798704, 0.03866961185685136, 0.03866961182939255, 0.038669612741354276, 0.03866961167073557, 0.03866961070805364, 0.03866961160318372, 0.03866961220982257, 0.03866961205921371, 0.038669612620603644, 0.03866961115622225, 0.03866961201287966, 0.03866961188373652, 0.0386696106282689, 0.038669610612053096, 0.038669612220612826, 0.038669611443468255, 0.038669612036686285, 0.038669611267546755, 0.0386696111528515, 0.03866961221333165, 0.038669610701110746, 0.03866961058254048, 0.03866961170234362, 0.03866961149695436, 0.03866961220242082, 0.03866961202701413, 0.03866961011829151, 0.03866961138013281, 0.03866961155265425, 0.038669611564924544, 0.03866961137817271, 0.03866961080092668, 0.03866961154640114, 0.03866961197745278, 0.03866961120262147, 0.038669610743249816, 0.03866961086306764, 0.03866961094491428, 0.03866961033352567, 0.03866961201258501, 0.03866960944681963, 0.03866961050305984, 0.03866961043213879, 0.03866961043710859, 0.03866960949966847, 0.03866961262363622, 0.03866961089014043, 0.03866961065399577, 0.03866961246667555, 0.03866961204150854, 0.038669613301847705, 0.03866961196117602, 0.038669611783947566, 0.038669612606133996, 0.038669610584929015, 0.03866961179210471, 0.03866961175422701, 0.038669610669140764, 0.03866961112722134, 0.03866961172042738, 0.03866961038759931, 0.038669623290962574, 0.03866962207901137, 0.03866962166552679, 0.03866962228239579, 0.03866962241428418, 0.03866962098525628, 0.03866962128775808, 0.03866962245816641, 0.03866962310357869, 0.03866962129016349, 0.03866962199945634, 0.03866962184777367, 0.038669621765507256, 0.03866962323117695, 0.038669623024658706, 0.03866961971346339, 0.038669622465821285, 0.03866962257663753, 0.038669621900234596, 0.038669621053750824, 0.038669621545358024, 0.038669623110030305, 0.03866962169944699, 0.03866962224206505, 0.038669621862997716, 0.03866962220577852, 0.03866962276404606, 0.03866962195013912, 0.03866962246719241, 0.03866962041537292, 0.03866962224876014, 0.03866962205943836, 0.03866962262057039, 0.038669622459563846, 0.03866962103352645, 0.03866962205306146, 0.03866962171112709, 0.038669621147100375, 0.03866962162153109, 0.038669621115008934, 0.03866962307338184, 0.0386696208993621, 0.038669621202919946, 0.03866962165779064, 0.03866962243699523, 0.03866962202726709, 0.03866962339318081, 0.038669622289847605, 0.038669622519903246, 0.038669621102169205, 0.03866962297601961, 0.038669622615970844, 0.03866962099139404, 0.038669622137331494, 0.038669622843982565, 0.038669622384935765, 0.03866962151214659, 0.03866962121574058, 0.038669623352150406, 0.03866962171367938, 0.03866962064384527, 0.03866962633581539, 0.03866962560082998, 0.038669626536021795, 0.03866962368983595, 0.03866962694421083, 0.03866962598070167, 0.03866962628816761, 0.03866962682040331, 0.03866962486671499, 0.03866962493995574, 0.03866962600331003, 0.038669626794502254, 0.03866962624456305, 0.03866962683267383, 0.03866962542239083, 0.038669625106156236, 0.03866962625884052, 0.03866962547561359, 0.03866962489371406, 0.038669624592337803, 0.038669625405629016, 0.03866962603342883, 0.038669624938554414, 0.038669624939943525, 0.03866962565814058, 0.038669625434184396, 0.038669624008796144, 0.03866962610370772, 0.038669625143166186, 0.0386696266368719, 0.0386696257741731, 0.03866962562837173, 0.03866962477693958, 0.03866962557700415, 0.0386696247084054, 0.03866962611677405, 0.03866962554788789, 0.03866962486250569, 0.03866962628193915, 0.03866962669835328, 0.038669624430895944, 0.03866962598021162, 0.038669626733994544, 0.03866962394727824, 0.03866962521337214, 0.03866962653623007, 0.03866962497866766, 0.03866962548157549, 0.03866962699710352, 0.03866962548040975, 0.03866962480365821, 0.03866962635561266, 0.03866962548580333, 0.03866962668425933, 0.03866962709990063, 0.03866962445076172, 0.038669626345385066, 0.03866962567782639, 0.03866962537034835, 0.038669626399600365, 0.03866962659989104, 0.03866962882313141, 0.03866962774646776, 0.03866962729444212, 0.0386696283494562, 0.03866962807546637, 0.03866962818517328, 0.038669628564660496, 0.038669627985801314, 0.038669628580031645, 0.03866962754109071, 0.03866962924430739, 0.038669627718403876, 0.03866962805573548, 0.03866962750252423, 0.03866962880718283, 0.038669628703598025, 0.03866962640158966, 0.03866962744593094, 0.038669627928558215, 0.038669627694676745, 0.03866962788243011, 0.03866962738200652, 0.03866962865473622, 0.03866962713930622, 0.038669626711584804, 0.0386696275831474, 0.038669627063574796, 0.03866962839346533, 0.0386696281765434, 0.03866962691812115, 0.03866962863905676, 0.03866962844853339, 0.038669626931334466, 0.038669627686748975, 0.038669628108081944, 0.03866962675135799, 0.03866962752683578, 0.038669627956976815, 0.038669627849190036, 0.038669628307522075, 0.038669628592888916, 0.038669628437608794, 0.03866962621939185, 0.03866962788939343, 0.03866962739736035, 0.038669627533068796, 0.03866962711335242, 0.03866962706144206, 0.038669627835504095, 0.038669627438623344, 0.03866962583891265, 0.038669627444259835, 0.03866962755744563, 0.038669626907770316, 0.03866962580977151, 0.03866962723832845, 0.03866962731013446, 0.03866962783251304, 0.038669627487280755, 0.03866962687681008, 0.038669628021683944, 0.03866962901520299, 0.038669628718952076, 0.038669629879245826, 0.03866962930809026, 0.03866962959739728, 0.038669628980832926, 0.03866962973564536, 0.03866962975724919, 0.03866963033432069, 0.038669630092710516, 0.038669627664441264, 0.03866962876184976, 0.03866962909226557, 0.03866962941726382, 0.03866962886339076, 0.03866962880377811, 0.03866962972979249, 0.038669628497516206, 0.038669628948880264, 0.03866962888555381, 0.03866962840640886, 0.038669628581396776, 0.038669629172389364, 0.03866962743711888, 0.038669628617974516, 0.03866962960646203, 0.038669628487139285, 0.03866962947545094, 0.03866962843761623, 0.03866962959404541, 0.03866962842552735, 0.038669627576907395, 0.03866962930261175, 0.038669627924979744, 0.03866962903726867, 0.03866962934545992, 0.03866963014310798, 0.03866962902912541, 0.03866962760550907, 0.03866962867057755, 0.03866962901665316, 0.03866962819348707, 0.038669629125987814, 0.038669629579043296, 0.038669627811829144, 0.03866962879809288, 0.03866962787829242, 0.03866962907158211, 0.038669627851772526, 0.03866962929952422, 0.038669628629947383, 0.038669628551430524, 0.03866962919762251, 0.03866962766319537, 0.03866962762021464, 0.03866962722864653, 0.038669629546175366, 0.03866962937044294, 0.03866962993597711, 0.03866962883804703, 0.038669628828944536, 0.038669628998235006, 0.038669629164968744, 0.03866962871598545, 0.03866963023420933, 0.03866962902574134, 0.03866962889706216, 0.038669628826725866, 0.03866962859681056, 0.038669627859340694, 0.03866962944792307, 0.038669629106950154, 0.038669629947890805, 0.038669629847334464, 0.03866962875503066, 0.03866962926632189, 0.03866963016102387, 0.03866962939323848, 0.03866962887518188, 0.03866963052835981, 0.038669629964984686, 0.038669629055609, 0.0386696288057653, 0.03866962900536197, 0.038669628182776195, 0.0386696276820051, 0.03866962888821979, 0.038669628657182264, 0.03866963000628798, 0.038669629582906206, 0.03866962907105753, 0.03866962782599259, 0.0386696295818999, 0.03866962955085018, 0.038669630198622684, 0.03866963027619341, 0.03866962960228071, 0.03866963075005592, 0.03866962891414705, 0.0386696297074941, 0.038669628350314955, 0.03866962805769447, 0.03866962898442672, 0.0386696286368754, 0.03866962822757902, 0.03866962975789312, 0.03866962751906666, 0.03866963006776192, 0.03866962928971096, 0.0386696294406953, 0.038669629700407326, 0.03866962956795206, 0.03866962955792197, 0.038669629692020036, 0.03866962987569755, 0.0386696294226655, 0.03866963022224168, 0.03866963015745417, 0.03866962935005036, 0.038669629364187386, 0.03866962905875526, 0.03866962979508992, 0.03866963020898273, 0.038669629374452064, 0.03866962887122494, 0.038669628432674075, 0.03866962871946644, 0.03866962898221027, 0.03866962934520224, 0.038669628130835854, 0.03866963069445928, 0.038669630294386526, 0.038669628948943546, 0.0386696308875395, 0.03866962970402865, 0.038669629824784724, 0.03866963009993507, 0.03866963000097978, 0.03866963073061491, 0.03866962974072752, 0.03866962955036246, 0.038669629719887855, 0.038669629561676744, 0.03866962946845642, 0.0386696293217762, 0.03866962997414347, 0.03866963004603685, 0.038669627851784294, 0.038669629259123095, 0.038669629574969666, 0.038669630089418816, 0.03866962956857256, 0.03866962943437169, 0.038669630555411616, 0.03866962931714879, 0.03866963029389037, 0.0386696291691776, 0.03866962906999316, 0.03866963033721682, 0.03866962960961795, 0.038669629945884854, 0.03866962978895716, 0.03866963022820091, 0.03866962792208861, 0.038669630099358865, 0.038669630881615125, 0.03866963105207066, 0.038669629440136966, 0.03866963021048264, 0.03866962973166588, 0.03866962813664765, 0.038669628844194004, 0.03866963019511027, 0.03866962830662379, 0.038669627307524324, 0.03866963006318669, 0.038669629563714, 0.0386696291377141, 0.03866962927557971, 0.03866962919629957, 0.03866962847020383, 0.03866962972130905, 0.038669629477588785, 0.038669628319312976, 0.03866962914435457, 0.03866962869980706, 0.038669628953651, 0.03866963001995549, 0.03866962976701627, 0.03866963072899121, 0.038669628391731714, 0.038669630138087885, 0.038669629125601124, 0.038669628871659256, 0.03866962951125508, 0.03866962969267318, 0.03866962995399226, 0.03866963014429603, 0.03866963008100521, 0.03866962990370393, 0.03866962996809764, 0.03866962816590258, 0.03866962931160334, 0.03866962681426678, 0.0386696297427781, 0.038669630406111266, 0.038669630018233314, 0.03866962970655641, 0.038669628727428296, 0.038669630392600296, 0.03866962889768244, 0.038669630298748814, 0.038669629659926374, 0.03866963028149284, 0.03866962880964897, 0.03866962940791241, 0.03866963035977822, 0.03866962950780195, 0.03866963036159221, 0.0386696304254982, 0.03866963067030371, 0.03866962998280776, 0.03866962928056228, 0.03866962982782207, 0.03866963075022456, 0.038669629712320686, 0.03866962898145765, 0.03866962963492815, 0.03866962959947917, 0.03866962836827448, 0.03866963095222109, 0.038669630045807035, 0.03866963088463027, 0.038669631032406504, 0.038669629634920155, 0.038669630139083755, 0.038669629235765, 0.0386696286545799, 0.03866962806570795, 0.038669628981744086, 0.03866963074431162, 0.038669630647691466, 0.03866962960754117, 0.038669629867601585, 0.03866962967199339, 0.038669629623444224, 0.03866963012541191, 0.038669630732790394, 0.03866962941416008, 0.03866962948409236, 0.038669629773790515, 0.038669629522620874, 0.038669629872776334, 0.038669630174340885, 0.038669629719770615, 0.038669627231051495, 0.03866962901879811, 0.03866962845020694, 0.0386696294402441, 0.03866963028776382, 0.038669630506817154, 0.03866963062338302, 0.03866962893301562, 0.03866962931103546, 0.03866962964855303, 0.038669629812565276, 0.038669629971350816, 0.03866962918647587, 0.038669630249613784, 0.03866962964771847, 0.03866962979459332, 0.03866962932516771, 0.038669629834791386, 0.038669629186626864, 0.03866962883420155, 0.03866962838881349, 0.038669630391852894, 0.03866962999541901, 0.03866962873202506, 0.03866962826410392, 0.03866962952057751, 0.03866962938152485, 0.03866962997373724, 0.03866962973699095, 0.038669628163493286, 0.03866962865248158, 0.038669630460441695, 0.03866962873190849, 0.038669629336994915, 0.03866963066192186, 0.03866962937943752, 0.03866962786854533, 0.038669628013251134, 0.03866962748752367, 0.038669628206019824, 0.038669630300017244, 0.03866963063663542, 0.038669629800378025, 0.038669630384030484, 0.038669629593661825, 0.0386696297915724, 0.03866962857214562, 0.038669629838076425, 0.03866963127077616, 0.03866962910794236, 0.03866963032276749, 0.038669627669000506, 0.03866962993788903, 0.038669629176187326, 0.038669629519636595, 0.03866962947712027, 0.038669629156263596, 0.03866963058522688, 0.038669629391398286, 0.03866962860698442, 0.038669628944352996, 0.03866962913034877, 0.03866963072772023, 0.038669629703226516, 0.038669628073420115, 0.03866962969837351, 0.03866962906620819, 0.038669629447554144, 0.038669628802325495, 0.03866963054336292, 0.03866963074712171, 0.038669629894087065, 0.03866962945520491, 0.03866962941994345, 0.03866962870945334, 0.038669630436318214, 0.038669629292704344, 0.0386696296125405, 0.03866963048653105, 0.038669631214170885, 0.038669628506855624, 0.03866962978566313, 0.03866962916139094, 0.038669630322810455, 0.038669629402142136, 0.038669630483779804, 0.03866963011993407, 0.038669629451449805, 0.038669628581053384, 0.03866963008420743, 0.03866962918989936, 0.038669629260759564, 0.03866962751651137, 0.03866963022178049, 0.03866963000637014, 0.03866962857365275, 0.03866962960564768, 0.038669628802029066, 0.038669630780369446, 0.03866962955094777, 0.038669630744946004, 0.03866962936254226, 0.03866962877789859, 0.038669629907971625, 0.03866962846841482, 0.03866962923809769, 0.038669629087191626, 0.03866963013362479, 0.03866963104562604, 0.038669630974827895, 0.03866962881486702, 0.03866963023367209, 0.038669630074015804, 0.03866962777864791, 0.038669630130923505, 0.03866962930462137, 0.03866962951929864, 0.03866962991928291, 0.03866962840920196, 0.03866962951097219, 0.03866963005725488, 0.03866963044561833, 0.0386696299295205, 0.03866963115416222, 0.03866962970305765, 0.038669630988125814, 0.03866962921074346, 0.03866963127669232, 0.03866962976061439, 0.03866963018046521, 0.03866962987470224, 0.03866963061677531, 0.038669629477039, 0.03866962914804262, 0.03866962918271355, 0.03866963033659243, 0.0386696306270341, 0.03866963004602242, 0.03866962983314348, 0.038669628731095695, 0.03866962960632192, 0.03866963073725982, 0.03866963034150961, 0.03866962966319576, 0.038669629249523774, 0.03866962910347549, 0.038669627545845686, 0.03866963041758653, 0.03866963003219437, 0.03866962952562769, 0.038669629512616766, 0.038669629439176734, 0.03866963050999628, 0.0386696286578978, 0.038669627711889754, 0.038669629390471916, 0.038669629444260334, 0.038669629387275806, 0.03866962823578601, 0.03866963006269175, 0.03866962985331268, 0.0386696303980677, 0.03866963050477379, 0.038669630379058906, 0.038669628260687094, 0.03866963032344817, 0.03866963070463225, 0.03866962944673824, 0.03866962921007122, 0.03866963064284701, 0.038669629323106136, 0.03866962962945708, 0.038669628319312976, 0.03866962914435457, 0.03866962869980706, 0.038669628953651, 0.03866963001995549, 0.03866962976701627, 0.03866963072899121, 0.038669628391731714, 0.038669630138087885, 0.038669629125601124, 0.038669628871659256, 0.03866962951125508, 0.03866962969267318, 0.03866962995399226, 0.03866963014429603, 0.03866963008100521, 0.03866962990370393, 0.03866962996809764, 0.03866962816590258, 0.03866962931160334, 0.03866962681426678, 0.0386696297427781, 0.038669630406111266, 0.038669630018233314, 0.03866962970655641, 0.038669628727428296, 0.038669630392600296, 0.03866962889768244, 0.038669630298748814, 0.038669629659926374, 0.03866963028149284, 0.03866962880964897, 0.03866962940791241, 0.03866963035977822, 0.03866962950780195, 0.03866963036159221, 0.0386696304254982, 0.03866963067030371, 0.03866962998280776, 0.03866962928056228, 0.03866962982782207, 0.03866963075022456, 0.038669629712320686, 0.03866962898145765, 0.03866962963492815, 0.03866962959947917, 0.03866962836827448, 0.03866963095222109, 0.038669630045807035, 0.03866963088463027, 0.038669631032406504, 0.038669629634920155, 0.038669630139083755, 0.038669629235765, 0.0386696286545799, 0.03866962806570795, 0.038669628981744086, 0.03866963074431162, 0.038669630647691466, 0.03866962960754117, 0.038669629867601585]\n",
       "      fun: 0.038669628319312976\n",
       " hess_inv: <60x60 LbfgsInvHessProduct with dtype=float64>\n",
       "      jac: array([ 0.08250416,  0.03804941,  0.0634338 ,  0.17006425,  0.14477033,\n",
       "        0.24096782,  0.00724187,  0.18187749,  0.08062881,  0.05523463,\n",
       "        0.11919421,  0.13733602,  0.16346793,  0.18249831,  0.17616922,\n",
       "        0.1584391 ,  0.16487847, -0.01534104,  0.09922904, -0.15050462,\n",
       "        0.14234651,  0.20867983,  0.16989203,  0.13872434,  0.04081153,\n",
       "        0.20732873,  0.05783695,  0.19794358,  0.13406134,  0.19621799,\n",
       "        0.0490336 ,  0.10885994,  0.20404652,  0.1188489 ,  0.20422792,\n",
       "        0.21061852,  0.23509907,  0.16634948,  0.09612493,  0.15085091,\n",
       "        0.24309116,  0.13930077,  0.06621447,  0.13156152,  0.12801662,\n",
       "        0.00489615,  0.26329081,  0.17264941,  0.25653173,  0.27130935,\n",
       "        0.13156072,  0.18197708,  0.0916452 ,  0.03352669, -0.0253605 ,\n",
       "        0.06624311,  0.24249986,  0.23283785,  0.12882282,  0.15482886])\n",
       "  message: b'CONVERGENCE: REL_REDUCTION_OF_F_<=_FACTR*EPSMCH'\n",
       "     nfev: 1647\n",
       "      nit: 4\n",
       "   status: 0\n",
       "  success: True\n",
       "        x: array([2.18226115, 1.47945902, 0.66497415, 3.24429179, 2.86221861,\n",
       "       1.85323991, 3.05864273, 2.25243465, 4.83805362, 0.86048999,\n",
       "       0.05344739, 1.74720691, 0.75726282, 2.14681259, 5.0264369 ,\n",
       "       3.64903246, 5.5543177 , 4.4939827 , 1.37885303, 4.74991437,\n",
       "       0.68719393, 2.83226563, 3.59758955, 3.29718914, 3.75967625,\n",
       "       5.45992816, 0.62364765, 3.52303139, 2.05138691, 2.52908684,\n",
       "       3.58859647, 2.37329081, 0.82479501, 4.8607636 , 4.56916963,\n",
       "       3.35651333, 2.56261337, 2.04704645, 0.00651355, 4.80970109,\n",
       "       5.7712063 , 2.01661514, 2.7156986 , 3.78958653, 5.09483812,\n",
       "       3.7263808 , 5.61261294, 0.49539336, 2.46161641, 0.01406942,\n",
       "       3.28445849, 0.50753081, 2.85465068, 5.58360601, 2.52053564,\n",
       "       3.03912228, 4.4960924 , 5.24805187, 0.40155935, 5.55786631])"
      ]
     },
     "execution_count": 55,
     "metadata": {},
     "output_type": "execute_result"
    }
   ],
   "source": [
    "final_result"
   ]
  },
  {
   "cell_type": "code",
   "execution_count": 36,
   "metadata": {},
   "outputs": [
    {
     "name": "stdout",
     "output_type": "stream",
     "text": [
      "[2.18226115 1.47945902 0.66497415 3.24429179 2.86221861 1.85323991\n",
      " 3.05864273 2.25243465 4.83805362 0.86048999 0.05344739 1.74720691\n",
      " 0.75726282 2.14681259 5.0264369  3.64903246 5.5543177  4.4939827\n",
      " 1.37885303 4.74991437 0.68719393 2.83226563 3.59758955 3.29718914\n",
      " 3.75967625 5.45992816 0.62364765 3.52303139 2.05138691 2.52908684\n",
      " 3.58859647 2.37329081 0.82479501 4.8607636  4.56916963 3.35651333\n",
      " 2.56261337 2.04704645 0.00651355 4.80970109 5.7712063  2.01661514\n",
      " 2.7156986  3.78958653 5.09483812 3.7263808  5.61261294 0.49539336\n",
      " 2.46161641 0.01406942 3.28445849 0.50753081 2.85465068 5.58360601\n",
      " 2.52053564 3.03912228 4.4960924  5.24805187 0.40155935 5.55786631]\n",
      "parameters: [2.18226115 1.47945902 0.66497415 3.24429179 2.86221861 1.85323991\n",
      " 3.05864273 2.25243465 4.83805362 0.86048999 0.05344739 1.74720691\n",
      " 0.75726282 2.14681259 5.0264369  3.64903246 5.5543177  4.4939827\n",
      " 1.37885303 4.74991437 0.68719393 2.83226563 3.59758955 3.29718914\n",
      " 3.75967625 5.45992816 0.62364765 3.52303139 2.05138691 2.52908684\n",
      " 3.58859647 2.37329081 0.82479501 4.8607636  4.56916963 3.35651333\n",
      " 2.56261337 2.04704645 0.00651355 4.80970109 5.7712063  2.01661514\n",
      " 2.7156986  3.78958653 5.09483812 3.7263808  5.61261294 0.49539336\n",
      " 2.46161641 0.01406942 3.28445849 0.50753081 2.85465068 5.58360601\n",
      " 2.52053564 3.03912228 4.4960924  5.24805187 0.40155935 5.55786631]\n",
      "compression dimension ; trash dimension: 2 ; 2\n",
      "partial trace (trash) qubits: [0, 2]\n",
      "number of input states: 45\n"
     ]
    },
    {
     "data": {
      "image/png": "[encoded data removed]",
      "text/plain": [
       "<matplotlib.figure.Figure at 0x7f67fc9f9940>"
      ]
     },
     "metadata": {},
     "output_type": "display_data"
    },
    {
     "name": "stdout",
     "output_type": "stream",
     "text": [
      "fidelities: [0.94796234 0.94839954 0.95010314 0.95133506 0.95279319 0.95445828\n",
      " 0.95631303 0.95834043 0.96052142 0.96283376 0.96775081 0.97030099\n",
      " 0.9728725  0.9754295  0.98031082 0.98251145 0.9844505  0.98604158\n",
      " 0.98719643 0.9878318  0.98787701 0.98601864 0.9840927  0.98153554\n",
      " 0.97840564 0.97478252 0.97075979 0.9664377  0.96191616 0.9572891\n",
      " 0.95264036 0.94804142 0.9435505  0.93921289 0.93506201 0.93112095\n",
      " 0.92391902 0.92066749 0.91764729 0.914853   0.91227694 0.9099099\n",
      " 0.90774157 0.90576103 0.90395698]\n",
      "cost 0.04548371683194685\n",
      "average cost over test set: 0.0010107492629321522\n"
     ]
    }
   ],
   "source": [
    "# test results on test set of data\n",
    "print(final_params)\n",
    "print(\"average cost over test set:\", avg_cost(cost(final_params, test_set, 2, 2, sel, debug=True), len(test_set)))"
   ]
  },
  {
   "cell_type": "code",
   "execution_count": 37,
   "metadata": {},
   "outputs": [
    {
     "data": {
      "text/plain": [
       "(<matplotlib.figure.Figure at 0x7f67fc9832e8>,\n",
       " <matplotlib.axes._subplots.AxesSubplot at 0x7f67fc783898>)"
      ]
     },
     "execution_count": 37,
     "metadata": {},
     "output_type": "execute_result"
    },
    {
     "data": {
      "image/png": "[encoded data removed]",
      "text/plain": [
       "<matplotlib.figure.Figure at 0x7f67fc983f60>"
      ]
     },
     "metadata": {},
     "output_type": "display_data"
    },
    {
     "data": {
      "image/png": "[encoded data removed]",
      "text/plain": [
       "<matplotlib.figure.Figure at 0x7f67fc9832e8>"
      ]
     },
     "metadata": {},
     "output_type": "display_data"
    }
   ],
   "source": [
    "U = create_circuit_gate(n=4, all_params=final_params)\n",
    "dm = U*ket2dm(train_set[1])*U.dag()\n",
    "hinton(ket2dm(train_set[1]))\n",
    "hinton(dm.ptrace([i for i in range(4) if i not in sel]))"
   ]
  },
  {
   "cell_type": "code",
   "execution_count": null,
   "metadata": {},
   "outputs": [],
   "source": []
  }
 ],
 "metadata": {
  "kernelspec": {
   "display_name": "pblt",
   "language": "python",
   "name": "pblt"
  },
  "language_info": {
   "codemirror_mode": {
    "name": "ipython",
    "version": 3
   },
   "file_extension": ".py",
   "mimetype": "text/x-python",
   "name": "python",
   "nbconvert_exporter": "python",
   "pygments_lexer": "ipython3",
   "version": "3.5.2"
  }
 },
 "nbformat": 4,
 "nbformat_minor": 2
}

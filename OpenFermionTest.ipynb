{
 "cells": [
  {
   "cell_type": "code",
   "execution_count": 1,
   "metadata": {},
   "outputs": [
    {
     "data": {
      "text/plain": [
       "['',\n",
       " '/Users/jwbaskerv/miniconda3/lib/python36.zip',\n",
       " '/Users/jwbaskerv/miniconda3/lib/python3.6',\n",
       " '/Users/jwbaskerv/miniconda3/lib/python3.6/lib-dynload',\n",
       " '/Users/jwbaskerv/.local/lib/python3.6/site-packages',\n",
       " '/Users/jwbaskerv/miniconda3/lib/python3.6/site-packages',\n",
       " '/Users/jwbaskerv/miniconda3/lib/python3.6/site-packages/IPython/extensions',\n",
       " '/Users/jwbaskerv/.ipython']"
      ]
     },
     "execution_count": 1,
     "metadata": {},
     "output_type": "execute_result"
    }
   ],
   "source": [
    "import os\n",
    "import sys\n",
    "sys.path"
   ]
  },
  {
   "cell_type": "code",
   "execution_count": 2,
   "metadata": {},
   "outputs": [],
   "source": [
    "# https://github.com/quantumlib/OpenFermion-Psi4/blob/master/examples/openfermionpsi4_demo.ipynb\n",
    "\n",
    "from openfermion.hamiltonians import MolecularData\n",
    "from openfermionpsi4 import run_psi4\n",
    "import matplotlib.pyplot as plt\n",
    "from openfermion.transforms import get_fermion_operator, jordan_wigner, get_sparse_operator\n",
    "from qutip import *\n",
    "import numpy as np"
   ]
  },
  {
   "cell_type": "code",
   "execution_count": 3,
   "metadata": {},
   "outputs": [],
   "source": [
    "# Set molecule parameters.\n",
    "basis = 'sto-3g'\n",
    "multiplicity = 1\n",
    "bond_length_interval = 0.1\n",
    "n_points = 20\n",
    "\n",
    "# Set calculation parameters.\n",
    "run_scf = 1\n",
    "run_mp2 = 1\n",
    "run_cisd = 0\n",
    "run_ccsd = 0\n",
    "run_fci = 1\n",
    "delete_input = True\n",
    "delete_output = True\n",
    "\n",
    "# Generate molecule at different bond lengths.\n",
    "hf_energies = []\n",
    "fci_energies = []\n",
    "bond_lengths = []\n",
    "hamiltonians = []\n",
    "n_qubitss = []\n",
    "for point in range(1, n_points + 1):\n",
    "    bond_length = bond_length_interval * float(point)\n",
    "    bond_lengths += [bond_length]\n",
    "    geometry = [('H', (0., 0., 0.)), ('H', (0., 0., bond_length))]\n",
    "    molecule = MolecularData(\n",
    "        geometry, basis, multiplicity,\n",
    "        description=str(round(bond_length, 2)),\n",
    "        filename=\"data/{}-{}data\".format(basis, bond_length))\n",
    "    \n",
    "    # Run Psi4.\n",
    "    molecule = run_psi4(molecule,\n",
    "                        run_scf=run_scf,\n",
    "                        run_mp2=run_mp2,\n",
    "                        run_cisd=run_cisd,\n",
    "                        run_ccsd=run_ccsd,\n",
    "                        run_fci=run_fci)\n",
    "\n",
    "    # Print out some results of calculation.\n",
    "    n_qubitss += [molecule.n_qubits]\n",
    "    hamiltonian = molecule.get_molecular_hamiltonian()\n",
    "    hamiltonian = jordan_wigner(get_fermion_operator(hamiltonian))\n",
    "    hamiltonians += [hamiltonian]"
   ]
  },
  {
   "cell_type": "code",
   "execution_count": 4,
   "metadata": {},
   "outputs": [],
   "source": [
    "def gen_eigenstates(qf_hamiltonians):\n",
    "    groundenergies = []\n",
    "    groundstates = []\n",
    "    for qf_ham in qf_hamiltonians:\n",
    "        ham = Qobj(get_sparse_operator(qf_ham).todense())\n",
    "        eigenstates = ham.eigenstates()\n",
    "        i = np.argmin(eigenstates[0])\n",
    "        groundenergy, groundstate = eigenstates[0][i], eigenstates[1][i]\n",
    "        groundenergies += [groundenergy]\n",
    "        groundstates += [groundstates]\n",
    "    return groundenergies, groundstates"
   ]
  },
  {
   "cell_type": "code",
   "execution_count": 5,
   "metadata": {},
   "outputs": [],
   "source": [
    "groundenergies, groundstates = gen_eigenstates(hamiltonians)"
   ]
  },
  {
   "cell_type": "code",
   "execution_count": 6,
   "metadata": {},
   "outputs": [
    {
     "data": {
      "text/plain": [
       "(0.3, 3.0)"
      ]
     },
     "execution_count": 6,
     "metadata": {},
     "output_type": "execute_result"
    },
    {
     "data": {
      "image/png": "[encoded data removed]",
      "text/plain": [
       "<matplotlib.figure.Figure at 0x10d8aa4e0>"
      ]
     },
     "metadata": {},
     "output_type": "display_data"
    }
   ],
   "source": [
    "plt.plot(bond_lengths, groundenergies, 'bo-')\n",
    "plt.ylim([-1.15, -0.90])\n",
    "plt.xlim([0.3, 3.0])"
   ]
  },
  {
   "cell_type": "code",
   "execution_count": 55,
   "metadata": {},
   "outputs": [],
   "source": [
    "# # Self-implementation\n",
    "# letter_to_op = {\n",
    "#     'X':sigmax(),\n",
    "#     'Y':sigmay(),\n",
    "#     'Z':sigmaz()\n",
    "# }\n",
    "\n",
    "# def makepaulin(n, info):\n",
    "#     tgt, l = info\n",
    "#     op = letter_to_op[l]\n",
    "#     tmp = [qeye(2) for _ in range(n)]\n",
    "#     tmp[tgt] = op\n",
    "#     return tensor(tmp)\n",
    "\n",
    "# def multipaulin(n, lstinfo):\n",
    "#     res = qeye([2] * n)\n",
    "#     for info in lstinfo:\n",
    "#         res *= makepaulin(n, info)\n",
    "#     return res\n",
    "\n",
    "# def ham_to_op(n, of_hamiltonian):\n",
    "#     terms = of_hamiltonian.terms\n",
    "    \n",
    "#     # generate zeroed operator of correct dimensions\n",
    "#     op = tenseye(n) - tenseye(n)\n",
    "    \n",
    "#     # iterate through terms of hamiltonian\n",
    "#     for key in list(terms.keys()):\n",
    "#         if not key:\n",
    "#             op += qeye([2] * n) * terms[key]\n",
    "#         else:\n",
    "#             # coefficient * product of operators\n",
    "#             op += terms[key] * multipaulin(n, key)\n",
    "#     return op"
   ]
  }
 ],
 "metadata": {
  "kernelspec": {
   "display_name": "Python 3",
   "language": "python",
   "name": "python3"
  },
  "language_info": {
   "codemirror_mode": {
    "name": "ipython",
    "version": 3
   },
   "file_extension": ".py",
   "mimetype": "text/x-python",
   "name": "python",
   "nbconvert_exporter": "python",
   "pygments_lexer": "ipython3",
   "version": "3.6.3"
  }
 },
 "nbformat": 4,
 "nbformat_minor": 2
}

{
 "cells": [
  {
   "cell_type": "code",
   "execution_count": 8,
   "metadata": {},
   "outputs": [],
   "source": [
    "# https://github.com/quantumlib/OpenFermion-Psi4/blob/master/examples/openfermionpsi4_demo.ipynb\n",
    "\n",
    "from openfermion.hamiltonians import MolecularData\n",
    "from openfermionpsi4 import run_psi4\n",
    "import matplotlib.pyplot as plt\n",
    "from openfermion.transforms import get_fermion_operator, jordan_wigner"
   ]
  },
  {
   "cell_type": "code",
   "execution_count": 55,
   "metadata": {},
   "outputs": [],
   "source": [
    "# Set molecule parameters.\n",
    "basis = 'sto-3g'\n",
    "multiplicity = 1\n",
    "bond_length_interval = 0.2\n",
    "n_points = 10\n",
    "\n",
    "# Set calculation parameters.\n",
    "run_scf = 1\n",
    "run_mp2 = 1\n",
    "run_cisd = 0\n",
    "run_ccsd = 0\n",
    "run_fci = 1\n",
    "delete_input = True\n",
    "delete_output = True\n",
    "\n",
    "# Generate molecule at different bond lengths.\n",
    "hf_energies = []\n",
    "fci_energies = []\n",
    "bond_lengths = []\n",
    "hamiltonians = []\n",
    "n_qubitss = []\n",
    "for point in range(1, n_points + 1):\n",
    "    bond_length = bond_length_interval * float(point)\n",
    "    bond_lengths += [bond_length]\n",
    "    geometry = [('H', (0., 0., 0.)), ('H', (0., 0., bond_length))]\n",
    "    molecule = MolecularData(\n",
    "        geometry, basis, multiplicity,\n",
    "        description=str(round(bond_length, 2)),\n",
    "        filename=\"{}data\".format(basis))\n",
    "    \n",
    "    # Run Psi4.\n",
    "    molecule = run_psi4(molecule,\n",
    "                        run_scf=run_scf,\n",
    "                        run_mp2=run_mp2,\n",
    "                        run_cisd=run_cisd,\n",
    "                        run_ccsd=run_ccsd,\n",
    "                        run_fci=run_fci)\n",
    "\n",
    "    # Print out some results of calculation.\n",
    "    n_qubitss += [molecule.n_qubits]\n",
    "    hamiltonian = molecule.get_molecular_hamiltonian()\n",
    "    hamiltonian = jordan_wigner(get_fermion_operator(hamiltonian))\n",
    "    hamiltonians += [hamiltonian]"
   ]
  },
  {
   "cell_type": "code",
   "execution_count": 61,
   "metadata": {},
   "outputs": [],
   "source": [
    "from qutip import *\n",
    "letter_to_op = {\n",
    "    'X':sigmax(),\n",
    "    'Y':sigmay(),\n",
    "    'Z':sigmaz()\n",
    "}\n",
    "def makepaulin(info):\n",
    "    n, l = info\n",
    "    op = letter_to_op(l)\n",
    "    tmp = [qeye(2) for _ in range(n)]\n",
    "    tmp[n] = op\n",
    "    return tensor(tmp)\n",
    "        "
   ]
  },
  {
   "cell_type": "code",
   "execution_count": 60,
   "metadata": {},
   "outputs": [
    {
     "data": {
      "text/plain": [
       "[(),\n",
       " ((0, 'Z'),),\n",
       " ((1, 'Z'),),\n",
       " ((2, 'Z'),),\n",
       " ((3, 'Z'),),\n",
       " ((0, 'Z'), (1, 'Z')),\n",
       " ((0, 'Y'), (1, 'X'), (2, 'X'), (3, 'Y')),\n",
       " ((0, 'Y'), (1, 'Y'), (2, 'X'), (3, 'X')),\n",
       " ((0, 'X'), (1, 'X'), (2, 'Y'), (3, 'Y')),\n",
       " ((0, 'X'), (1, 'Y'), (2, 'Y'), (3, 'X')),\n",
       " ((0, 'Z'), (2, 'Z')),\n",
       " ((0, 'Z'), (3, 'Z')),\n",
       " ((1, 'Z'), (2, 'Z')),\n",
       " ((1, 'Z'), (3, 'Z')),\n",
       " ((2, 'Z'), (3, 'Z'))]"
      ]
     },
     "execution_count": 60,
     "metadata": {},
     "output_type": "execute_result"
    }
   ],
   "source": [
    "import numpy as np\n",
    "terms = hamiltonians[0].terms\n",
    "keys = list(terms.keys())\n",
    "keys"
   ]
  },
  {
   "cell_type": "code",
   "execution_count": 59,
   "metadata": {},
   "outputs": [],
   "source": [
    "# create tensored identity in hilbert space of n qubits\n",
    "def tenseye(n):\n",
    "    return tensor([qeye(2) for _ in range(n)])"
   ]
  },
  {
   "cell_type": "code",
   "execution_count": 54,
   "metadata": {},
   "outputs": [
    {
     "name": "stdout",
     "output_type": "stream",
     "text": [
      "(2.310256807722983+0j)\n",
      "(0.2822059667865101+0j)\n",
      "(0.28220596678651017+0j)\n",
      "(-0.6482825607180809+0j)\n",
      "(-0.6482825607180807+0j)\n",
      "(0.19101549672636234+0j)\n",
      "(0.03949317716219772+0j)\n",
      "(-0.03949317716219772+0j)\n",
      "(-0.03949317716219772+0j)\n",
      "(0.03949317716219772+0j)\n",
      "(0.14936430821754437+0j)\n",
      "(0.18885748537974228+0j)\n",
      "(0.18885748537974228+0j)\n",
      "(0.14936430821754437+0j)\n",
      "(0.20032333916922285+0j)\n"
     ]
    }
   ],
   "source": [
    "def ham_to_op(n, of_hamiltonian):\n",
    "    terms = of_hamiltonian.terms\n",
    "    \n",
    "    # generate zeroed operator of correct dimensions\n",
    "    op = tenseye(n) - tenseye(n)\n",
    "    \n",
    "    # iterate through terms of hamiltonian\n",
    "    for key in list(terms.keys()):\n",
    "        "
   ]
  },
  {
   "cell_type": "code",
   "execution_count": null,
   "metadata": {},
   "outputs": [],
   "source": []
  }
 ],
 "metadata": {
  "kernelspec": {
   "display_name": "pblt",
   "language": "python",
   "name": "pblt"
  },
  "language_info": {
   "codemirror_mode": {
    "name": "ipython",
    "version": 3
   },
   "file_extension": ".py",
   "mimetype": "text/x-python",
   "name": "python",
   "nbconvert_exporter": "python",
   "pygments_lexer": "ipython3",
   "version": "3.6.3"
  }
 },
 "nbformat": 4,
 "nbformat_minor": 2
}
